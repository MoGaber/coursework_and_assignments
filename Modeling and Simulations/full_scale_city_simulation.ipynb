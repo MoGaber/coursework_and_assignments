{
 "cells": [
  {
   "cell_type": "code",
   "execution_count": 1,
   "metadata": {},
   "outputs": [],
   "source": [
    "import numpy as np\n",
    "import random\n",
    "import pylab\n",
    "\n",
    "import matplotlib.pyplot as plt\n",
    "import copy\n",
    "import matplotlib as mpl\n",
    "import collections\n",
    "import matplotlib\n",
    "import matplotlib.animation as animation\n",
    "from IPython.display import Video\n",
    "import seaborn as sns"
   ]
  },
  {
   "cell_type": "markdown",
   "metadata": {},
   "source": [
    "# Simulation"
   ]
  },
  {
   "cell_type": "code",
   "execution_count": 2,
   "metadata": {},
   "outputs": [],
   "source": [
    "colors_dict = {'Empty': 0, 'Building': 1, 'Car': 2, 'green': 3, 'red': 4, 'orange': 5}"
   ]
  },
  {
   "cell_type": "code",
   "execution_count": 3,
   "metadata": {},
   "outputs": [],
   "source": [
    "def observe(config):\n",
    "    \n",
    "    \"\"\"\n",
    "    A function to obsere the state of CA. The CA array has objects instead of numbers so this function will\n",
    "    first replace each object by its CA value.\n",
    "    \"\"\"\n",
    "    \n",
    "    vectorized_x = np.vectorize(lambda obj: obj.cell_value)\n",
    "\n",
    "    view_grid = vectorized_x(config)\n",
    "    \n",
    "    plt.figure(figsize = (10, 8))\n",
    "    \n",
    "    colors = ['white', 'gray', 'black',  'green','red' , 'blue', 'orange']\n",
    "    bounds = [ 0,1,2,3,4, 5, 6]\n",
    "\n",
    "    cmap = mpl.colors.ListedColormap(colors)\n",
    "    norm = mpl.colors.BoundaryNorm(bounds, cmap.N)\n",
    "    pylab.cla()\n",
    "    pylab.imshow(view_grid, interpolation='none', cmap=cmap, norm=norm)\n",
    "    \n",
    "class Q:\n",
    "    \"\"\"\n",
    "    A class for the queue of cars at the stop signs to model the first arrives first leaves rule\n",
    "    \"\"\"\n",
    "    def __init__(self):\n",
    "        self.q = []\n",
    "    \n",
    "    \n",
    "class city_block:\n",
    "    \"\"\"\n",
    "    A class to represent the building/block areas of the city (the areas where cars can't move in).\n",
    "    \"\"\"\n",
    "    def __init__(self):\n",
    "        self.cell_value = 1\n",
    "    \n",
    "class city_cell:\n",
    "    \n",
    "    \"\"\"\n",
    "    A class to represent the roads of the city. Each cell can be either empty (0) or can carry\n",
    "    one car (1). \n",
    "    \"\"\"\n",
    "    def __init__(self,  direction = None ):\n",
    "        self.cell_value = 0\n",
    "        self.direction = None \n",
    "        self.contains_car = False\n",
    "    \n",
    "    def fill_car(self, car):\n",
    "        \"\"\"\n",
    "        To change the value of the empty cell when a car moves on it\n",
    "        \"\"\"\n",
    "        self.contains_car = car\n",
    "        self.cell_value = 2\n",
    "        if not car.direction:\n",
    "            car.direction = self.direction\n",
    "    def empty_car(self):\n",
    "        \"\"\"\n",
    "        To remove the car and change the cell back to empty\n",
    "        \"\"\"\n",
    "        self.contains_car = False\n",
    "        self.cell_value = 0\n",
    "        \n",
    "\n",
    "        \n",
    "class traffic_light:\n",
    "    \"\"\"\n",
    "    A class to represent the traffic lights in the city.\n",
    "    Each traffic light has only two colors:\n",
    "    - Red which prohibts all cars from moving.\n",
    "    - Green which allows cars to move.\n",
    "    \"\"\"\n",
    "    def __init__(self, cell_value, state):\n",
    "        \n",
    "        self.states = [\"green\", \"red\"]\n",
    "        self.current_state = state\n",
    "        self.cell_value = cell_value\n",
    "        self.contains_car = False \n",
    "        \n",
    "    def change(self):\n",
    "        if self.current_state== 'green':\n",
    "            self.current_state= 'red'\n",
    "            self.cell_value = 4\n",
    "        else:\n",
    "            self.current_state= 'green'\n",
    "            self.cell_value = 3\n",
    "\n",
    "    def fill_car(self, car):\n",
    "        self.contains_car = car\n",
    "        self.cell_value = 2\n",
    "    def empty_car(self):\n",
    "        self.contains_car = False\n",
    "        self.cell_value = colors_dict[self.current_state]\n",
    "              \n",
    "            \n",
    "            \n",
    "class stop_sign:\n",
    "    \"\"\"\n",
    "    A class to represent the traffic stop signs that are used at the intersections. \n",
    "    \"\"\"\n",
    "    \n",
    "    def __init__(self):\n",
    "        self.cell_value = 5 \n",
    "        self.contains_car = False\n",
    "        self.queue = []\n",
    "        \n",
    "    def fill_car(self, car):\n",
    "        self.contains_car = car\n",
    "        self.cell_value = 2\n",
    "    def empty_car(self):\n",
    "        self.contains_car = False\n",
    "        self.cell_value = 5\n",
    "           \n",
    "            \n",
    "            \n",
    "            \n",
    "            \n",
    "class Car:\n",
    "    \"\"\"\n",
    "    A class to model the movement of cars in the city.\n",
    "    \"\"\"\n",
    "    def __init__(self, location, speed=1):\n",
    "        self.cell_value = 2\n",
    "        self.speed = speed\n",
    "        self.max_speed = 5\n",
    "        self.location = location\n",
    "        self.direction = None\n",
    "        self.prob_slowdown = 0.5 # probability of random slowing down \n",
    "        self.prob_change = 0.2 # probability of changing the road at intersections\n",
    "        self.inq = False # if the car is waiting in a queue at a stop sign\n",
    "        self.waiting = False\n",
    "        \n",
    "        \n",
    "        \n",
    "    def get_next_cell(self, r, c, incr):\n",
    "        \"\"\"\n",
    "        This function will be used to get the next cell of each car using the car's current cell\n",
    "        and the direction\n",
    "        Inputs:\n",
    "        - r, c: current row and column coordinates of the car\n",
    "        - incr: speed of the car (or how many cells the car increments)\n",
    "        \"\"\"\n",
    "        crossing = False #if the car is changing direction at an intersection\n",
    "        \n",
    "        if self.direction ==  \"North\":\n",
    "            next_cell = [(r-incr), c]\n",
    "            \n",
    "            #changing the direction of cars randomly at intersections (the middle points are intersections)\n",
    "            if next_cell in middle_points and random.uniform(0, 1) <self.prob_change:\n",
    "                crossing = city[(r-incr), c+3].direction\n",
    "                \n",
    "                \n",
    "        elif self.direction ==  \"South\":\n",
    "            next_cell =[(r+incr), c]\n",
    "            if next_cell in middle_points and random.uniform(0, 1) <self.prob_change:\n",
    "                crossing = city[(r+incr), c-3].direction\n",
    "            \n",
    "                \n",
    "                \n",
    "        elif self.direction ==  \"East\":\n",
    "            next_cell =[r, (c+incr)]\n",
    "            if next_cell in middle_points and random.uniform(0, 1) <self.prob_change:\n",
    "                crossing = city[r+3, (c+incr)].direction\n",
    "            \n",
    "                \n",
    "                \n",
    "        elif self.direction ==  \"West\":\n",
    "            next_cell =[r, (c-incr)]\n",
    "            if next_cell in middle_points and random.uniform(0, 1) <self.prob_change:\n",
    "                crossing = city[r-3, (c-incr)].direction\n",
    "            \n",
    "        \n",
    "        return next_cell, crossing\n",
    "      \n",
    "    \n",
    "    def move(self, city, time_step):\n",
    "        \n",
    "        \"\"\"\n",
    "        A function to move the cars to their next cell.\n",
    "        Inputs:\n",
    "        city: the CA grid\n",
    "        time_step: the time at which the car is moving\n",
    "        \"\"\"\n",
    "       \n",
    "        current_cell=self.location\n",
    "        \n",
    "        if [current_cell[0], current_cell[1]] not in exits: #if the car is not at the border of the grid\n",
    "            \n",
    "            self.update_speed(time_step) #read the update_speed function below\n",
    "            \n",
    "            \n",
    "            if not self.waiting: # if cars not on stop sign\n",
    "                # let them move to the next cell according to their speed\n",
    "                next_cell, crossing = self.get_next_cell(current_cell[0], current_cell[1], self.speed)\n",
    "                if self.speed >0 :\n",
    "                    \n",
    "                    n1, crossing = self.get_next_cell(current_cell[0], current_cell[1], 1)\n",
    "                    if city[n1[0], n1[1]].cell_value ==3:\n",
    "                        n2, crossing = self.get_next_cell(current_cell[0], current_cell[1], 2)\n",
    "                        n3, crossing = self.get_next_cell(current_cell[0], current_cell[1], 3)\n",
    "                        if city[n2[0], n2[1]].cell_value !=2 and city[n3[0], n3[1]].cell_value !=2:\n",
    "                            self.location = next_cell\n",
    "                            city[current_cell[0], current_cell[1]].empty_car()\n",
    "                            city[next_cell[0], next_cell[1]].fill_car(self)\n",
    "                            if crossing:\n",
    "                                self.direction = crossing\n",
    "                    else:\n",
    "                        self.location = next_cell\n",
    "                        city[current_cell[0], current_cell[1]].empty_car()\n",
    "                        city[next_cell[0], next_cell[1]].fill_car(self)\n",
    "                        if crossing:\n",
    "                            self.direction = crossing\n",
    "\n",
    "                # if traffic goes red on a car while inside the intersection\n",
    "                elif current_cell in intersections:\n",
    "                    next_cell, crossing = self.get_next_cell(current_cell[0], current_cell[1], 1)\n",
    "\n",
    "                    if city[next_cell[0], next_cell[1]].cell_value !=2: \n",
    "                        self.location = next_cell\n",
    "                        city[current_cell[0], current_cell[1]].empty_car()\n",
    "                        city[next_cell[0], next_cell[1]].fill_car(self)\n",
    "                        \n",
    "            # if cars are waiting in a stop sign            \n",
    "            else:\n",
    "                next_cell, crossing = self.get_next_cell(current_cell[0], current_cell[1], 1)\n",
    "                \n",
    "                #if it's the car turn after it waited one time step\n",
    "                if self.inq[0].queue[0] == self and time_step >= self.inq[1]  and\\\n",
    "                city[next_cell[0], next_cell[1]].cell_value !=2:\n",
    "                    \n",
    "                    # making sure that there is space for the cars after the intersection\n",
    "                    n2, crossing = self.get_next_cell(current_cell[0], current_cell[1], 2)\n",
    "                    n3, crossing = self.get_next_cell(current_cell[0], current_cell[1], 3)\n",
    "                    if city[n2[0], n2[1]].cell_value !=2 and city[n3[0], n3[1]].cell_value !=2:\n",
    "                    \n",
    "                        self.location = next_cell\n",
    "                        city[current_cell[0], current_cell[1]].empty_car()\n",
    "                        city[next_cell[0], next_cell[1]].fill_car(self) \n",
    "                        self.waiting = False\n",
    "        \n",
    "                    \n",
    "                    \n",
    "        #if cars are at the borders of the streets\n",
    "        else:\n",
    "            city[current_cell[0], current_cell[1]].empty_car()\n",
    "            random_cars.remove(self)\n",
    "            my_sim.flow_rate_counter+=1\n",
    "            \n",
    "        # after cars leave the stop sign, they get removed from the queue of that stop sign    \n",
    "        next_cell, crossing = self.get_next_cell(current_cell[0], current_cell[1], 1)    \n",
    "        if self.inq and city[next_cell[0], next_cell[1]].cell_value ==2 and\\\n",
    "        [next_cell[0], next_cell[1]] not in intersections :\n",
    "            self.inq[0].queue.pop(0)\n",
    "            self.inq = False\n",
    "            \n",
    "                      \n",
    "        \n",
    "    def update_speed(self, time_step):\n",
    "        \"\"\"\n",
    "        A function to update the speed of the car according to Nagel et al paper\n",
    "        \"\"\"\n",
    "        \n",
    "        r, c = self.location\n",
    "        spaces = 1 \n",
    "        coords, crossing = self.get_next_cell(r, c, 1)\n",
    "        next_r, next_c = coords\n",
    "        \n",
    "        # calculating how many spaces are available for the car before hitting another car or\n",
    "        # a red light or a stop sign\n",
    "        while city[next_r, next_c].cell_value !=5 and city[next_r, next_c].cell_value !=4 and\\\n",
    "        city[next_r, next_c].cell_value !=2:\n",
    "            \n",
    "            spaces+=1\n",
    "            \n",
    "            if [next_r, next_c] in exits or crossing: #if the car is existing or changing direction\n",
    "                break\n",
    "            coords, crossing = self.get_next_cell(next_r, next_c, 1)\n",
    "            next_r, next_c = coords\n",
    "           \n",
    "            if spaces > self.max_speed: # to save time\n",
    "                break\n",
    "        \n",
    "        \n",
    "        # to leave a one cell empty between the cars and signals (make cars stop one empty cell in advance)\n",
    "        if spaces > 1 and [next_r, next_c] not in exits and not crossing and city[next_r, next_c].cell_value !=5:\n",
    "            spaces-=1\n",
    "        \n",
    "        # the rules for the stop signs:\n",
    "        # - Append the cars to the queue of that specific stop sign\n",
    "        coords, crossing = self.get_next_cell(r, c, 1)\n",
    "        next_r, next_c = coords\n",
    "        if city[next_r, next_c].cell_value == 5 and self not in city[next_r, next_c].queue:\n",
    "            city[next_r, next_c].queue.append(self)\n",
    "            self.inq = [city[next_r, next_c], time_step+len(city[next_r, next_c].queue)]\n",
    "            self.waiting =True\n",
    "        \n",
    "        \n",
    "                       \n",
    "        #accelerate\n",
    "        if self.speed < self.max_speed :\n",
    "            self.speed += 1\n",
    "        #decelerate   \n",
    "        if spaces <= self.speed:\n",
    "                    self.speed = spaces-1\n",
    "    \n",
    "        # randomization (random slowing down due to human factors)\n",
    "        if self.speed>0 and random.random() < self.prob_slowdown:\n",
    "            self.speed -= 1\n",
    "        \n",
    "\n"
   ]
  },
  {
   "cell_type": "code",
   "execution_count": 4,
   "metadata": {},
   "outputs": [],
   "source": [
    "rows = columns = road_length = 100 # using a raod length of 100 cells\n",
    "\n",
    "block_distance = 15 # assuming a uniform building thickness of 15 cells (so a street every 15 cells)\n",
    "\n",
    "\n",
    "# the names and directions of each street that I collected:\n",
    "streets = {\"Sacramento\":[1,'West', block_distance], \"California_West\":[2,'West', block_distance*2],\n",
    "           \"California_East\":[3,'East', block_distance*2+1],\"Pine\":[4,'West', block_distance*3], \n",
    "           \"Bush\":[5,'East', block_distance*4], \"Sutter\":[6,'West', block_distance*5], \n",
    "           \"Post\":[7,'East', block_distance*6], \"Buchanan_South\":[8,'South', block_distance],\n",
    "           \"Buchanan_North\":[9,'North', block_distance+1],\n",
    "           \"Laguna_South\":[10,'South', block_distance*2], \"Laguna_North\":[11,'North', block_distance*2+1]\n",
    "           ,\"Octavia_South\":[12,'South', block_distance*3] ,\"Octavia_North\":[13,'North', block_distance*3+1],\n",
    "           \"Gough\":[14,'South', block_distance*4], \"Franklin\":[15,'North', block_distance*5], \n",
    "           \"Vanness_South\":[16,'South', block_distance*6], \"Vanness_North\":[17,'North', block_distance*6+1]}\n",
    "\n",
    "\n",
    "def initialize(time_steps, traffic_density):\n",
    "    \"\"\"\n",
    "    A function to build the CA grid according to the data I collected from the streets.\n",
    "    Inputs:\n",
    "    -time_steps: The number of steps that the simulation will be run for. It's used to generate the time\n",
    "    between the cars \n",
    "    - traffic_density: the initial traffic density of the model. It's a number between 0 and 1 where 0 means\n",
    "    no cars and 1 means 100% of each street is occupied.\n",
    "    \"\"\"\n",
    "    \n",
    "   \n",
    "    city = np.ones((rows, columns)).astype(object)\n",
    "    \n",
    "    city = np.vectorize(lambda obj: city_block() )(city) #replacing each one by a city block\n",
    "   \n",
    "    \n",
    "    # creating the roads on the grid\n",
    "    for ind, values in enumerate(list(streets.values())):\n",
    "        pos = values[-1]\n",
    "        if ind < 7: # the horizontal streets\n",
    "            city[pos, :] = np.vectorize(lambda obj: city_cell() )(city[pos, :])\n",
    "            for cell in city[pos, :]:\n",
    "                cell.direction = values[1]\n",
    "        else:# the vertical streets\n",
    "            city[:, pos] = np.vectorize(lambda obj: city_cell() )(city[:,pos])\n",
    "            for cell in city[:, pos]:\n",
    "                cell.direction = values[1]\n",
    "    \n",
    "    \n",
    "    # record the coordinates of the cells at the intersections\n",
    "    intersections = [] \n",
    "    vertical_intersections = []\n",
    "    horizontal_intersections = []\n",
    "    middle_points = [] \n",
    "    for row_streets in list(streets.keys())[:7]:\n",
    "        for column_streets in list(streets.keys())[7:]:\n",
    "\n",
    "            row_coord = streets[row_streets][-1]\n",
    "            column_coord = streets[column_streets][-1]\n",
    "\n",
    "            ##\n",
    "            intersections.append([row_coord,column_coord])\n",
    "            middle_points.append([row_coord,column_coord])\n",
    "\n",
    "            intersections.append([row_coord-1,column_coord])\n",
    "            intersections.append([row_coord+1,column_coord])\n",
    "\n",
    "            intersections.append([row_coord,column_coord+1])\n",
    "            intersections.append([row_coord,column_coord-1])\n",
    "            ###\n",
    "\n",
    "    # the borders of the intersections (these are the cells where I place the traffic signals)        \n",
    "    intersections_borders =[list(j) for j in [item for item, count in\\\n",
    "                                              collections.Counter([tuple(i) for i in intersections]).items()\\\n",
    "                                              if (count == 1)  ]]\n",
    "    intersections_borders = [i for i in intersections_borders if i not in middle_points]\n",
    "\n",
    "    \n",
    "    #placing the traffic signals\n",
    "    for row, column in intersections_borders:\n",
    "        if city[row, column].direction == \"North\" or city[row, column].direction == \"South\":\n",
    "            vertical_intersections.append([row, column])\n",
    "            city[row, column] = traffic_light(3, 'green')\n",
    "        else:\n",
    "            horizontal_intersections.append([row, column])\n",
    "            city[row, column] = traffic_light(4, 'red')    \n",
    "\n",
    "    #recording the coordinates of the enter and exit points of each street\n",
    "    exits = [] \n",
    "    enters = []\n",
    "    for street in streets:\n",
    "        dirc = streets[street][1] \n",
    "        if dirc == \"North\":\n",
    "            exits.append([0, streets[street][2]])\n",
    "            enters.append([rows-1, streets[street][2]])\n",
    "        elif dirc == \"South\":\n",
    "            exits.append([rows-1, streets[street][2]])\n",
    "            enters.append([0, streets[street][2]])\n",
    "        elif dirc == \"East\":\n",
    "            exits.append([streets[street][2], columns-1])\n",
    "            enters.append([streets[street][2], 0])\n",
    "        elif dirc == \"West\":\n",
    "            exits.append([streets[street][2], 0])\n",
    "            enters.append([streets[street][2], columns-1])\n",
    "            \n",
    "    \n",
    "    \n",
    "    random_cars = [] # initializing the cars accoriding to the intial density inputed for each street\n",
    "    for street in streets.keys():\n",
    "        \n",
    "        \n",
    "        # making sure that cars don't get intialized at the intersecionts\n",
    "        s = np.array(intersections)\n",
    "        rr = set(s[:, 0])\n",
    "        cc = set(s[:, 1])\n",
    "        if streets[street][0] <=7:\n",
    "            x = list(filter(lambda x: x not in cc,range(1, road_length-1)))\n",
    "        else:\n",
    "            x = list(filter(lambda x: x not in rr,range(1, road_length-1)))\n",
    "\n",
    "        \n",
    "        # randomly choosing indices (except those of the intersections)\n",
    "        random_indices = np.random.choice(\n",
    "                x,\n",
    "                size=int(round(traffic_density * road_length)),\n",
    "                replace=False)\n",
    "        \n",
    "        # recording all the cars to a list\n",
    "        for ind in random_indices:\n",
    "            if streets[street][0] <=7:\n",
    "                pos = [streets[street][-1], ind]\n",
    "            else:\n",
    "                pos = [ind, streets[street][-1]]\n",
    "\n",
    "            random_cars.append(Car(pos))\n",
    "                \n",
    "    # adding the cars to the grid    \n",
    "    for rand_car in random_cars:\n",
    "        \n",
    "        row, column = rand_car.location\n",
    "        city[row, column].fill_car(rand_car)\n",
    "        \n",
    "        \n",
    "    # using an exponential distribution to get the time between cars for each street based on the collected data.                \n",
    "    data = {\"Sacramento\":[6], \"California_West\":[6],\n",
    "           \"California_East\":[4],\"Pine\":[5], \n",
    "           \"Bush\":[4], \"Sutter\":[5], \n",
    "           \"Post\":[6], \"Buchanan_South\":[4],\n",
    "           \"Buchanan_North\":[5],\n",
    "           \"Laguna_South\":[3], \"Laguna_North\":[5]\n",
    "           ,\"Octavia_South\":[2] ,\"Octavia_North\":[5],\n",
    "           \"Gough\":[4], \"Franklin\":[4], \n",
    "           \"Vanness_South\":[16], \"Vanness_North\":[18]}\n",
    "\n",
    "    for street in data:\n",
    "        rate = data[street][0]/60 # dividing it by 60 seconds so that the rate is cars/seconds\n",
    "        t= 0\n",
    "        ts = []\n",
    "        while t < time_steps:\n",
    "            t += np.random.exponential(1/ rate) # the times between cars over the simulation time steps\n",
    "            ts.append(t)\n",
    "        data[street].append(ts)        \n",
    "            \n",
    "        \n",
    "        \n",
    "    return city, random_cars, intersections,\\\n",
    "          vertical_intersections, horizontal_intersections, middle_points,exits,enters, data"
   ]
  },
  {
   "cell_type": "code",
   "execution_count": 5,
   "metadata": {},
   "outputs": [
    {
     "data": {
      "image/png": "[encoded data removed]",
      "text/plain": [
       "<Figure size 720x576 with 1 Axes>"
      ]
     },
     "metadata": {
      "needs_background": "light"
     },
     "output_type": "display_data"
    }
   ],
   "source": [
    "city, random_cars, intersections,\\\n",
    "          vertical_intersections, horizontal_intersections,\\\n",
    "         middle_points,exits,enters, data = initialize(500, 0)\n",
    "observe(city)\n"
   ]
  },
  {
   "cell_type": "code",
   "execution_count": 6,
   "metadata": {
    "scrolled": true
   },
   "outputs": [],
   "source": [
    "def turn_state(config):\n",
    "    \"\"\"\n",
    "    The CA grid contains objects not numbers so this function will vectorize the grid (turn each object into its CA value)\n",
    "    \"\"\"\n",
    "    vectorized_x = np.vectorize(lambda obj: obj.cell_value)\n",
    "    \n",
    "    view_grid = vectorized_x(config).astype(int)\n",
    "    return view_grid"
   ]
  },
  {
   "cell_type": "code",
   "execution_count": 7,
   "metadata": {},
   "outputs": [],
   "source": [
    "# getting the coordinates of the intersections at the main street and local streets\n",
    "vertical_intersections_main = [i for i in vertical_intersections if i[1]==90 or i[1]==91 ]\n",
    "horizontal_intersections_main = [i for i in horizontal_intersections if i[1]==89 or i[1]==92 ]\n",
    "\n",
    "vertical_intersections_local = [i for i in vertical_intersections if i[1]!=90 and i[1]!=91 ]\n",
    "horizontal_intersections_local = [i for i in horizontal_intersections if i[1]!=89 and i[1]!=92 ]\n",
    "\n",
    "# the cells where we add sensors\n",
    "sensors_cells = [[15,93],[15,94], [30,93],[30,94], [31,87],[31,88], [45,93],[45,94], [60,87],[60,88],\n",
    "                 [75, 93],[75,94], [90,87], [90,88]]"
   ]
  },
  {
   "cell_type": "code",
   "execution_count": 8,
   "metadata": {},
   "outputs": [],
   "source": [
    "# adding the cells at each intersection together (so that all cells of one intersection can have the same stop\n",
    "# sign queue)\n",
    "\n",
    "current_r, current_c = 0,0\n",
    "intersections_cirlces = []\n",
    "intersections_borders = [i for i in intersections if i not in middle_points]\n",
    "ns = intersections_borders[:32] +intersections_borders[76:]\n",
    "for r, c in ns:\n",
    "    if r - current_r > 10 or c - current_c > 10:\n",
    "        intersections_cirlces.append([])\n",
    "    intersections_cirlces[-1].append([r, c])\n",
    "    current_r, current_c = r, c\n",
    "\n",
    "cells = [[[29, 15], [32, 15], [30, 14], [31, 14],\n",
    " [29, 16], [32, 16], [30, 17], [31, 17]],\n",
    " [[29, 30], [32, 30], [30, 29], [31, 29],\n",
    " [29, 31], [32, 31], [30, 32], [31, 32]],\n",
    " [[29, 45], [32, 45], [30, 44], [31, 44],\n",
    " [29, 46], [32, 46], [30, 47], [31, 47]],\n",
    " [[29, 60], [32, 60], [30, 59], [31, 59], [30, 61], [31, 61]],\n",
    " [[29, 75], [32, 75], [30, 76], [31, 76], [30, 74], [31, 74]],\n",
    " [[29, 90], [32, 90], [30, 89], [31, 89],\n",
    " [29, 91], [32, 91], [30, 92], [31, 92]]]\n",
    "        \n",
    "intersections_cirlces = intersections_cirlces[:6]+cells + intersections_cirlces[6:]   "
   ]
  },
  {
   "cell_type": "code",
   "execution_count": 9,
   "metadata": {},
   "outputs": [],
   "source": [
    "class sim:\n",
    "    \"\"\"\n",
    "    A class for the main simulation of the three strategies \n",
    "    \"\"\"\n",
    "    def __init__(self):\n",
    "        self.flow_rate_counter = 0 # count the number of cars that exit the grid\n",
    "        \n",
    "    def run_strategy_1(self, steps, light_duration, record_states = False):\n",
    "        \"\"\"\n",
    "        An implementation of strategy 1: the syncronized traffic lights\n",
    "        Inputs:\n",
    "        steps: total number of steps to run\n",
    "        light_duration: how long before changing the traffic light\n",
    "        record_states: a paramter to decide whether to record all states for the animation\n",
    "        \"\"\"\n",
    "       \n",
    "        for time_step in range(steps):\n",
    "\n",
    "            [i.move(city, time_step) for i in random_cars]\n",
    "\n",
    "            # changing the traffic lights (syncronized) \n",
    "            if time_step % light_duration ==0: \n",
    "                [city[row, column].change() for row, column in vertical_intersections]\n",
    "                [city[row, column].change() for row, column in horizontal_intersections]\n",
    "\n",
    "                \n",
    "            # adding cars to the streets overtime using the data collected and the exponential distribution    \n",
    "            for ind, street in enumerate(data):\n",
    "\n",
    "                if data[street][1]:\n",
    "                    time = data[street][1][0]\n",
    "                    if time_step >= time:\n",
    "                        r, c = enters[ind]\n",
    "                        if city[r, c].cell_value == 0:\n",
    "                            new_car = Car([r, c], random.randint(1, 5))\n",
    "                            city[r, c].fill_car(new_car)\n",
    "                            random_cars.append(new_car)\n",
    "                            data[street][1].pop(0)\n",
    "            if record_states:\n",
    "                states.append(turn_state(city))\n",
    "                \n",
    "    def run_strategy_2(self, steps,  record_states = False):\n",
    "        \"\"\"\n",
    "        A function to implement strategy 2: traffic lights with sensors around main roads\n",
    "        \"\"\"\n",
    "       \n",
    "        main_red = False # if main road traffic is red\n",
    "        for time_step in range(steps):\n",
    "\n",
    "            [i.move(city, time_step) for i in random_cars]\n",
    "\n",
    "            # change the traffic lights for the local streets\n",
    "            if time_step % 35 ==0:\n",
    "                [city[row, column].change() for row, column in vertical_intersections_local]\n",
    "                [city[row, column].change() for row, column in horizontal_intersections_local]\n",
    "\n",
    "\n",
    "            # change the traffic lights for the main road if all sensors are triggered    \n",
    "            if sum([city[r, c].cell_value for r, c in sensors_cells]) >=14:\n",
    "                [city[row, column].change() for row, column in vertical_intersections_main]\n",
    "                [city[row, column].change() for row, column in horizontal_intersections_main]\n",
    "                main_red = True\n",
    "                main_change = time_step+25\n",
    "\n",
    "            # put the traffic lights back to green for the main road\n",
    "            if main_red and time_step >= main_change:\n",
    "                [city[row, column].change() for row, column in vertical_intersections_main]\n",
    "                [city[row, column].change() for row, column in horizontal_intersections_main]\n",
    "                main_red = False\n",
    "\n",
    "            # adding cars using the expon dist and data\n",
    "            for ind, street in enumerate(data):\n",
    "\n",
    "                if data[street][1]:\n",
    "                    time = data[street][1][0]\n",
    "                    if time_step >= time:\n",
    "                        r, c = enters[ind]\n",
    "                        if city[r, c].cell_value == 0:\n",
    "                            new_car = Car([r, c], random.randint(1, 5))\n",
    "                            city[r, c].fill_car(new_car)\n",
    "                            random_cars.append(new_car)\n",
    "                            data[street][1].pop(0)\n",
    "\n",
    "            if record_states:\n",
    "                states.append(turn_state(city))\n",
    "\n",
    "                \n",
    "    def run_strategy_3(self, time_steps, record_states = False):\n",
    "        \"\"\"\n",
    "        a function that implements strategy 3: stop signs instead of traffic lights\n",
    "        \"\"\"\n",
    "        \n",
    "        # adding one queue to all cells of each intersection\n",
    "        for i in intersections_cirlces:\n",
    "            aq = Q()\n",
    "            for r, c in i:\n",
    "                stp_sgn = stop_sign()\n",
    "                city[r, c] = stp_sgn \n",
    "                city[r, c].queue = aq.q\n",
    "\n",
    "        \n",
    "        for time_step in range(time_steps):\n",
    "            \n",
    "            [i.move(city,time_step) for i in random_cars]\n",
    "\n",
    "            # adding cars using the expon dist and data\n",
    "            for ind, street in enumerate(data):\n",
    "                if data[street][1]:\n",
    "                    time = data[street][1][0]\n",
    "                    if time_step >= time:\n",
    "                        r, c = enters[ind]\n",
    "                        if city[r, c].cell_value == 0:\n",
    "                            new_car = Car([r, c], random.randint(1, 5))\n",
    "                            city[r, c].fill_car(new_car)\n",
    "                            random_cars.append(new_car)\n",
    "                            data[street][1].pop(0)\n",
    "\n",
    "\n",
    "            if record_states:\n",
    "                states.append(turn_state(city))\n",
    "        "
   ]
  },
  {
   "cell_type": "markdown",
   "metadata": {},
   "source": [
    "# Animation\n",
    "When running the animation, make sure that seaborn is not set because it deforms the shape of the grid"
   ]
  },
  {
   "cell_type": "code",
   "execution_count": 10,
   "metadata": {},
   "outputs": [],
   "source": [
    "def build_animation(states, save_name):\n",
    "    \"\"\"\n",
    "    A function that makes a very nice animation that can be used to debug the code or to \n",
    "    enjoy watching the mini city model\n",
    "    \n",
    "    Source: https://stackoverflow.com/questions/17212722/matplotlib-imshow-how-to-animate\n",
    "    \"\"\"\n",
    "    \n",
    "    fps = 5\n",
    "    nSeconds = len(states)// fps\n",
    "\n",
    "    # First set up the figure, the axis, and the plot element we want to animate\n",
    "    fig = plt.figure( figsize=(8,8) )\n",
    "\n",
    "    a = states[0]\n",
    "\n",
    "\n",
    "\n",
    "    colors = ['white', 'gray', 'black',  'green','red' , 'blue', 'orange']\n",
    "    bounds = [ 0,1,2,3,4, 5, 6]\n",
    "\n",
    "    cmap = mpl.colors.ListedColormap(colors)\n",
    "    norm = mpl.colors.BoundaryNorm(bounds, cmap.N)\n",
    "    pylab.cla()\n",
    "    im = pylab.imshow(a, interpolation='none', cmap=cmap, norm=norm)\n",
    "\n",
    "\n",
    "    def animate_func(i):\n",
    "        if i % fps == 0:\n",
    "            print( '.', end ='' )\n",
    "\n",
    "        im.set_array(states[i])\n",
    "        return [im]\n",
    "\n",
    "    anim = animation.FuncAnimation(\n",
    "                                   fig, \n",
    "                                   animate_func, \n",
    "                                   frames = nSeconds * fps,\n",
    "                                   interval = 1000 / fps, # in ms\n",
    "                                   )\n",
    "\n",
    "    anim.save(save_name, fps=fps, extra_args=['-vcodec', 'libx264'])\n",
    "\n",
    "    print('Done!')\n"
   ]
  },
  {
   "cell_type": "markdown",
   "metadata": {},
   "source": [
    "## Strategy 1"
   ]
  },
  {
   "cell_type": "code",
   "execution_count": 11,
   "metadata": {},
   "outputs": [
    {
     "name": "stdout",
     "output_type": "stream",
     "text": [
      ".............................................................................................................................................................................................................................................................................................................Done!\n"
     ]
    },
    {
     "data": {
      "image/png": "[encoded data removed]",
      "text/plain": [
       "<Figure size 576x576 with 1 Axes>"
      ]
     },
     "metadata": {
      "needs_background": "light"
     },
     "output_type": "display_data"
    }
   ],
   "source": [
    "time_steps = 1500\n",
    "\n",
    "states = []\n",
    "city, random_cars, intersections,\\\n",
    "              vertical_intersections, horizontal_intersections,\\\n",
    "             middle_points,exits,enters, data = initialize(time_steps, .01)\n",
    "\n",
    "my_sim = sim()\n",
    "my_sim.run_strategy_1(time_steps, 35, True)\n",
    "build_animation(states, 'try_1.mp4')"
   ]
  },
  {
   "cell_type": "code",
   "execution_count": 12,
   "metadata": {},
   "outputs": [
    {
     "data": {
      "text/html": [
       "<video src=\"try_1.mp4\" controls  >\n",
       "      Your browser does not support the <code>video</code> element.\n",
       "    </video>"
      ],
      "text/plain": [
       "<IPython.core.display.Video object>"
      ]
     },
     "execution_count": 12,
     "metadata": {},
     "output_type": "execute_result"
    }
   ],
   "source": [
    "from IPython.display import Video\n",
    "Video(\"try_1.mp4\")"
   ]
  },
  {
   "cell_type": "markdown",
   "metadata": {},
   "source": [
    "## Strategy 2"
   ]
  },
  {
   "cell_type": "code",
   "execution_count": 13,
   "metadata": {},
   "outputs": [
    {
     "name": "stdout",
     "output_type": "stream",
     "text": [
      ".............................................................................................................................................................................................................................................................................................................Done!\n"
     ]
    },
    {
     "data": {
      "image/png": "[encoded data removed]",
      "text/plain": [
       "<Figure size 576x576 with 1 Axes>"
      ]
     },
     "metadata": {
      "needs_background": "light"
     },
     "output_type": "display_data"
    }
   ],
   "source": [
    "time_steps = 1500\n",
    "\n",
    "states = []\n",
    "city, random_cars, intersections,\\\n",
    "              vertical_intersections, horizontal_intersections,\\\n",
    "             middle_points,exits,enters, data = initialize(time_steps, .01)\n",
    "\n",
    "my_sim = sim()\n",
    "my_sim.run_strategy_2(time_steps, True)\n",
    "build_animation(states, 'try_2.mp4')"
   ]
  },
  {
   "cell_type": "code",
   "execution_count": 14,
   "metadata": {},
   "outputs": [
    {
     "data": {
      "text/html": [
       "<video src=\"try_2.mp4\" controls  >\n",
       "      Your browser does not support the <code>video</code> element.\n",
       "    </video>"
      ],
      "text/plain": [
       "<IPython.core.display.Video object>"
      ]
     },
     "execution_count": 14,
     "metadata": {},
     "output_type": "execute_result"
    }
   ],
   "source": [
    "from IPython.display import Video\n",
    "Video(\"try_2.mp4\")"
   ]
  },
  {
   "cell_type": "markdown",
   "metadata": {},
   "source": [
    "## Strategy 3"
   ]
  },
  {
   "cell_type": "code",
   "execution_count": 15,
   "metadata": {},
   "outputs": [
    {
     "name": "stdout",
     "output_type": "stream",
     "text": [
      ".............................................................................................................................................................................................................................................................................................................Done!\n"
     ]
    },
    {
     "data": {
      "image/png": "[encoded data removed]",
      "text/plain": [
       "<Figure size 576x576 with 1 Axes>"
      ]
     },
     "metadata": {
      "needs_background": "light"
     },
     "output_type": "display_data"
    }
   ],
   "source": [
    "time_steps = 1500\n",
    "\n",
    "states = []\n",
    "city, random_cars, intersections,\\\n",
    "              vertical_intersections, horizontal_intersections,\\\n",
    "             middle_points,exits,enters, data = initialize(time_steps, .01)\n",
    "\n",
    "my_sim = sim()\n",
    "my_sim.run_strategy_3(time_steps, True)\n",
    "build_animation(states, 'try_3.mp4')"
   ]
  },
  {
   "cell_type": "code",
   "execution_count": 16,
   "metadata": {},
   "outputs": [
    {
     "data": {
      "text/html": [
       "<video src=\"try_3.mp4\" controls  >\n",
       "      Your browser does not support the <code>video</code> element.\n",
       "    </video>"
      ],
      "text/plain": [
       "<IPython.core.display.Video object>"
      ]
     },
     "execution_count": 16,
     "metadata": {},
     "output_type": "execute_result"
    }
   ],
   "source": [
    "from IPython.display import Video\n",
    "Video(\"try_3.mp4\")"
   ]
  },
  {
   "cell_type": "markdown",
   "metadata": {},
   "source": [
    "# Analysis"
   ]
  },
  {
   "cell_type": "code",
   "execution_count": 27,
   "metadata": {},
   "outputs": [],
   "source": [
    "# running strategy 1 50 times and collecting the flow rate at each time\n",
    "strategy_1 = []\n",
    "time_steps = 500\n",
    "light_duration = 25\n",
    "for i in range(60):\n",
    "    \n",
    "    city, random_cars, intersections,\\\n",
    "              vertical_intersections, horizontal_intersections,\\\n",
    "             middle_points,exits,enters, data = initialize(time_steps, 0.1)\n",
    "\n",
    "    my_sim = sim()\n",
    "    my_sim.run_strategy_1(steps=time_steps, light_duration=light_duration)\n",
    "    strategy_1.append(my_sim.flow_rate_counter/time_steps)"
   ]
  },
  {
   "cell_type": "code",
   "execution_count": 28,
   "metadata": {},
   "outputs": [],
   "source": [
    "# running strategy 2 50 times and collecting the flow rate at each time\n",
    "\n",
    "strategy_2 = []\n",
    "time_steps = 500\n",
    "for i in range(60):\n",
    "    \n",
    "    city, random_cars, intersections,\\\n",
    "              vertical_intersections, horizontal_intersections,\\\n",
    "             middle_points,exits,enters, data = initialize(time_steps, 0.1)\n",
    "\n",
    "    my_sim = sim()\n",
    "    my_sim.run_strategy_2(time_steps)\n",
    "    strategy_2.append(my_sim.flow_rate_counter/time_steps)"
   ]
  },
  {
   "cell_type": "code",
   "execution_count": 29,
   "metadata": {},
   "outputs": [],
   "source": [
    "# running strategy 3 50 times and collecting the flow rate at each time\n",
    "\n",
    "states = []\n",
    "\n",
    "strategy_3 = []\n",
    "time_steps = 500\n",
    "for i in range(60):\n",
    "    \n",
    "    city, random_cars, intersections,\\\n",
    "              vertical_intersections, horizontal_intersections,\\\n",
    "             middle_points,exits,enters, data = initialize(time_steps, 0.1)\n",
    "\n",
    "    my_sim = sim()\n",
    "    my_sim.run_strategy_3(time_steps)\n",
    "    strategy_3.append(my_sim.flow_rate_counter/time_steps)"
   ]
  },
  {
   "cell_type": "code",
   "execution_count": 30,
   "metadata": {},
   "outputs": [
    {
     "name": "stdout",
     "output_type": "stream",
     "text": [
      "1.4655 1.5367333333333333 1.63335\n"
     ]
    }
   ],
   "source": [
    "print(np.quantile(strategy_1, 0.025),np.mean(strategy_1),np.quantile(strategy_1, 0.975))"
   ]
  },
  {
   "cell_type": "code",
   "execution_count": 31,
   "metadata": {},
   "outputs": [
    {
     "name": "stdout",
     "output_type": "stream",
     "text": [
      "1.4876 1.5692 1.6353499999999999\n"
     ]
    }
   ],
   "source": [
    "print(np.quantile(strategy_2, 0.025),np.mean(strategy_2),np.quantile(strategy_2, 0.975))"
   ]
  },
  {
   "cell_type": "code",
   "execution_count": 32,
   "metadata": {},
   "outputs": [
    {
     "name": "stdout",
     "output_type": "stream",
     "text": [
      "1.00085 1.077533333333333 1.1562999999999999\n"
     ]
    }
   ],
   "source": [
    "print(np.quantile(strategy_3, 0.025),np.mean(strategy_3),np.quantile(strategy_3, 0.975))"
   ]
  },
  {
   "cell_type": "code",
   "execution_count": 60,
   "metadata": {},
   "outputs": [
    {
     "data": {
      "image/png": "[encoded data removed]",
      "text/plain": [
       "<Figure size 720x576 with 1 Axes>"
      ]
     },
     "metadata": {},
     "output_type": "display_data"
    }
   ],
   "source": [
    "sns.set()\n",
    "x = [\"Strategy 1\", \"Strategy 2\", \"Strategy 3\"]\n",
    "averages = [strategy_1, strategy_2, strategy_3]\n",
    "averages_ = [np.mean(i) for i in averages] \n",
    "lowers = [np.percentile(i, [2.5 ,97.5 ])[0] for i in averages] # lower bound 95% conf interval\n",
    "uppers = [np.percentile(i, [2.5 ,97.5 ])[1] for i in averages] # upper bound 95% conf interval\n",
    "# Because I'm using errorbars to show the conf intervals, the following will make sure that the interval\n",
    "# is plotted correctly. I'm doing this because matplot errorbars subtract the mean from the errors \n",
    "lower = np.array(lowers)*(-1)+ np.array(averages_) \n",
    "upper = np.array(uppers) - np.array(averages_)\n",
    "errors = np.array([lower, upper])\n",
    "\n",
    "plt.figure(figsize=(10,8))\n",
    "plt.errorbar(x, averages_, yerr=errors, fmt='o', capsize=5)\n",
    "plt.axhline(averages_[1], linestyle='--', alpha = 0.2, color = 'black')\n",
    "plt.ylabel(\"Flow Rate (cars/unit time)\")\n",
    "plt.title(\"Flow rate of different strategies\")\n",
    "plt.show()"
   ]
  },
  {
   "cell_type": "code",
   "execution_count": 24,
   "metadata": {},
   "outputs": [
    {
     "name": "stdout",
     "output_type": "stream",
     "text": [
      "switch time 5 is done\n",
      "switch time 15 is done\n",
      "switch time 25 is done\n",
      "switch time 35 is done\n",
      "switch time 45 is done\n",
      "switch time 55 is done\n",
      "switch time 65 is done\n",
      "switch time 75 is done\n",
      "switch time 85 is done\n",
      "switch time 95 is done\n"
     ]
    }
   ],
   "source": [
    "\n",
    "#                  **** this cell takes about 30 mins to run *****\n",
    "\n",
    "# Running strategy 1 for different traffic light durations\n",
    "\n",
    "switch_times = np.arange(5, 100, 10)\n",
    "time_steps = 500\n",
    "\n",
    "flow_rate_mean = []\n",
    "flow_rate_lists =[]\n",
    "for switch_time in switch_times:\n",
    "    flow_rate_averager = []\n",
    "    for i in range(100):\n",
    "        city, random_cars, intersections,\\\n",
    "          vertical_intersections, horizontal_intersections,\\\n",
    "         middle_points,exits,enters, data = initialize(time_steps, .01)\n",
    "        \n",
    "      \n",
    "        my_sim = sim()\n",
    "        my_sim.run_strategy_1(time_steps, switch_time)\n",
    "        \n",
    "                \n",
    "                \n",
    "                \n",
    "        fr = my_sim.flow_rate_counter\n",
    "        flow_rate_averager.append(fr/time_steps)\n",
    "    print(f\"switch time {switch_time} is done\")  \n",
    "    flow_rate_lists.append(flow_rate_averager)\n",
    "    "
   ]
  },
  {
   "cell_type": "code",
   "execution_count": 55,
   "metadata": {},
   "outputs": [
    {
     "data": {
      "image/png": "[encoded data removed]",
      "text/plain": [
       "<Figure size 864x432 with 1 Axes>"
      ]
     },
     "metadata": {},
     "output_type": "display_data"
    }
   ],
   "source": [
    "switch_times = np.arange(5, 100, 10)\n",
    "\n",
    "\n",
    "flow_rate_mean = [np.mean(i)  for i in flow_rate_lists]\n",
    "\n",
    "top = [np.quantile(i, 0.975) for i in flow_rate_lists ]\n",
    "Bottom = [np.quantile(i, 0.025) for i in flow_rate_lists ]\n",
    "\n",
    "points_flow = np.concatenate(flow_rate_lists)\n",
    "switch_times_points = np.concatenate([[switch_times[i]]*len(flow_rate_lists[i]) for i in range(len(flow_rate_lists)) ])\n",
    "\n",
    "plt.figure(figsize=(12, 6))\n",
    "\n",
    "plt.plot(switch_times,flow_rate_mean, label = 'Average', color = 'black' )\n",
    "plt.plot(switch_times,top,  'k--', color = 'black', label = 'top 95%')\n",
    "plt.plot(switch_times,Bottom,  'k--' , color = 'black', label = 'Bottom 95%')\n",
    "\n",
    "plt.scatter(switch_times_points,points_flow, color = 'red', s = .1 )\n",
    "\n",
    "plt.title(\"Flow rate over different light durations\")\n",
    "plt.xlabel(\"Switching Time (unit time)\")\n",
    "plt.ylabel(\"Flow Rate (car/unit time)\")\n",
    "plt.legend()\n",
    "plt.show()"
   ]
  },
  {
   "cell_type": "code",
   "execution_count": 49,
   "metadata": {},
   "outputs": [
    {
     "name": "stdout",
     "output_type": "stream",
     "text": [
      "1.15695 1.24698 1.31905\n"
     ]
    }
   ],
   "source": [
    "max_ind = np.argmax(flow_rate_mean)\n",
    "print(Bottom[max_ind], flow_rate_mean[max_ind],top[max_ind])"
   ]
  },
  {
   "cell_type": "code",
   "execution_count": null,
   "metadata": {},
   "outputs": [],
   "source": []
  },
  {
   "cell_type": "code",
   "execution_count": null,
   "metadata": {},
   "outputs": [],
   "source": []
  },
  {
   "cell_type": "code",
   "execution_count": null,
   "metadata": {},
   "outputs": [],
   "source": []
  },
  {
   "cell_type": "code",
   "execution_count": null,
   "metadata": {},
   "outputs": [],
   "source": []
  },
  {
   "cell_type": "code",
   "execution_count": null,
   "metadata": {},
   "outputs": [],
   "source": []
  },
  {
   "cell_type": "code",
   "execution_count": null,
   "metadata": {},
   "outputs": [],
   "source": []
  },
  {
   "cell_type": "code",
   "execution_count": null,
   "metadata": {},
   "outputs": [],
   "source": []
  }
 ],
 "metadata": {
  "kernelspec": {
   "display_name": "Python 3",
   "language": "python",
   "name": "python3"
  },
  "language_info": {
   "codemirror_mode": {
    "name": "ipython",
    "version": 3
   },
   "file_extension": ".py",
   "mimetype": "text/x-python",
   "name": "python",
   "nbconvert_exporter": "python",
   "pygments_lexer": "ipython3",
   "version": "3.7.3"
  }
 },
 "nbformat": 4,
 "nbformat_minor": 2
}
