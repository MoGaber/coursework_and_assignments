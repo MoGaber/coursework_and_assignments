{
  "nbformat": 4,
  "nbformat_minor": 0,
  "metadata": {
    "colab": {
      "name": "CS146 LBA.ipynb",
      "provenance": []
    },
    "kernelspec": {
      "name": "python3",
      "display_name": "Python 3"
    }
  },
  "cells": [
    {
      "cell_type": "markdown",
      "metadata": {
        "id": "Kb5pxqGI2ut5",
        "colab_type": "text"
      },
      "source": [
        "#Section 1: building the model"
      ]
    },
    {
      "cell_type": "code",
      "metadata": {
        "id": "qMPo3q572rq_",
        "colab_type": "code",
        "colab": {}
      },
      "source": [
        "#importing the needed libraries:\n",
        "import numpy as np\n",
        "import pandas as pd\n",
        "from scipy import stats\n",
        "import matplotlib.pyplot as plt\n",
        "import pystan"
      ],
      "execution_count": 0,
      "outputs": []
    },
    {
      "cell_type": "code",
      "metadata": {
        "id": "CIj_-yHVCCa_",
        "colab_type": "code",
        "colab": {}
      },
      "source": [
        "data = pd.read_csv('https://raw.githubusercontent.com/MoGaber/CS146-LBA-data/master/LBA_data_3.csv')"
      ],
      "execution_count": 0,
      "outputs": []
    },
    {
      "cell_type": "markdown",
      "metadata": {
        "id": "jqz_mH0fXl9d",
        "colab_type": "text"
      },
      "source": [
        "**Normalization step**: Changing all the amounts to 1 unit(kg, liter..etc) and adjusting the prices accordingly(price/amount):"
      ]
    },
    {
      "cell_type": "code",
      "metadata": {
        "id": "DIzaMkypzLva",
        "colab_type": "code",
        "colab": {
          "base_uri": "https://localhost:8080/",
          "height": 417
        },
        "outputId": "26a3b964-3076-42b5-9c54-13149891d540"
      },
      "source": [
        "prices_normalized_data = data.copy()\n",
        "\n",
        "for i in range(5, len(data.columns),2):\n",
        "    prices_normalized_data.iloc[:,i+1] =  prices_normalized_data.iloc[:,i+1] /prices_normalized_data.iloc[:,i]\n",
        "    prices_normalized_data.iloc[:,i] =1 \n",
        "prices_normalized_data.head()"
      ],
      "execution_count": 3,
      "outputs": [
        {
          "output_type": "stream",
          "text": [
            "INFO:numexpr.utils:NumExpr defaulting to 2 threads.\n"
          ],
          "name": "stderr"
        },
        {
          "output_type": "execute_result",
          "data": {
            "text/html": [
              "<div>\n",
              "<style scoped>\n",
              "    .dataframe tbody tr th:only-of-type {\n",
              "        vertical-align: middle;\n",
              "    }\n",
              "\n",
              "    .dataframe tbody tr th {\n",
              "        vertical-align: top;\n",
              "    }\n",
              "\n",
              "    .dataframe thead th {\n",
              "        text-align: right;\n",
              "    }\n",
              "</style>\n",
              "<table border=\"1\" class=\"dataframe\">\n",
              "  <thead>\n",
              "    <tr style=\"text-align: right;\">\n",
              "      <th></th>\n",
              "      <th>Timestamp</th>\n",
              "      <th>Email Address</th>\n",
              "      <th>Your name</th>\n",
              "      <th>Grocery store</th>\n",
              "      <th>Grocery store street address</th>\n",
              "      <th>Apples_Product 1 quantity (kg)</th>\n",
              "      <th>Apples_Product 1 price (€)</th>\n",
              "      <th>Apples_Product 2 quantity (kg)</th>\n",
              "      <th>Apples_Product 2 price (€)</th>\n",
              "      <th>Apples_Product 3 quantity (kg)</th>\n",
              "      <th>Apples_Product 3 price (€)</th>\n",
              "      <th>Bananas_Product 1 quantity (kg)</th>\n",
              "      <th>Bananas_Product 1 price (€)</th>\n",
              "      <th>Bananas_Product 2 quantity (kg)</th>\n",
              "      <th>Bananas_Product 2 price (€)</th>\n",
              "      <th>Bananas_Product 3 quantity (kg)</th>\n",
              "      <th>Bananas_Product 3 price (€)</th>\n",
              "      <th>Tomatoes_Product 1 quantity (kg)</th>\n",
              "      <th>Tomatoes_Product 1 price (€)</th>\n",
              "      <th>Tomatoes_Product 2 quantity (kg)</th>\n",
              "      <th>Tomatoes_Product 2 price (€)</th>\n",
              "      <th>Tomatoes_Product 3 quantity (kg)</th>\n",
              "      <th>Tomatoes_Product 3 price (€)</th>\n",
              "      <th>Potatoes_Product 1 quantity (kg)</th>\n",
              "      <th>Potatoes_Product 1 price (€)</th>\n",
              "      <th>Potatoes_Product 2 quantity (kg)</th>\n",
              "      <th>Potatoes_Product 2 price (€)</th>\n",
              "      <th>Potatoes_Product 3 quantity (kg)</th>\n",
              "      <th>Potatoes_Product 3 price (€)</th>\n",
              "      <th>Flour, white_Product 1 quantity (kg)</th>\n",
              "      <th>Flour, white_Product 1 price (€)</th>\n",
              "      <th>Flour, white_Product 2 quantity (kg)</th>\n",
              "      <th>Flour, white_Product 2 price (€)</th>\n",
              "      <th>Flour, white_Product 3 quantity (kg)</th>\n",
              "      <th>Flour, white_Product 3 price (€)</th>\n",
              "      <th>Rice, basmati_Product 1 quantity (kg)</th>\n",
              "      <th>Rice, basmati_Product 1 price (€)</th>\n",
              "      <th>Rice, basmati_Product 2 quantity (kg)</th>\n",
              "      <th>Rice, basmati_Product 2 price (€)</th>\n",
              "      <th>Rice, basmati_Product 3 quantity (kg)</th>\n",
              "      <th>Rice, basmati_Product 3 price (€)</th>\n",
              "      <th>Milk, full cream_Product 1 quantity (liters)</th>\n",
              "      <th>Milk, full cream_Product 1 price (€)</th>\n",
              "      <th>Milk, full cream_Product 2 quantity (liters)</th>\n",
              "      <th>Milk, full cream_Product 2 price (€)</th>\n",
              "      <th>Milk, full cream_Product 3 quantity (liters)</th>\n",
              "      <th>Milk, full cream_Product 3 price (€)</th>\n",
              "      <th>Butter_Product 1 quantity (kg)</th>\n",
              "      <th>Butter_Product 1 price (€)</th>\n",
              "      <th>Butter_Product 2 quantity (kg)</th>\n",
              "      <th>Butter_Product 2 price (€)</th>\n",
              "      <th>Butter_Product 3 quantity (kg)</th>\n",
              "      <th>Butter_Product 3 price (€)</th>\n",
              "      <th>Eggs_Product 1 quantity (count)</th>\n",
              "      <th>Eggs_Product 1 price (€)</th>\n",
              "      <th>Eggs_Product 2 quantity (count)</th>\n",
              "      <th>Eggs_Product 2 price (€)</th>\n",
              "      <th>Eggs_Product 3 quantity (count)</th>\n",
              "      <th>Eggs_Product 3 price (€)</th>\n",
              "      <th>Chicken breasts_Product 1 quantity (kg)</th>\n",
              "      <th>Chicken breasts_Product 1 price (€)</th>\n",
              "      <th>Chicken breasts_Product 2 quantity (kg)</th>\n",
              "      <th>Chicken breasts_Product 2 price (€)</th>\n",
              "      <th>Chicken breasts_Product 3 quantity (kg)</th>\n",
              "      <th>Chicken breasts_Product 3 price (€)</th>\n",
              "    </tr>\n",
              "  </thead>\n",
              "  <tbody>\n",
              "    <tr>\n",
              "      <th>0</th>\n",
              "      <td>10/28/2019 13:14:59</td>\n",
              "      <td>brian.swanberg@minerva.kgi.edu</td>\n",
              "      <td>Brian Swanberg</td>\n",
              "      <td>ALDI</td>\n",
              "      <td>Rummelsburger Str. 98</td>\n",
              "      <td>1</td>\n",
              "      <td>2.500000</td>\n",
              "      <td>1</td>\n",
              "      <td>1.880000</td>\n",
              "      <td>1</td>\n",
              "      <td>3.1500</td>\n",
              "      <td>1</td>\n",
              "      <td>1.69</td>\n",
              "      <td>1</td>\n",
              "      <td>0.99</td>\n",
              "      <td>1</td>\n",
              "      <td>NaN</td>\n",
              "      <td>1</td>\n",
              "      <td>3.523077</td>\n",
              "      <td>1</td>\n",
              "      <td>2.98</td>\n",
              "      <td>1</td>\n",
              "      <td>1.890000</td>\n",
              "      <td>1</td>\n",
              "      <td>0.556000</td>\n",
              "      <td>1</td>\n",
              "      <td>0.498000</td>\n",
              "      <td>1</td>\n",
              "      <td>1.245000</td>\n",
              "      <td>1</td>\n",
              "      <td>0.39</td>\n",
              "      <td>1</td>\n",
              "      <td>NaN</td>\n",
              "      <td>1</td>\n",
              "      <td>NaN</td>\n",
              "      <td>1</td>\n",
              "      <td>1.99</td>\n",
              "      <td>1</td>\n",
              "      <td>NaN</td>\n",
              "      <td>1</td>\n",
              "      <td>NaN</td>\n",
              "      <td>1</td>\n",
              "      <td>0.99</td>\n",
              "      <td>1</td>\n",
              "      <td>3.150000</td>\n",
              "      <td>1</td>\n",
              "      <td>0.99</td>\n",
              "      <td>1</td>\n",
              "      <td>5.56</td>\n",
              "      <td>1</td>\n",
              "      <td>6.36</td>\n",
              "      <td>1</td>\n",
              "      <td>9.56</td>\n",
              "      <td>1</td>\n",
              "      <td>0.119000</td>\n",
              "      <td>1</td>\n",
              "      <td>0.265000</td>\n",
              "      <td>1</td>\n",
              "      <td>0.159000</td>\n",
              "      <td>1</td>\n",
              "      <td>6.65000</td>\n",
              "      <td>1</td>\n",
              "      <td>5.990</td>\n",
              "      <td>1</td>\n",
              "      <td>NaN</td>\n",
              "    </tr>\n",
              "    <tr>\n",
              "      <th>1</th>\n",
              "      <td>10/29/2019 14:19:19</td>\n",
              "      <td>emma.stiefel@minerva.kgi.edu</td>\n",
              "      <td>Emma Stiefel</td>\n",
              "      <td>REWE</td>\n",
              "      <td>Karl-Marx-Straße 92-98</td>\n",
              "      <td>1</td>\n",
              "      <td>2.490000</td>\n",
              "      <td>1</td>\n",
              "      <td>1.490000</td>\n",
              "      <td>1</td>\n",
              "      <td>2.4900</td>\n",
              "      <td>1</td>\n",
              "      <td>0.99</td>\n",
              "      <td>1</td>\n",
              "      <td>1.69</td>\n",
              "      <td>1</td>\n",
              "      <td>1.590</td>\n",
              "      <td>1</td>\n",
              "      <td>6.900000</td>\n",
              "      <td>1</td>\n",
              "      <td>4.58</td>\n",
              "      <td>1</td>\n",
              "      <td>5.685714</td>\n",
              "      <td>1</td>\n",
              "      <td>0.563333</td>\n",
              "      <td>1</td>\n",
              "      <td>2.490000</td>\n",
              "      <td>1</td>\n",
              "      <td>1.526667</td>\n",
              "      <td>1</td>\n",
              "      <td>0.39</td>\n",
              "      <td>1</td>\n",
              "      <td>1.38</td>\n",
              "      <td>1</td>\n",
              "      <td>0.79</td>\n",
              "      <td>1</td>\n",
              "      <td>7.16</td>\n",
              "      <td>1</td>\n",
              "      <td>3.98</td>\n",
              "      <td>1</td>\n",
              "      <td>10.375</td>\n",
              "      <td>1</td>\n",
              "      <td>1.29</td>\n",
              "      <td>1</td>\n",
              "      <td>1.390000</td>\n",
              "      <td>1</td>\n",
              "      <td>0.79</td>\n",
              "      <td>1</td>\n",
              "      <td>5.56</td>\n",
              "      <td>1</td>\n",
              "      <td>5.56</td>\n",
              "      <td>1</td>\n",
              "      <td>9.56</td>\n",
              "      <td>1</td>\n",
              "      <td>0.281667</td>\n",
              "      <td>1</td>\n",
              "      <td>0.250000</td>\n",
              "      <td>1</td>\n",
              "      <td>0.265000</td>\n",
              "      <td>1</td>\n",
              "      <td>13.90000</td>\n",
              "      <td>1</td>\n",
              "      <td>9.990</td>\n",
              "      <td>1</td>\n",
              "      <td>9.980000</td>\n",
              "    </tr>\n",
              "    <tr>\n",
              "      <th>2</th>\n",
              "      <td>10/29/2019 21:22:30</td>\n",
              "      <td>taha@minerva.kgi.edu</td>\n",
              "      <td>Taha</td>\n",
              "      <td>ALDI</td>\n",
              "      <td>Hermannstraße 72, 12049 Berlin, Germany</td>\n",
              "      <td>1</td>\n",
              "      <td>2.990000</td>\n",
              "      <td>1</td>\n",
              "      <td>1.790000</td>\n",
              "      <td>1</td>\n",
              "      <td>2.3625</td>\n",
              "      <td>1</td>\n",
              "      <td>1.15</td>\n",
              "      <td>1</td>\n",
              "      <td>1.69</td>\n",
              "      <td>1</td>\n",
              "      <td>1.495</td>\n",
              "      <td>1</td>\n",
              "      <td>3.580000</td>\n",
              "      <td>1</td>\n",
              "      <td>1.99</td>\n",
              "      <td>1</td>\n",
              "      <td>4.580000</td>\n",
              "      <td>1</td>\n",
              "      <td>0.556000</td>\n",
              "      <td>1</td>\n",
              "      <td>1.325000</td>\n",
              "      <td>1</td>\n",
              "      <td>0.798000</td>\n",
              "      <td>1</td>\n",
              "      <td>0.39</td>\n",
              "      <td>1</td>\n",
              "      <td>1.49</td>\n",
              "      <td>1</td>\n",
              "      <td>1.39</td>\n",
              "      <td>1</td>\n",
              "      <td>3.98</td>\n",
              "      <td>1</td>\n",
              "      <td>NaN</td>\n",
              "      <td>1</td>\n",
              "      <td>NaN</td>\n",
              "      <td>1</td>\n",
              "      <td>1.05</td>\n",
              "      <td>1</td>\n",
              "      <td>0.710000</td>\n",
              "      <td>1</td>\n",
              "      <td>0.99</td>\n",
              "      <td>1</td>\n",
              "      <td>9.56</td>\n",
              "      <td>1</td>\n",
              "      <td>5.16</td>\n",
              "      <td>1</td>\n",
              "      <td>5.16</td>\n",
              "      <td>1</td>\n",
              "      <td>0.159000</td>\n",
              "      <td>1</td>\n",
              "      <td>0.119000</td>\n",
              "      <td>1</td>\n",
              "      <td>0.265000</td>\n",
              "      <td>1</td>\n",
              "      <td>6.65000</td>\n",
              "      <td>1</td>\n",
              "      <td>5.990</td>\n",
              "      <td>1</td>\n",
              "      <td>11.400000</td>\n",
              "    </tr>\n",
              "    <tr>\n",
              "      <th>3</th>\n",
              "      <td>10/30/2019 16:20:11</td>\n",
              "      <td>michaelchen@minerva.kgi.edu</td>\n",
              "      <td>Michael Hao Chen</td>\n",
              "      <td>Lidl</td>\n",
              "      <td>Lidl, Leipziger Str. 42</td>\n",
              "      <td>1</td>\n",
              "      <td>1.790000</td>\n",
              "      <td>1</td>\n",
              "      <td>2.653333</td>\n",
              "      <td>1</td>\n",
              "      <td>2.3625</td>\n",
              "      <td>1</td>\n",
              "      <td>1.09</td>\n",
              "      <td>1</td>\n",
              "      <td>1.69</td>\n",
              "      <td>1</td>\n",
              "      <td>1.190</td>\n",
              "      <td>1</td>\n",
              "      <td>7.114286</td>\n",
              "      <td>1</td>\n",
              "      <td>1.89</td>\n",
              "      <td>1</td>\n",
              "      <td>3.580000</td>\n",
              "      <td>1</td>\n",
              "      <td>0.750000</td>\n",
              "      <td>1</td>\n",
              "      <td>0.556000</td>\n",
              "      <td>1</td>\n",
              "      <td>NaN</td>\n",
              "      <td>1</td>\n",
              "      <td>0.39</td>\n",
              "      <td>1</td>\n",
              "      <td>0.89</td>\n",
              "      <td>1</td>\n",
              "      <td>NaN</td>\n",
              "      <td>1</td>\n",
              "      <td>2.98</td>\n",
              "      <td>1</td>\n",
              "      <td>6.36</td>\n",
              "      <td>1</td>\n",
              "      <td>1.990</td>\n",
              "      <td>1</td>\n",
              "      <td>1.05</td>\n",
              "      <td>1</td>\n",
              "      <td>1.290000</td>\n",
              "      <td>1</td>\n",
              "      <td>1.15</td>\n",
              "      <td>1</td>\n",
              "      <td>9.56</td>\n",
              "      <td>1</td>\n",
              "      <td>6.36</td>\n",
              "      <td>1</td>\n",
              "      <td>6.76</td>\n",
              "      <td>1</td>\n",
              "      <td>0.119000</td>\n",
              "      <td>1</td>\n",
              "      <td>0.169000</td>\n",
              "      <td>1</td>\n",
              "      <td>0.265000</td>\n",
              "      <td>1</td>\n",
              "      <td>6.65000</td>\n",
              "      <td>1</td>\n",
              "      <td>6.975</td>\n",
              "      <td>1</td>\n",
              "      <td>NaN</td>\n",
              "    </tr>\n",
              "    <tr>\n",
              "      <th>4</th>\n",
              "      <td>10/30/2019 16:24:57</td>\n",
              "      <td>michaelchen@minerva.kgi.edu</td>\n",
              "      <td>Michael Hao Chen</td>\n",
              "      <td>REWE</td>\n",
              "      <td>REWE, Landsberger Allee 68D</td>\n",
              "      <td>1</td>\n",
              "      <td>3.830769</td>\n",
              "      <td>1</td>\n",
              "      <td>2.190000</td>\n",
              "      <td>1</td>\n",
              "      <td>1.4900</td>\n",
              "      <td>1</td>\n",
              "      <td>0.99</td>\n",
              "      <td>1</td>\n",
              "      <td>1.89</td>\n",
              "      <td>1</td>\n",
              "      <td>1.590</td>\n",
              "      <td>1</td>\n",
              "      <td>1.990000</td>\n",
              "      <td>1</td>\n",
              "      <td>3.98</td>\n",
              "      <td>1</td>\n",
              "      <td>4.580000</td>\n",
              "      <td>1</td>\n",
              "      <td>0.563333</td>\n",
              "      <td>1</td>\n",
              "      <td>1.526667</td>\n",
              "      <td>1</td>\n",
              "      <td>1.490000</td>\n",
              "      <td>1</td>\n",
              "      <td>0.79</td>\n",
              "      <td>1</td>\n",
              "      <td>0.39</td>\n",
              "      <td>1</td>\n",
              "      <td>0.79</td>\n",
              "      <td>1</td>\n",
              "      <td>5.58</td>\n",
              "      <td>1</td>\n",
              "      <td>1.99</td>\n",
              "      <td>1</td>\n",
              "      <td>9.980</td>\n",
              "      <td>1</td>\n",
              "      <td>1.90</td>\n",
              "      <td>1</td>\n",
              "      <td>0.763636</td>\n",
              "      <td>1</td>\n",
              "      <td>0.71</td>\n",
              "      <td>1</td>\n",
              "      <td>7.96</td>\n",
              "      <td>1</td>\n",
              "      <td>5.56</td>\n",
              "      <td>1</td>\n",
              "      <td>9.56</td>\n",
              "      <td>1</td>\n",
              "      <td>0.331667</td>\n",
              "      <td>1</td>\n",
              "      <td>0.381667</td>\n",
              "      <td>1</td>\n",
              "      <td>0.165833</td>\n",
              "      <td>1</td>\n",
              "      <td>13.02439</td>\n",
              "      <td>1</td>\n",
              "      <td>10.000</td>\n",
              "      <td>1</td>\n",
              "      <td>29.894737</td>\n",
              "    </tr>\n",
              "  </tbody>\n",
              "</table>\n",
              "</div>"
            ],
            "text/plain": [
              "             Timestamp  ... Chicken breasts_Product 3 price (€)\n",
              "0  10/28/2019 13:14:59  ...                                 NaN\n",
              "1  10/29/2019 14:19:19  ...                            9.980000\n",
              "2  10/29/2019 21:22:30  ...                           11.400000\n",
              "3  10/30/2019 16:20:11  ...                                 NaN\n",
              "4  10/30/2019 16:24:57  ...                           29.894737\n",
              "\n",
              "[5 rows x 65 columns]"
            ]
          },
          "metadata": {
            "tags": []
          },
          "execution_count": 3
        }
      ]
    },
    {
      "cell_type": "markdown",
      "metadata": {
        "id": "EM5jMBuCYJwT",
        "colab_type": "text"
      },
      "source": [
        "Loading the data of the locations so that I can see which shop belongs to which area:\n"
      ]
    },
    {
      "cell_type": "code",
      "metadata": {
        "id": "Lj0aEkRuJ5Em",
        "colab_type": "code",
        "colab": {}
      },
      "source": [
        "area_data = pd.read_csv('https://raw.githubusercontent.com/MoGaber/CS146-LBA-data/master/area_data.csv')\n",
        "area_data = area_data.drop(columns = ['GPS'])\n",
        "area_data = area_data.dropna()"
      ],
      "execution_count": 0,
      "outputs": []
    },
    {
      "cell_type": "code",
      "metadata": {
        "id": "JfPMOadUJ5Wm",
        "colab_type": "code",
        "colab": {}
      },
      "source": [
        "area_details = [area_data['Supermarket'], area_data['Neighborhood']]\n",
        "location_dict = {}\n",
        "for i in range(len(area_details[0])):\n",
        "    s = area_details[0][i].split(',')[-1]\n",
        "    s = s[1:]\n",
        "    location_dict[s] = area_details[1][i]"
      ],
      "execution_count": 0,
      "outputs": []
    },
    {
      "cell_type": "code",
      "metadata": {
        "id": "WwVz9UCfJ5oC",
        "colab_type": "code",
        "colab": {}
      },
      "source": [
        "#defining this function to match the adress in the products data with that in the area data\n",
        "def inn(a, c=location_dict):\n",
        "    b=a.split(',')\n",
        "    for i in b:\n",
        "        if i[0]==' ':\n",
        "            i = i[1:]\n",
        "        if i in location_dict.keys():\n",
        "            return(i)\n",
        "    return False    \n",
        "\n",
        "Geographical_Location = []\n",
        "for i in prices_normalized_data['Grocery store street address']:\n",
        "    \n",
        "    if inn(i):\n",
        "            Geographical_Location.append(location_dict[inn(i)])\n",
        "    else:\n",
        "            Geographical_Location.append(i)"
      ],
      "execution_count": 0,
      "outputs": []
    },
    {
      "cell_type": "code",
      "metadata": {
        "id": "_th83Ax5J546",
        "colab_type": "code",
        "colab": {}
      },
      "source": [
        "prices_normalized_data['Geographical Location'] = Geographical_Location #adding a new column to the dataset for locations\n"
      ],
      "execution_count": 0,
      "outputs": []
    },
    {
      "cell_type": "markdown",
      "metadata": {
        "id": "LSS395ElY2P-",
        "colab_type": "text"
      },
      "source": [
        "The dataset had three columns for each product, since the dataset didn't clearly mention that they are different, I assume that the three columns are for the same product and I combine them in one column below:"
      ]
    },
    {
      "cell_type": "code",
      "metadata": {
        "id": "nYhWzt3IJ6Tj",
        "colab_type": "code",
        "colab": {}
      },
      "source": [
        "products_data = []\n",
        "j = 6\n",
        "for i in range(10):\n",
        "    products_data.append(pd.concat([prices_normalized_data[prices_normalized_data.columns[j]], \n",
        "                                    prices_normalized_data[prices_normalized_data.columns[j+2]], \n",
        "                                    prices_normalized_data[prices_normalized_data.columns[j+4]] ], ignore_index=True))\n",
        "    j+=6\n",
        "    \n",
        "#Doing the same for the brands and the locations. Since one row(of three columns has the same brand and location,\n",
        "#I'm addin three columns together so they can match with the columns above.)\n",
        "\n",
        "Brands = [pd.concat([prices_normalized_data['Grocery store'], \n",
        "                                    prices_normalized_data['Grocery store'], \n",
        "                                    prices_normalized_data['Grocery store']], ignore_index=True)][0]\n",
        "\n",
        "Locations = [pd.concat([prices_normalized_data['Geographical Location'], \n",
        "                                    prices_normalized_data['Geographical Location'], \n",
        "                                    prices_normalized_data['Geographical Location']], ignore_index=True)][0]"
      ],
      "execution_count": 0,
      "outputs": []
    },
    {
      "cell_type": "code",
      "metadata": {
        "id": "aw7-4yIIJ6mJ",
        "colab_type": "code",
        "colab": {}
      },
      "source": [
        "#Prices for each product:\n",
        "Apples_data= products_data[0]\n",
        "Bananas_data = products_data[1]\n",
        "Tomatoes_data = products_data[2]\n",
        "Potatoes_data = products_data[3]\n",
        "Flour_white_data = products_data[4]\n",
        "Rice_basmati_data = products_data[5]\n",
        "Milk_full_cream_data = products_data[6]\n",
        "Butter_data = products_data[7]\n",
        "Eggs_data = products_data[8]\n",
        "Chicken_breasts_data = products_data[9]"
      ],
      "execution_count": 0,
      "outputs": []
    },
    {
      "cell_type": "code",
      "metadata": {
        "id": "tKKpNd-1J63J",
        "colab_type": "code",
        "colab": {}
      },
      "source": [
        "#Building a final dataframe for my model:\n",
        "Model_dataframe = pd.DataFrame({'Brands': Brands, \"Locations\": Locations,\n",
        "                               'Apples':Apples_data, 'Bananas':Bananas_data,\n",
        "                               'Tomatoes':Tomatoes_data, 'Potatoes':Potatoes_data\n",
        "                               ,'Flour_white':Flour_white_data, 'Rice_basmati':Rice_basmati_data\n",
        "                               ,'Milk_full_cream':Milk_full_cream_data, 'Butter':Butter_data,\n",
        "                               'Eggs':Eggs_data, 'Chicken_breasts':Chicken_breasts_data})\n",
        "\n"
      ],
      "execution_count": 0,
      "outputs": []
    },
    {
      "cell_type": "markdown",
      "metadata": {
        "id": "Gt1BhLYhaw08",
        "colab_type": "text"
      },
      "source": [
        "Since this dataset will go through Stan, I need to change strings to numbers:\n"
      ]
    },
    {
      "cell_type": "code",
      "metadata": {
        "id": "fZFUUZHzZCiP",
        "colab_type": "code",
        "colab": {}
      },
      "source": [
        "Model_dataframe['Brands'] = Model_dataframe['Brands'].replace(['ALDI', 'REWE', 'Lidl', 'Tesco Express', 'EDEKA',\n",
        "                                  'Waitrose & Partners', 'Safeway', 'Tesco', \"Sainsbury's\"],\n",
        "                                  [ 1, 2, 3, 4, 5, 6, 7, 8, 9])\n",
        "\n",
        "Model_dataframe['Locations'] = Model_dataframe['Locations'].replace(['Lichtenberg', 'Neukölln', 'Mitte', 'Friedrichshain',\n",
        "       'Farringdon, London', 'Islington, London', 'Briton Ferry, London',\n",
        "       'Edgware, London', 'Cazenove, London', 'San Francisco, CA',\n",
        "       'Kreuzberg', 'Mountain View, CA', 'Palo Alto, CA',\n",
        "       'Prenzlauer Berg', 'Barbican, London', 'Alt-Treptow',\n",
        "       'Fitzrovia, London', 'The Brunswick Centre, London',\n",
        "       'The Angel, London', 'Schöneberg', 'Crouch End, London',\n",
        "       'Shoreditch, London', 'Tempelhof', 'New Kent, London',\n",
        "       'Le Grand, London', 'Mayfair, London', 'Temple, London'],\n",
        "                                  [i for i in range(1, 28)])"
      ],
      "execution_count": 0,
      "outputs": []
    },
    {
      "cell_type": "code",
      "metadata": {
        "id": "HqnoQNVTkEx-",
        "colab_type": "code",
        "colab": {
          "base_uri": "https://localhost:8080/",
          "height": 195
        },
        "outputId": "0443ab76-1ce2-414c-b948-8424b0d91dc2"
      },
      "source": [
        "Model_dataframe = Model_dataframe.dropna() #removing the NAs from my dataset before building my model:\n",
        "Model_dataframe.head() #printing some of the data"
      ],
      "execution_count": 12,
      "outputs": [
        {
          "output_type": "execute_result",
          "data": {
            "text/html": [
              "<div>\n",
              "<style scoped>\n",
              "    .dataframe tbody tr th:only-of-type {\n",
              "        vertical-align: middle;\n",
              "    }\n",
              "\n",
              "    .dataframe tbody tr th {\n",
              "        vertical-align: top;\n",
              "    }\n",
              "\n",
              "    .dataframe thead th {\n",
              "        text-align: right;\n",
              "    }\n",
              "</style>\n",
              "<table border=\"1\" class=\"dataframe\">\n",
              "  <thead>\n",
              "    <tr style=\"text-align: right;\">\n",
              "      <th></th>\n",
              "      <th>Brands</th>\n",
              "      <th>Locations</th>\n",
              "      <th>Apples</th>\n",
              "      <th>Bananas</th>\n",
              "      <th>Tomatoes</th>\n",
              "      <th>Potatoes</th>\n",
              "      <th>Flour_white</th>\n",
              "      <th>Rice_basmati</th>\n",
              "      <th>Milk_full_cream</th>\n",
              "      <th>Butter</th>\n",
              "      <th>Eggs</th>\n",
              "      <th>Chicken_breasts</th>\n",
              "    </tr>\n",
              "  </thead>\n",
              "  <tbody>\n",
              "    <tr>\n",
              "      <th>0</th>\n",
              "      <td>1</td>\n",
              "      <td>1</td>\n",
              "      <td>2.500000</td>\n",
              "      <td>1.69</td>\n",
              "      <td>3.523077</td>\n",
              "      <td>0.556000</td>\n",
              "      <td>0.39</td>\n",
              "      <td>1.99</td>\n",
              "      <td>0.99</td>\n",
              "      <td>5.56</td>\n",
              "      <td>0.119000</td>\n",
              "      <td>6.65000</td>\n",
              "    </tr>\n",
              "    <tr>\n",
              "      <th>1</th>\n",
              "      <td>2</td>\n",
              "      <td>2</td>\n",
              "      <td>2.490000</td>\n",
              "      <td>0.99</td>\n",
              "      <td>6.900000</td>\n",
              "      <td>0.563333</td>\n",
              "      <td>0.39</td>\n",
              "      <td>7.16</td>\n",
              "      <td>1.29</td>\n",
              "      <td>5.56</td>\n",
              "      <td>0.281667</td>\n",
              "      <td>13.90000</td>\n",
              "    </tr>\n",
              "    <tr>\n",
              "      <th>2</th>\n",
              "      <td>1</td>\n",
              "      <td>2</td>\n",
              "      <td>2.990000</td>\n",
              "      <td>1.15</td>\n",
              "      <td>3.580000</td>\n",
              "      <td>0.556000</td>\n",
              "      <td>0.39</td>\n",
              "      <td>3.98</td>\n",
              "      <td>1.05</td>\n",
              "      <td>9.56</td>\n",
              "      <td>0.159000</td>\n",
              "      <td>6.65000</td>\n",
              "    </tr>\n",
              "    <tr>\n",
              "      <th>3</th>\n",
              "      <td>3</td>\n",
              "      <td>3</td>\n",
              "      <td>1.790000</td>\n",
              "      <td>1.09</td>\n",
              "      <td>7.114286</td>\n",
              "      <td>0.750000</td>\n",
              "      <td>0.39</td>\n",
              "      <td>2.98</td>\n",
              "      <td>1.05</td>\n",
              "      <td>9.56</td>\n",
              "      <td>0.119000</td>\n",
              "      <td>6.65000</td>\n",
              "    </tr>\n",
              "    <tr>\n",
              "      <th>4</th>\n",
              "      <td>2</td>\n",
              "      <td>4</td>\n",
              "      <td>3.830769</td>\n",
              "      <td>0.99</td>\n",
              "      <td>1.990000</td>\n",
              "      <td>0.563333</td>\n",
              "      <td>0.79</td>\n",
              "      <td>5.58</td>\n",
              "      <td>1.90</td>\n",
              "      <td>7.96</td>\n",
              "      <td>0.331667</td>\n",
              "      <td>13.02439</td>\n",
              "    </tr>\n",
              "  </tbody>\n",
              "</table>\n",
              "</div>"
            ],
            "text/plain": [
              "   Brands  Locations    Apples  ...  Butter      Eggs  Chicken_breasts\n",
              "0       1          1  2.500000  ...    5.56  0.119000          6.65000\n",
              "1       2          2  2.490000  ...    5.56  0.281667         13.90000\n",
              "2       1          2  2.990000  ...    9.56  0.159000          6.65000\n",
              "3       3          3  1.790000  ...    9.56  0.119000          6.65000\n",
              "4       2          4  3.830769  ...    7.96  0.331667         13.02439\n",
              "\n",
              "[5 rows x 12 columns]"
            ]
          },
          "metadata": {
            "tags": []
          },
          "execution_count": 12
        }
      ]
    },
    {
      "cell_type": "markdown",
      "metadata": {
        "id": "B3mXO0yYa9kA",
        "colab_type": "text"
      },
      "source": [
        "**Assumptions:**\n",
        "\n",
        "After I have cleaned my dataset and prepared it as shown above, I can now start building the model. My model should at least have the following parameters:\n",
        "- Base Price \n",
        "  - The currency that was mentioned in the given dataset was Euro so I'm assuming that the currency for base price is Euro over all locations. Since we need a broad prior for it, then I belive Cauchy distribution is a good choice since it's a heavy-tailed distribution which makes it a broad prior distribution. Examining the data, I see that most of the prices of the products vary between 0.5 and 8 Euros so I will center the cauchy distribution at 4 with a scale parameter of 5 to have a broad distriubtion.\n",
        "- The multiplier for each store brand\n",
        "  - Since we don't have much information about the multipliers, then I will also choose cauchy distribution that will be centered on 1 to achieve an average multiplier of 1 and with the scale parameter at .5 for some variance\n",
        "- The multiplier for the geographical location\n",
        "  * Will use the same distribution as the brand multiplier\n",
        "- Finally, I will choose a normal distribution as the likelihood function so that I can consider the given equation (base price * brand multiplier * geographical multiplier which are all obtained from cauchy distributions) as the mean of the distribution and then since we need random noise, I will choose the cauchy distribution again centerd at 0 with variance 0.5 to model sigma of the normal distribution and achive that small random noise required.\n",
        "\n",
        "\n",
        "\n",
        "*Note that since Cauchy's support includes negative numbers, then we set the lower bound of the paramters to 0 to make sure that our parameters are positive.*\n",
        "\n",
        "*Note that I'm going to use three different cities: Berlin, London, California. Since the prices were reported in Euro as given in the dataset, then I'm considering this as the currency in my model. I found one observation from Seoul but I deleted it since it's only one point and might act as an outlier in my model.*\n",
        "\n",
        "*Note, in my conclusions below, I will assume that the means of the various distributions can be generalized to represent their paramters (the prices and the multipliers effects)*\n"
      ]
    },
    {
      "cell_type": "code",
      "metadata": {
        "id": "XIFjTeA_zzdX",
        "colab_type": "code",
        "colab": {}
      },
      "source": [
        "stan_code = \"\"\"\n",
        "\n",
        "\n",
        "data {\n",
        "    int<lower=0> N_products; // Number of the products which should be 10\n",
        "    int<lower=0> N_product_observations; // Total number of observations for each product\n",
        "\n",
        "    int<lower=0> N_locations; // Number of locations given to us\n",
        "    int<lower=0> N_brands; // Number of brands given to us\n",
        "\n",
        "    real<lower=0>  prices[N_products, N_product_observations]; // This will be a list of lists containg the prices for each product\n",
        "    int  brands[N_product_observations]; // list of brands for each observation\n",
        "    int  locations[N_product_observations]; //list of location for each observation\n",
        "\n",
        "\n",
        "    \n",
        "}\n",
        "\n",
        "\n",
        "parameters {\n",
        "    real<lower=0>  base_prices[N_products]; // we should have 10 base prices\n",
        "    real<lower=0>  brand_multiplier[N_brands]; \n",
        "    real<lower=0>  location_multiplier[N_locations];\n",
        "    real<lower=0>  sigma;\n",
        "\n",
        "    \n",
        "}\n",
        "\n",
        "\n",
        "model {\n",
        "    for (i in 1:N_products){\n",
        "    base_prices[i] ~ cauchy(4, 5); // a braod prior for base price\n",
        "    };\n",
        "\n",
        "    for (i in 1:N_brands){\n",
        "    brand_multiplier[i] ~ cauchy(1, .5); // \n",
        "    };\n",
        "\n",
        "    for (i in 1:N_locations){\n",
        "    location_multiplier[i] ~ cauchy(1, .5); // \n",
        "    };\n",
        "\n",
        "    sigma ~ cauchy(0, .5);\n",
        "\n",
        "    for (i in 1:N_products){ // The normal likelihood function running over all the observation of each product\n",
        "      for (j in 1:N_product_observations){\n",
        "        prices[i, j] ~ normal(base_prices[i]* brand_multiplier[brands[j]]*location_multiplier[locations[j]], sigma);\n",
        "      }\n",
        "    } \n",
        "    \n",
        "    \n",
        "    \n",
        "}\n",
        "\n",
        "\"\"\""
      ],
      "execution_count": 0,
      "outputs": []
    },
    {
      "cell_type": "code",
      "metadata": {
        "id": "JcMR6oY7GrVK",
        "colab_type": "code",
        "colab": {
          "base_uri": "https://localhost:8080/",
          "height": 34
        },
        "outputId": "20db902d-b6fc-4f7f-eeb8-642bc132021d"
      },
      "source": [
        "stan_model = pystan.StanModel(model_code=stan_code) #Compiling the stan code that we wrote above."
      ],
      "execution_count": 14,
      "outputs": [
        {
          "output_type": "stream",
          "text": [
            "INFO:pystan:COMPILING THE C++ CODE FOR MODEL anon_model_cae3f7055362b3a6529cdf63abe16166 NOW.\n"
          ],
          "name": "stderr"
        }
      ]
    },
    {
      "cell_type": "code",
      "metadata": {
        "id": "tTBEBjyfNc7E",
        "colab_type": "code",
        "colab": {}
      },
      "source": [
        "#making the list of lists that contain the prices of each product\n",
        "prices = [Model_dataframe['Apples'], Model_dataframe['Bananas'], Model_dataframe['Tomatoes'],\n",
        "          Model_dataframe['Potatoes'], Model_dataframe['Flour_white'], Model_dataframe['Rice_basmati'],\n",
        "          Model_dataframe['Milk_full_cream'], Model_dataframe['Butter'], Model_dataframe['Eggs'],\n",
        "          Model_dataframe['Chicken_breasts']]\n",
        "\n",
        "#passing the data to the stan model above\n",
        "stan_data = {\n",
        "    'N_products': 10,\n",
        "    'N_product_observations': len(Model_dataframe),\n",
        "    'N_locations': len(Model_dataframe[\"Locations\"].unique()),\n",
        "    'N_brands': len(Model_dataframe[\"Brands\"].unique()),\n",
        "    'prices': prices,\n",
        "    'brands':  Model_dataframe['Brands'],\n",
        "    'locations': Model_dataframe['Locations']}\n",
        "\n",
        "\n",
        "results_task = stan_model.sampling(data=stan_data)"
      ],
      "execution_count": 0,
      "outputs": []
    },
    {
      "cell_type": "markdown",
      "metadata": {
        "id": "pPL0BPreOpgJ",
        "colab_type": "text"
      },
      "source": [
        "#Stan Model Results:"
      ]
    },
    {
      "cell_type": "code",
      "metadata": {
        "id": "aJJDMH4vgYxt",
        "colab_type": "code",
        "colab": {
          "base_uri": "https://localhost:8080/",
          "height": 991
        },
        "outputId": "8326af13-ea0a-4d5e-f603-14d99a803c71"
      },
      "source": [
        "print(results_task)"
      ],
      "execution_count": 16,
      "outputs": [
        {
          "output_type": "stream",
          "text": [
            "Inference for Stan model: anon_model_cae3f7055362b3a6529cdf63abe16166.\n",
            "4 chains, each with iter=2000; warmup=1000; thin=1; \n",
            "post-warmup draws per chain=1000, total post-warmup draws=4000.\n",
            "\n",
            "                          mean se_mean     sd   2.5%    25%    50%    75%  97.5%  n_eff   Rhat\n",
            "base_prices[1]            2.82    0.02   0.49   1.96   2.47   2.77    3.1   3.94    825   1.01\n",
            "base_prices[2]            2.16    0.01   0.41   1.48   1.87   2.13   2.41   3.06    959   1.01\n",
            "base_prices[3]            4.34    0.03   0.71   3.13   3.85   4.28   4.74   5.98    786   1.01\n",
            "base_prices[4]            1.41  8.8e-3    0.3    0.9    1.2   1.38    1.6   2.08   1177   1.01\n",
            "base_prices[5]             1.2  7.5e-3   0.28    0.7    1.0   1.17   1.37   1.82   1424    1.0\n",
            "base_prices[6]            3.48    0.02   0.59   2.48   3.08   3.44   3.84   4.81    796   1.01\n",
            "base_prices[7]            1.02  6.9e-3   0.27   0.56   0.83    1.0   1.18   1.61   1543    1.0\n",
            "base_prices[8]            7.08    0.04   1.13   5.17   6.29   6.97   7.71   9.66    780   1.01\n",
            "base_prices[9]            0.32  3.6e-3   0.18   0.03   0.18    0.3   0.43   0.72   2582    1.0\n",
            "base_prices[10]            8.8    0.05   1.41   6.41   7.84   8.66    9.6  12.07    748   1.01\n",
            "brand_multiplier[1]        0.8  4.7e-3   0.14   0.54    0.7   0.79   0.89   1.09    872    1.0\n",
            "brand_multiplier[2]       1.02  5.9e-3   0.17   0.69    0.9   1.01   1.13   1.37    840    1.0\n",
            "brand_multiplier[3]       0.73  4.3e-3   0.13   0.49   0.64   0.72   0.81    1.0    905    1.0\n",
            "brand_multiplier[4]        0.8  5.5e-3   0.17   0.51   0.69   0.79   0.91   1.16    907    1.0\n",
            "brand_multiplier[5]       1.07  6.3e-3   0.18   0.73   0.95   1.07   1.18   1.46    843    1.0\n",
            "brand_multiplier[6]       1.06  6.1e-3   0.19   0.74   0.93   1.05   1.18   1.47    937   1.01\n",
            "brand_multiplier[7]       1.17  7.7e-3    0.3   0.69   0.97   1.13   1.33   1.86   1504    1.0\n",
            "brand_multiplier[8]       0.81  5.2e-3   0.18   0.49   0.68    0.8   0.92   1.19   1185    1.0\n",
            "brand_multiplier[9]        1.3  7.3e-3   0.24   0.89   1.13   1.28   1.45   1.83   1080    1.0\n",
            "location_multiplier[1]    0.99  4.2e-3   0.15   0.73   0.89   0.98   1.08   1.31   1212   1.01\n",
            "location_multiplier[2]    1.11  4.6e-3   0.15   0.85   1.01    1.1   1.21   1.42   1075    1.0\n",
            "location_multiplier[3]    1.18  4.8e-3   0.15    0.9   1.08   1.18   1.27   1.52   1010   1.01\n",
            "location_multiplier[4]    1.04  4.3e-3   0.14   0.79   0.95   1.03   1.12   1.34   1011   1.01\n",
            "location_multiplier[5]    1.13  4.3e-3   0.21   0.77   0.99   1.12   1.26    1.6   2448    1.0\n",
            "location_multiplier[6]    1.15  4.4e-3   0.24   0.75   0.98   1.13   1.31   1.68   2993    1.0\n",
            "location_multiplier[7]    1.04  4.5e-3   0.27   0.56   0.86   1.03    1.2   1.62   3523    1.0\n",
            "location_multiplier[8]    1.22  4.6e-3   0.19   0.89   1.08   1.21   1.34   1.64   1792    1.0\n",
            "location_multiplier[9]    0.93  4.5e-3   0.26   0.43   0.75   0.92   1.09   1.48   3388    1.0\n",
            "location_multiplier[10]   1.04  5.6e-3   0.25   0.63   0.87   1.01   1.17   1.59   1899    1.0\n",
            "location_multiplier[11]   1.12  4.6e-3   0.15   0.85   1.01   1.11   1.21   1.43   1031   1.01\n",
            "location_multiplier[12]   1.03  5.7e-3   0.25    0.6   0.86   1.01   1.17   1.62   1948    1.0\n",
            "location_multiplier[13]   1.44  7.9e-3   0.35   0.88    1.2   1.39   1.63   2.24   1961    1.0\n",
            "location_multiplier[14]    0.9  3.9e-3   0.14   0.65    0.8    0.9   0.99    1.2   1356    1.0\n",
            "location_multiplier[15]   1.04  4.0e-3   0.16   0.76   0.93   1.04   1.14   1.38   1591    1.0\n",
            "location_multiplier[16]   1.13  4.7e-3   0.16   0.85   1.02   1.12   1.23   1.48   1171    1.0\n",
            "location_multiplier[17]   1.01  3.8e-3   0.16   0.73   0.91    1.0   1.11   1.35   1667    1.0\n",
            "location_multiplier[18]   1.01  3.8e-3   0.17   0.71   0.89    1.0   1.12   1.37   1976    1.0\n",
            "location_multiplier[19]   1.23  4.6e-3   0.17   0.92   1.12   1.22   1.34    1.6   1383    1.0\n",
            "location_multiplier[20]   0.94  3.9e-3   0.14   0.67   0.84   0.93   1.02   1.24   1316    1.0\n",
            "location_multiplier[21]   1.13  4.3e-3   0.19    0.8    1.0   1.12   1.24   1.54   1900    1.0\n",
            "location_multiplier[22]   1.17  4.8e-3   0.25   0.73    1.0   1.15   1.31    1.7   2654    1.0\n",
            "location_multiplier[23]   1.02  4.7e-3   0.26   0.52   0.84   1.01   1.18   1.54   2997    1.0\n",
            "location_multiplier[24]   0.66  3.6e-3   0.18   0.33   0.53   0.65   0.77   1.03   2675    1.0\n",
            "location_multiplier[25]   1.13  5.1e-3   0.29   0.63   0.93   1.11   1.31    1.8   3372    1.0\n",
            "location_multiplier[26]   1.25  4.8e-3    0.2    0.9   1.11   1.24   1.37   1.67   1726    1.0\n",
            "location_multiplier[27]   1.18  5.0e-3   0.29   0.69   0.98   1.15   1.34   1.84   3383    1.0\n",
            "sigma                     2.86  7.3e-4   0.05   2.76   2.82   2.86   2.89   2.96   4889    1.0\n",
            "lp__                     -2607    0.15   5.41  -2619  -2610  -2606  -2603  -2598   1277    1.0\n",
            "\n",
            "Samples were drawn using NUTS at Sun Nov 10 04:12:38 2019.\n",
            "For each parameter, n_eff is a crude measure of effective sample size,\n",
            "and Rhat is the potential scale reduction factor on split chains (at \n",
            "convergence, Rhat=1).\n"
          ],
          "name": "stdout"
        }
      ]
    },
    {
      "cell_type": "markdown",
      "metadata": {
        "id": "sMnLoMhX20i9",
        "colab_type": "text"
      },
      "source": [
        "#Section 2: Questions to answer\n",
        "\n"
      ]
    },
    {
      "cell_type": "code",
      "metadata": {
        "id": "PcbuVGb53CRx",
        "colab_type": "code",
        "colab": {}
      },
      "source": [
        "#Getting samples for all the vairables from the model:\n",
        "Stan_Samples = results_task.extract()"
      ],
      "execution_count": 0,
      "outputs": []
    },
    {
      "cell_type": "markdown",
      "metadata": {
        "id": "NK3H2NEf7qag",
        "colab_type": "text"
      },
      "source": [
        "#Basic Price Averages"
      ]
    },
    {
      "cell_type": "code",
      "metadata": {
        "id": "bwJHQhOX3a_R",
        "colab_type": "code",
        "colab": {
          "base_uri": "https://localhost:8080/",
          "height": 730
        },
        "outputId": "1e5cc557-809b-4677-c44e-5404d680cbd0"
      },
      "source": [
        "plt.figure(figsize=(12, 6))\n",
        "products = Model_dataframe.columns[2:]#name of the products\n",
        "means =[]\n",
        "confidence_intervals=[]\n",
        "for i in range(10): #calculating the means and the confidence intervals for the base prices:\n",
        "  product_samples =Stan_Samples['base_prices'][:,i]\n",
        "  means.append(np.mean(product_samples))\n",
        "  confidence_intervals.append(np.percentile(product_samples,[2.5, 97.5]))\n",
        "  plt.hist(product_samples, label = products[i], density = True, bins = 50 )\n",
        "\n",
        "plt.legend()\n",
        "plt.title(\"Stan Posterior probability density of Basic Average Prices for the ten products\")\n",
        "plt.xlabel(\"Prices(Eur)\")\n",
        "plt.show()\n",
        "products_table = pd.DataFrame({\"Product\": products, \"Mean\":means, \"95% Confidence Interval\":confidence_intervals }, index=None)\n",
        "\n",
        "products_table"
      ],
      "execution_count": 18,
      "outputs": [
        {
          "output_type": "display_data",
          "data": {
            "image/png": "[encoded data removed]",
            "text/plain": [
              "<Figure size 864x432 with 1 Axes>"
            ]
          },
          "metadata": {
            "tags": []
          }
        },
        {
          "output_type": "execute_result",
          "data": {
            "text/html": [
              "<div>\n",
              "<style scoped>\n",
              "    .dataframe tbody tr th:only-of-type {\n",
              "        vertical-align: middle;\n",
              "    }\n",
              "\n",
              "    .dataframe tbody tr th {\n",
              "        vertical-align: top;\n",
              "    }\n",
              "\n",
              "    .dataframe thead th {\n",
              "        text-align: right;\n",
              "    }\n",
              "</style>\n",
              "<table border=\"1\" class=\"dataframe\">\n",
              "  <thead>\n",
              "    <tr style=\"text-align: right;\">\n",
              "      <th></th>\n",
              "      <th>Product</th>\n",
              "      <th>Mean</th>\n",
              "      <th>95% Confidence Interval</th>\n",
              "    </tr>\n",
              "  </thead>\n",
              "  <tbody>\n",
              "    <tr>\n",
              "      <th>0</th>\n",
              "      <td>Apples</td>\n",
              "      <td>2.815190</td>\n",
              "      <td>[1.966812318479954, 3.9372703788190924]</td>\n",
              "    </tr>\n",
              "    <tr>\n",
              "      <th>1</th>\n",
              "      <td>Bananas</td>\n",
              "      <td>2.163076</td>\n",
              "      <td>[1.4819484846312845, 3.0604898196343786]</td>\n",
              "    </tr>\n",
              "    <tr>\n",
              "      <th>2</th>\n",
              "      <td>Tomatoes</td>\n",
              "      <td>4.342209</td>\n",
              "      <td>[3.1280312701059376, 5.984002157745427]</td>\n",
              "    </tr>\n",
              "    <tr>\n",
              "      <th>3</th>\n",
              "      <td>Potatoes</td>\n",
              "      <td>1.410638</td>\n",
              "      <td>[0.9015826248393134, 2.0806814822058732]</td>\n",
              "    </tr>\n",
              "    <tr>\n",
              "      <th>4</th>\n",
              "      <td>Flour_white</td>\n",
              "      <td>1.195842</td>\n",
              "      <td>[0.7063042595436475, 1.8222988204219805]</td>\n",
              "    </tr>\n",
              "    <tr>\n",
              "      <th>5</th>\n",
              "      <td>Rice_basmati</td>\n",
              "      <td>3.484402</td>\n",
              "      <td>[2.4842686540721672, 4.807300819672604]</td>\n",
              "    </tr>\n",
              "    <tr>\n",
              "      <th>6</th>\n",
              "      <td>Milk_full_cream</td>\n",
              "      <td>1.021504</td>\n",
              "      <td>[0.5594022433885373, 1.6117695154307754]</td>\n",
              "    </tr>\n",
              "    <tr>\n",
              "      <th>7</th>\n",
              "      <td>Butter</td>\n",
              "      <td>7.079399</td>\n",
              "      <td>[5.17378977796435, 9.657705395150632]</td>\n",
              "    </tr>\n",
              "    <tr>\n",
              "      <th>8</th>\n",
              "      <td>Eggs</td>\n",
              "      <td>0.316996</td>\n",
              "      <td>[0.028366959007570337, 0.7192729387456702]</td>\n",
              "    </tr>\n",
              "    <tr>\n",
              "      <th>9</th>\n",
              "      <td>Chicken_breasts</td>\n",
              "      <td>8.804495</td>\n",
              "      <td>[6.407578034062855, 12.06287258466743]</td>\n",
              "    </tr>\n",
              "  </tbody>\n",
              "</table>\n",
              "</div>"
            ],
            "text/plain": [
              "           Product      Mean                     95% Confidence Interval\n",
              "0           Apples  2.815190     [1.966812318479954, 3.9372703788190924]\n",
              "1          Bananas  2.163076    [1.4819484846312845, 3.0604898196343786]\n",
              "2         Tomatoes  4.342209     [3.1280312701059376, 5.984002157745427]\n",
              "3         Potatoes  1.410638    [0.9015826248393134, 2.0806814822058732]\n",
              "4      Flour_white  1.195842    [0.7063042595436475, 1.8222988204219805]\n",
              "5     Rice_basmati  3.484402     [2.4842686540721672, 4.807300819672604]\n",
              "6  Milk_full_cream  1.021504    [0.5594022433885373, 1.6117695154307754]\n",
              "7           Butter  7.079399       [5.17378977796435, 9.657705395150632]\n",
              "8             Eggs  0.316996  [0.028366959007570337, 0.7192729387456702]\n",
              "9  Chicken_breasts  8.804495      [6.407578034062855, 12.06287258466743]"
            ]
          },
          "metadata": {
            "tags": []
          },
          "execution_count": 18
        }
      ]
    },
    {
      "cell_type": "markdown",
      "metadata": {
        "id": "7hajV6ix9RuG",
        "colab_type": "text"
      },
      "source": [
        "#Brand Multipliers"
      ]
    },
    {
      "cell_type": "code",
      "metadata": {
        "id": "tHAsST7Z3t9a",
        "colab_type": "code",
        "colab": {
          "base_uri": "https://localhost:8080/",
          "height": 687
        },
        "outputId": "82fa2f3d-f2b8-41aa-f0cb-14d9da56bab8"
      },
      "source": [
        "#calculating the means and the confidence intervals for the brand multipliers:\n",
        "plt.figure(figsize=(12, 6))\n",
        "brands = ['ALDI', 'REWE', 'Lidl', 'Tesco Express', 'EDEKA','Waitrose & Partners', 'Safeway', 'Tesco', \"Sainsbury's\"]\n",
        "means =[]\n",
        "confidence_intervals=[]\n",
        "for i in range(len(brands)):\n",
        "  product_samples =Stan_Samples['brand_multiplier'][:, i]\n",
        "  means.append(np.mean(product_samples))\n",
        "  confidence_intervals.append(np.percentile(product_samples,[2.5, 97.5]))\n",
        "  plt.hist(product_samples, label = brands[i], density = True, bins = 50 )\n",
        "\n",
        "plt.legend()\n",
        "plt.title(\"Stan Posterior probability density of the brands multiplies\")\n",
        "plt.show()\n",
        "brand_table = pd.DataFrame({\"Brand\": brands, \"Mean\":means, \"95% Confidence Interval\":confidence_intervals }, index=None)\n",
        "\n",
        "brand_table"
      ],
      "execution_count": 19,
      "outputs": [
        {
          "output_type": "display_data",
          "data": {
            "image/png": "[encoded data removed]",
            "text/plain": [
              "<Figure size 864x432 with 1 Axes>"
            ]
          },
          "metadata": {
            "tags": []
          }
        },
        {
          "output_type": "execute_result",
          "data": {
            "text/html": [
              "<div>\n",
              "<style scoped>\n",
              "    .dataframe tbody tr th:only-of-type {\n",
              "        vertical-align: middle;\n",
              "    }\n",
              "\n",
              "    .dataframe tbody tr th {\n",
              "        vertical-align: top;\n",
              "    }\n",
              "\n",
              "    .dataframe thead th {\n",
              "        text-align: right;\n",
              "    }\n",
              "</style>\n",
              "<table border=\"1\" class=\"dataframe\">\n",
              "  <thead>\n",
              "    <tr style=\"text-align: right;\">\n",
              "      <th></th>\n",
              "      <th>Brand</th>\n",
              "      <th>Mean</th>\n",
              "      <th>95% Confidence Interval</th>\n",
              "    </tr>\n",
              "  </thead>\n",
              "  <tbody>\n",
              "    <tr>\n",
              "      <th>0</th>\n",
              "      <td>ALDI</td>\n",
              "      <td>0.798049</td>\n",
              "      <td>[0.5402794792052867, 1.0867598649320278]</td>\n",
              "    </tr>\n",
              "    <tr>\n",
              "      <th>1</th>\n",
              "      <td>REWE</td>\n",
              "      <td>1.017574</td>\n",
              "      <td>[0.6933021313496005, 1.3731163653132088]</td>\n",
              "    </tr>\n",
              "    <tr>\n",
              "      <th>2</th>\n",
              "      <td>Lidl</td>\n",
              "      <td>0.727657</td>\n",
              "      <td>[0.4882222727658562, 1.000352236723415]</td>\n",
              "    </tr>\n",
              "    <tr>\n",
              "      <th>3</th>\n",
              "      <td>Tesco Express</td>\n",
              "      <td>0.803032</td>\n",
              "      <td>[0.5093359785031164, 1.160239975382921]</td>\n",
              "    </tr>\n",
              "    <tr>\n",
              "      <th>4</th>\n",
              "      <td>EDEKA</td>\n",
              "      <td>1.072747</td>\n",
              "      <td>[0.7338732926404801, 1.458662699777407]</td>\n",
              "    </tr>\n",
              "    <tr>\n",
              "      <th>5</th>\n",
              "      <td>Waitrose &amp; Partners</td>\n",
              "      <td>1.064074</td>\n",
              "      <td>[0.7380980277994129, 1.4710893555674227]</td>\n",
              "    </tr>\n",
              "    <tr>\n",
              "      <th>6</th>\n",
              "      <td>Safeway</td>\n",
              "      <td>1.169931</td>\n",
              "      <td>[0.6924274814048771, 1.8620258525449453]</td>\n",
              "    </tr>\n",
              "    <tr>\n",
              "      <th>7</th>\n",
              "      <td>Tesco</td>\n",
              "      <td>0.806108</td>\n",
              "      <td>[0.4929090936286227, 1.189673942114386]</td>\n",
              "    </tr>\n",
              "    <tr>\n",
              "      <th>8</th>\n",
              "      <td>Sainsbury's</td>\n",
              "      <td>1.301612</td>\n",
              "      <td>[0.8903822178086737, 1.824649104156505]</td>\n",
              "    </tr>\n",
              "  </tbody>\n",
              "</table>\n",
              "</div>"
            ],
            "text/plain": [
              "                 Brand      Mean                   95% Confidence Interval\n",
              "0                 ALDI  0.798049  [0.5402794792052867, 1.0867598649320278]\n",
              "1                 REWE  1.017574  [0.6933021313496005, 1.3731163653132088]\n",
              "2                 Lidl  0.727657   [0.4882222727658562, 1.000352236723415]\n",
              "3        Tesco Express  0.803032   [0.5093359785031164, 1.160239975382921]\n",
              "4                EDEKA  1.072747   [0.7338732926404801, 1.458662699777407]\n",
              "5  Waitrose & Partners  1.064074  [0.7380980277994129, 1.4710893555674227]\n",
              "6              Safeway  1.169931  [0.6924274814048771, 1.8620258525449453]\n",
              "7                Tesco  0.806108   [0.4929090936286227, 1.189673942114386]\n",
              "8          Sainsbury's  1.301612   [0.8903822178086737, 1.824649104156505]"
            ]
          },
          "metadata": {
            "tags": []
          },
          "execution_count": 19
        }
      ]
    },
    {
      "cell_type": "markdown",
      "metadata": {
        "id": "t-kygtOaSOw9",
        "colab_type": "text"
      },
      "source": [
        "We can note that Sainsbury's (which is a brand in London) and Safeway (which is a brand in California) have the highest mean multipliers. We still can't say that this happens because CA and London are more expensive than Berlin because we can also see that the German EDEKA has a higher multiplier than the British Tesco. Which means that these multipliers effects are due to the brand of the store itself."
      ]
    },
    {
      "cell_type": "markdown",
      "metadata": {
        "id": "umcfyTbe_ajd",
        "colab_type": "text"
      },
      "source": [
        "#Location Multipliers"
      ]
    },
    {
      "cell_type": "code",
      "metadata": {
        "id": "C07hDvLU9xCx",
        "colab_type": "code",
        "colab": {
          "base_uri": "https://localhost:8080/",
          "height": 1000
        },
        "outputId": "a5f4d84d-f638-4e9d-85d4-09323f23dd75"
      },
      "source": [
        "#calculating the means and the confidence intervals for the location multipliers:\n",
        "plt.figure(figsize=(12, 6))\n",
        "ax = plt.subplot(111)\n",
        "Locations= ['Lichtenberg', 'Neukölln', 'Mitte', 'Friedrichshain',\n",
        "            'Farringdon, London', 'Islington, London', 'Briton Ferry, London',\n",
        "            'Edgware, London', 'Cazenove, London', 'San Francisco, CA',\n",
        "            'Kreuzberg', 'Mountain View, CA', 'Palo Alto, CA',\n",
        "            'Prenzlauer Berg', 'Barbican, London', 'Alt-Treptow',\n",
        "            'Fitzrovia, London', 'The Brunswick Centre, London',\n",
        "            'The Angel, London', 'Schöneberg', 'Crouch End, London',\n",
        "            'Shoreditch, London', 'Tempelhof', 'New Kent, London',\n",
        "            'Le Grand, London', 'Mayfair, London', 'Temple, London']\n",
        "\n",
        "means =[]\n",
        "confidence_intervals=[]\n",
        "for i in range(len(Locations)):\n",
        "  product_samples =Stan_Samples['location_multiplier'][:, i]\n",
        "  means.append(np.mean(product_samples))\n",
        "  confidence_intervals.append(np.percentile(product_samples,[2.5, 97.5]))\n",
        "  plt.hist(product_samples, label = Locations[i], density = True, bins = 50 )\n",
        "\n",
        "ax.legend(loc='center left', bbox_to_anchor=(1, 0.5))\n",
        "plt.title(\"Stan Posterior probability density of the Locations multiplies\")\n",
        "plt.show()\n",
        "locations_table = pd.DataFrame({\"Location\": Locations, \"Mean\":means, \"95% Confidence Interval\":confidence_intervals }, index=None)\n",
        "\n",
        "locations_table"
      ],
      "execution_count": 20,
      "outputs": [
        {
          "output_type": "display_data",
          "data": {
            "image/png": "[encoded data removed]",
            "text/plain": [
              "<Figure size 864x432 with 1 Axes>"
            ]
          },
          "metadata": {
            "tags": []
          }
        },
        {
          "output_type": "execute_result",
          "data": {
            "text/html": [
              "<div>\n",
              "<style scoped>\n",
              "    .dataframe tbody tr th:only-of-type {\n",
              "        vertical-align: middle;\n",
              "    }\n",
              "\n",
              "    .dataframe tbody tr th {\n",
              "        vertical-align: top;\n",
              "    }\n",
              "\n",
              "    .dataframe thead th {\n",
              "        text-align: right;\n",
              "    }\n",
              "</style>\n",
              "<table border=\"1\" class=\"dataframe\">\n",
              "  <thead>\n",
              "    <tr style=\"text-align: right;\">\n",
              "      <th></th>\n",
              "      <th>Location</th>\n",
              "      <th>Mean</th>\n",
              "      <th>95% Confidence Interval</th>\n",
              "    </tr>\n",
              "  </thead>\n",
              "  <tbody>\n",
              "    <tr>\n",
              "      <th>0</th>\n",
              "      <td>Lichtenberg</td>\n",
              "      <td>0.990871</td>\n",
              "      <td>[0.7308418997445072, 1.3056241441505467]</td>\n",
              "    </tr>\n",
              "    <tr>\n",
              "      <th>1</th>\n",
              "      <td>Neukölln</td>\n",
              "      <td>1.113588</td>\n",
              "      <td>[0.8488656200749165, 1.42362168214454]</td>\n",
              "    </tr>\n",
              "    <tr>\n",
              "      <th>2</th>\n",
              "      <td>Mitte</td>\n",
              "      <td>1.181853</td>\n",
              "      <td>[0.9005695122050932, 1.5176449097123832]</td>\n",
              "    </tr>\n",
              "    <tr>\n",
              "      <th>3</th>\n",
              "      <td>Friedrichshain</td>\n",
              "      <td>1.038629</td>\n",
              "      <td>[0.7899061079239681, 1.335878681289438]</td>\n",
              "    </tr>\n",
              "    <tr>\n",
              "      <th>4</th>\n",
              "      <td>Farringdon, London</td>\n",
              "      <td>1.133538</td>\n",
              "      <td>[0.7653927054830033, 1.6006856415300779]</td>\n",
              "    </tr>\n",
              "    <tr>\n",
              "      <th>5</th>\n",
              "      <td>Islington, London</td>\n",
              "      <td>1.154080</td>\n",
              "      <td>[0.7510005528736858, 1.6775468009057375]</td>\n",
              "    </tr>\n",
              "    <tr>\n",
              "      <th>6</th>\n",
              "      <td>Briton Ferry, London</td>\n",
              "      <td>1.043347</td>\n",
              "      <td>[0.556724408638608, 1.6146248012190636]</td>\n",
              "    </tr>\n",
              "    <tr>\n",
              "      <th>7</th>\n",
              "      <td>Edgware, London</td>\n",
              "      <td>1.218220</td>\n",
              "      <td>[0.8870076789857534, 1.6427497374961413]</td>\n",
              "    </tr>\n",
              "    <tr>\n",
              "      <th>8</th>\n",
              "      <td>Cazenove, London</td>\n",
              "      <td>0.927600</td>\n",
              "      <td>[0.43398305582826374, 1.477961889181072]</td>\n",
              "    </tr>\n",
              "    <tr>\n",
              "      <th>9</th>\n",
              "      <td>San Francisco, CA</td>\n",
              "      <td>1.038719</td>\n",
              "      <td>[0.6331700736825061, 1.5916395137269745]</td>\n",
              "    </tr>\n",
              "    <tr>\n",
              "      <th>10</th>\n",
              "      <td>Kreuzberg</td>\n",
              "      <td>1.116883</td>\n",
              "      <td>[0.849144946023029, 1.4278865156611678]</td>\n",
              "    </tr>\n",
              "    <tr>\n",
              "      <th>11</th>\n",
              "      <td>Mountain View, CA</td>\n",
              "      <td>1.030177</td>\n",
              "      <td>[0.602183653844355, 1.6190305481478315]</td>\n",
              "    </tr>\n",
              "    <tr>\n",
              "      <th>12</th>\n",
              "      <td>Palo Alto, CA</td>\n",
              "      <td>1.437658</td>\n",
              "      <td>[0.883027934637516, 2.2348888646206078]</td>\n",
              "    </tr>\n",
              "    <tr>\n",
              "      <th>13</th>\n",
              "      <td>Prenzlauer Berg</td>\n",
              "      <td>0.904062</td>\n",
              "      <td>[0.6474409618418995, 1.2004364887854457]</td>\n",
              "    </tr>\n",
              "    <tr>\n",
              "      <th>14</th>\n",
              "      <td>Barbican, London</td>\n",
              "      <td>1.043710</td>\n",
              "      <td>[0.755675297387058, 1.3758598604269063]</td>\n",
              "    </tr>\n",
              "    <tr>\n",
              "      <th>15</th>\n",
              "      <td>Alt-Treptow</td>\n",
              "      <td>1.130509</td>\n",
              "      <td>[0.847402256344282, 1.483758539628301]</td>\n",
              "    </tr>\n",
              "    <tr>\n",
              "      <th>16</th>\n",
              "      <td>Fitzrovia, London</td>\n",
              "      <td>1.013131</td>\n",
              "      <td>[0.7297378868763764, 1.3500177285999335]</td>\n",
              "    </tr>\n",
              "    <tr>\n",
              "      <th>17</th>\n",
              "      <td>The Brunswick Centre, London</td>\n",
              "      <td>1.012552</td>\n",
              "      <td>[0.7057183603108036, 1.3708127755815749]</td>\n",
              "    </tr>\n",
              "    <tr>\n",
              "      <th>18</th>\n",
              "      <td>The Angel, London</td>\n",
              "      <td>1.232835</td>\n",
              "      <td>[0.9196528156763796, 1.5993284683272722]</td>\n",
              "    </tr>\n",
              "    <tr>\n",
              "      <th>19</th>\n",
              "      <td>Schöneberg</td>\n",
              "      <td>0.936251</td>\n",
              "      <td>[0.6751093838359619, 1.2373396351083386]</td>\n",
              "    </tr>\n",
              "    <tr>\n",
              "      <th>20</th>\n",
              "      <td>Crouch End, London</td>\n",
              "      <td>1.132170</td>\n",
              "      <td>[0.7968292568569011, 1.5350803064216645]</td>\n",
              "    </tr>\n",
              "    <tr>\n",
              "      <th>21</th>\n",
              "      <td>Shoreditch, London</td>\n",
              "      <td>1.168398</td>\n",
              "      <td>[0.7351493521356264, 1.6945322059228145]</td>\n",
              "    </tr>\n",
              "    <tr>\n",
              "      <th>22</th>\n",
              "      <td>Tempelhof</td>\n",
              "      <td>1.017423</td>\n",
              "      <td>[0.5217950493951854, 1.5359794220052576]</td>\n",
              "    </tr>\n",
              "    <tr>\n",
              "      <th>23</th>\n",
              "      <td>New Kent, London</td>\n",
              "      <td>0.655878</td>\n",
              "      <td>[0.32702099085908953, 1.0289798484603365]</td>\n",
              "    </tr>\n",
              "    <tr>\n",
              "      <th>24</th>\n",
              "      <td>Le Grand, London</td>\n",
              "      <td>1.134410</td>\n",
              "      <td>[0.6316975715652169, 1.7938184196952378]</td>\n",
              "    </tr>\n",
              "    <tr>\n",
              "      <th>25</th>\n",
              "      <td>Mayfair, London</td>\n",
              "      <td>1.249490</td>\n",
              "      <td>[0.8957305170218599, 1.6652801341326848]</td>\n",
              "    </tr>\n",
              "    <tr>\n",
              "      <th>26</th>\n",
              "      <td>Temple, London</td>\n",
              "      <td>1.179770</td>\n",
              "      <td>[0.6912580988375284, 1.8352447924748245]</td>\n",
              "    </tr>\n",
              "  </tbody>\n",
              "</table>\n",
              "</div>"
            ],
            "text/plain": [
              "                        Location  ...                    95% Confidence Interval\n",
              "0                    Lichtenberg  ...   [0.7308418997445072, 1.3056241441505467]\n",
              "1                       Neukölln  ...     [0.8488656200749165, 1.42362168214454]\n",
              "2                          Mitte  ...   [0.9005695122050932, 1.5176449097123832]\n",
              "3                 Friedrichshain  ...    [0.7899061079239681, 1.335878681289438]\n",
              "4             Farringdon, London  ...   [0.7653927054830033, 1.6006856415300779]\n",
              "5              Islington, London  ...   [0.7510005528736858, 1.6775468009057375]\n",
              "6           Briton Ferry, London  ...    [0.556724408638608, 1.6146248012190636]\n",
              "7                Edgware, London  ...   [0.8870076789857534, 1.6427497374961413]\n",
              "8               Cazenove, London  ...   [0.43398305582826374, 1.477961889181072]\n",
              "9              San Francisco, CA  ...   [0.6331700736825061, 1.5916395137269745]\n",
              "10                     Kreuzberg  ...    [0.849144946023029, 1.4278865156611678]\n",
              "11             Mountain View, CA  ...    [0.602183653844355, 1.6190305481478315]\n",
              "12                 Palo Alto, CA  ...    [0.883027934637516, 2.2348888646206078]\n",
              "13               Prenzlauer Berg  ...   [0.6474409618418995, 1.2004364887854457]\n",
              "14              Barbican, London  ...    [0.755675297387058, 1.3758598604269063]\n",
              "15                   Alt-Treptow  ...     [0.847402256344282, 1.483758539628301]\n",
              "16             Fitzrovia, London  ...   [0.7297378868763764, 1.3500177285999335]\n",
              "17  The Brunswick Centre, London  ...   [0.7057183603108036, 1.3708127755815749]\n",
              "18             The Angel, London  ...   [0.9196528156763796, 1.5993284683272722]\n",
              "19                    Schöneberg  ...   [0.6751093838359619, 1.2373396351083386]\n",
              "20            Crouch End, London  ...   [0.7968292568569011, 1.5350803064216645]\n",
              "21            Shoreditch, London  ...   [0.7351493521356264, 1.6945322059228145]\n",
              "22                     Tempelhof  ...   [0.5217950493951854, 1.5359794220052576]\n",
              "23              New Kent, London  ...  [0.32702099085908953, 1.0289798484603365]\n",
              "24              Le Grand, London  ...   [0.6316975715652169, 1.7938184196952378]\n",
              "25               Mayfair, London  ...   [0.8957305170218599, 1.6652801341326848]\n",
              "26                Temple, London  ...   [0.6912580988375284, 1.8352447924748245]\n",
              "\n",
              "[27 rows x 3 columns]"
            ]
          },
          "metadata": {
            "tags": []
          },
          "execution_count": 20
        }
      ]
    },
    {
      "cell_type": "markdown",
      "metadata": {
        "id": "OmjuNhAnT-NH",
        "colab_type": "text"
      },
      "source": [
        "We can see that overall, London and California have higher location multipliers than Berlin. This actually makes sense since These two cities are known to be very expensive."
      ]
    },
    {
      "cell_type": "markdown",
      "metadata": {
        "id": "5yKB6SyCUaY0",
        "colab_type": "text"
      },
      "source": [
        "#Which is strongest?"
      ]
    },
    {
      "cell_type": "code",
      "metadata": {
        "id": "aBUfNogQ95Kz",
        "colab_type": "code",
        "colab": {
          "base_uri": "https://localhost:8080/",
          "height": 84
        },
        "outputId": "81de3185-3a07-4877-8e99-1ec58e03ef92"
      },
      "source": [
        "print(\"Maximum mean brand multiplier effect:\", max(brand_table['Mean']))\n",
        "print(\"Minimum mean brand multiplier effect:\", min(brand_table['Mean']))\n",
        "print(\"Maximum mean location multiplier effect:\", max(locations_table['Mean']))\n",
        "print(\"Minimum mean location multiplier effect:\", min(locations_table['Mean']))\n"
      ],
      "execution_count": 21,
      "outputs": [
        {
          "output_type": "stream",
          "text": [
            "Maximum mean brand multiplier effect: 1.3016119639255825\n",
            "Minimum mean brand multiplier effect: 0.7276572750832053\n",
            "Maximum mean location multiplier effect: 1.4376577570105264\n",
            "Minimum mean location multiplier effect: 0.6558779611679142\n"
          ],
          "name": "stdout"
        }
      ]
    },
    {
      "cell_type": "markdown",
      "metadata": {
        "id": "FFrpHSnQUpEl",
        "colab_type": "text"
      },
      "source": [
        "Using all the data, we find that the maximum mean brand multiplier is 1.287 and the minimum is 0.7275 which means that brands can change up or down by 1.287-0.7275 = 0.5595.\n",
        "\n",
        "On the other hand, the maximum mean location multiplier is 1.46 while the minimum is 0.657 which means that location can change the price up or down by 1.46-0.657 = 0.803\n",
        "\n",
        "This shows that the location multiplier has a greater influence on prices than brand mulitplier. However, we should keep in mind that this location mutliplier is international(across countries) which means it might be too high as a reflection of the different life standards between Lonon, CA, and Berlin. Also most of the above brands exists in one city but not the others. To make a more meaningful comparisons, we can repeat these calculations in each city:"
      ]
    },
    {
      "cell_type": "code",
      "metadata": {
        "id": "5bLk60NY-JFE",
        "colab_type": "code",
        "colab": {}
      },
      "source": [
        "#I'm ignoring California since it has very few points\n",
        "\n",
        "Berlin_locations = ['Lichtenberg', 'Neukölln', 'Mitte', 'Friedrichshain'\n",
        "                    ,'Kreuzberg', 'Prenzlauer Berg' , 'Alt-Treptow',\n",
        "                    'Schöneberg', 'Tempelhof'  ]\n",
        "\n",
        "Berlin_brands = ['ALDI', 'REWE', 'Lidl',  'EDEKA']\n",
        "\n",
        "\n",
        "London_locations = [ 'Farringdon, London', 'Islington, London', 'Briton Ferry, London',\n",
        "                    'Edgware, London', 'Cazenove, London', 'Barbican, London', 'Fitzrovia, London', \n",
        "                    'The Brunswick Centre, London',\n",
        "                    'The Angel, London', 'Crouch End, London','Shoreditch, London', 'New Kent, London',\n",
        "                    'Le Grand, London', 'Mayfair, London', 'Temple, London']\n",
        "\n",
        "London_brands = ['Tesco Express', 'Waitrose & Partners',  'Tesco', \"Sainsbury's\"]\n",
        "\n",
        "mean_mult_Berlin_locations = []\n",
        "mean_mult_Berlin_brands = []\n",
        "\n",
        "mean_mult_London_locations = []\n",
        "mean_mult_London_brands = []\n",
        "\n",
        "for i in Berlin_locations:\n",
        "  s = locations_table[locations_table['Location']== i]\n",
        "  mean_mult_Berlin_locations.append(float(s[\"Mean\"]))\n",
        "\n",
        "for i in Berlin_brands:\n",
        "  s = brand_table[brand_table['Brand']== i]\n",
        "  mean_mult_Berlin_brands.append(float(s[\"Mean\"]))\n",
        "\n",
        "\n",
        "for i in London_locations:\n",
        "  s = locations_table[locations_table['Location']== i]\n",
        "  mean_mult_London_locations.append(float(s[\"Mean\"]))\n",
        "\n",
        "for i in London_brands:\n",
        "  s = brand_table[brand_table['Brand']== i]\n",
        "  mean_mult_London_brands.append(float(s[\"Mean\"]))\n"
      ],
      "execution_count": 0,
      "outputs": []
    },
    {
      "cell_type": "code",
      "metadata": {
        "id": "3s9U5DoGNPN3",
        "colab_type": "code",
        "colab": {
          "base_uri": "https://localhost:8080/",
          "height": 202
        },
        "outputId": "4b129355-c557-4013-cef7-0e0c481e802d"
      },
      "source": [
        "print(\"For Berlin:\")\n",
        "print(\"Maximum mean brand multiplier effect:\", max(mean_mult_Berlin_brands))\n",
        "print(\"Minimum mean brand multiplier effect:\", min(mean_mult_Berlin_brands))\n",
        "print(\"Maximum mean location multiplier effect:\", max(mean_mult_Berlin_locations))\n",
        "print(\"Minimum mean location multiplier effect:\", min(mean_mult_Berlin_locations))\n",
        "\n",
        "print(\"\\nFor London:\")\n",
        "print(\"Maximum mean brand multiplier effect:\", max(mean_mult_London_brands))\n",
        "print(\"Minimum mean brand multiplier effect:\", min(mean_mult_London_brands))\n",
        "print(\"Maximum mean location multiplier effect:\", max(mean_mult_London_locations))\n",
        "print(\"Minimum mean location multiplier effect:\", min(mean_mult_London_locations))\n"
      ],
      "execution_count": 23,
      "outputs": [
        {
          "output_type": "stream",
          "text": [
            "For Berlin:\n",
            "Maximum mean brand multiplier effect: 1.0727474665613728\n",
            "Minimum mean brand multiplier effect: 0.7276572750832053\n",
            "Maximum mean location multiplier effect: 1.18185309763653\n",
            "Minimum mean location multiplier effect: 0.9040619668468801\n",
            "\n",
            "For London:\n",
            "Maximum mean brand multiplier effect: 1.3016119639255825\n",
            "Minimum mean brand multiplier effect: 0.8030323309432211\n",
            "Maximum mean location multiplier effect: 1.2494896354692153\n",
            "Minimum mean location multiplier effect: 0.6558779611679142\n"
          ],
          "name": "stdout"
        }
      ]
    },
    {
      "cell_type": "markdown",
      "metadata": {
        "id": "OPGqiIjwX4AB",
        "colab_type": "text"
      },
      "source": [
        "Now we can see that for Berlin, the effect of brand multiplier is 0.35 while the effect of location multiplier is 0.27 which means that in Berlin, the brands have stronger influence on prices.\n",
        "\n",
        "For London, the effect of brands is 0.492 while the effect of location is 0.592 which means that in London the influence of location on prices is larger.\n",
        "\n",
        "Note that we have been using the mean to make conclusions which is not the best thing to do since that mean varies according to the variance of the distribution and then it's always better to use confindence intervals(Like those we computed in the tables above) for more cetain results"
      ]
    },
    {
      "cell_type": "markdown",
      "metadata": {
        "id": "6DBzl12oZAXY",
        "colab_type": "text"
      },
      "source": [
        "#Correlation with Rental Prices in Berlin"
      ]
    },
    {
      "cell_type": "markdown",
      "metadata": {
        "id": "UZ9obvS5Rfjw",
        "colab_type": "text"
      },
      "source": [
        "From the given link, I searched the nearest train stations to each location on the map and extracted the rental prices (I got different number of prices for different locations depending on the number of close train stations to them)"
      ]
    },
    {
      "cell_type": "code",
      "metadata": {
        "id": "NK2OrgbuOvEA",
        "colab_type": "code",
        "colab": {
          "base_uri": "https://localhost:8080/",
          "height": 421
        },
        "outputId": "9f665f74-1377-4f63-832e-092de9e4295b"
      },
      "source": [
        "Lichtenberg = [752,752, 736]\n",
        "Neukölln = [812,872,801,833]\n",
        "Mitte = [1044,1048,1090, 1163]\n",
        "Friedrichshain = [976,842,942, 860]\n",
        "Kreuzberg = [865,895,908, 860,]\n",
        "Prenzlauer_Berg = [856,893, 833]\n",
        "Alt_Treptow = [743,730, 755]\n",
        "Schöneberg = [855,797,705,778]\n",
        "Tempelhof = [957,859,1048]\n",
        "\n",
        "x= mean_mult_Berlin_locations #location multipliers\n",
        "y=[]\n",
        "\n",
        "rental_prices = [Lichtenberg, Neukölln, Mitte, Friedrichshain\n",
        "                    ,Kreuzberg, Prenzlauer_Berg , Alt_Treptow,\n",
        "                    Schöneberg, Tempelhof]\n",
        "\n",
        "for i in rental_prices:\n",
        "  y.append(np.mean(i)) #taking the mean of the rental prices I found\n",
        "\n",
        "plt.figure(figsize=(12, 6))\n",
        "plt.scatter(x, y)\n",
        "for numb, text in enumerate(Berlin_locations): #plotting area name on the plot\n",
        "    plt.annotate(text, (x[numb], y[numb]))\n",
        "plt.plot(np.unique(x), np.poly1d(np.polyfit(x, y, 1))(np.unique(x))) #fitting a best fit line to check the correlation\n",
        "plt.title('Plot of mean area multiplier vs area mean rental price')\n",
        "plt.xlabel(\"Location Multiplier\")\n",
        "plt.ylabel(\"Rental Prices\")\n",
        "plt.show()\n",
        "print(\"Pearson's Correlation Coeffiecient\", stats.pearsonr(x, y)[0])"
      ],
      "execution_count": 24,
      "outputs": [
        {
          "output_type": "display_data",
          "data": {
            "image/png": "[encoded data removed]",
            "text/plain": [
              "<Figure size 864x432 with 1 Axes>"
            ]
          },
          "metadata": {
            "tags": []
          }
        },
        {
          "output_type": "stream",
          "text": [
            "Pearson's Correlation Coeffiecient 0.38395806424343304\n"
          ],
          "name": "stdout"
        }
      ]
    },
    {
      "cell_type": "markdown",
      "metadata": {
        "id": "hGQwEa3mc3EL",
        "colab_type": "text"
      },
      "source": [
        "Looking at the graph, we can notice the positive correlation between the mean location multipliers and the mean rental prices around that area with a Pearson's correlation coeffiecient of 0.3895 which is considered relatively strong (or moderate correlation). This can provide the explanation that in Berlin, some areas like Kreuzberg and Mitte are richer than other areas (like Lichtenberg). But it's actually hard to make such generalizations because we can see the outliers (Alt_Treptow that has a high mutliplier but yet one of the lowest rents). So in general, we would need a larger dataset that is more carefully collected (since the data that we used here might be biased in many ways as the collectors were just students trying to complete their assignment)."
      ]
    }
  ]
}