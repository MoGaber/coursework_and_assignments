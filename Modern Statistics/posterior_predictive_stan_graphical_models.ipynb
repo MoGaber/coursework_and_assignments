{
 "cells": [
  {
   "cell_type": "code",
   "execution_count": 1,
   "metadata": {},
   "outputs": [],
   "source": [
    "from scipy import stats\n",
    "import numpy as np\n",
    "import matplotlib.pyplot as plt\n",
    "import warnings\n",
    "warnings.filterwarnings(\"ignore\")"
   ]
  },
  {
   "cell_type": "markdown",
   "metadata": {},
   "source": [
    "|Study          | Treatment group |   Control group  |\n",
    "|---------------|-----------------|------------------|\n",
    "|Di Rienzo 2014 |     20 / 23     |        9 / 15    |\n",
    "|Galli 1994     |     10 / 16     |       11 / 18    |\n",
    "|Kaufman 1974   |     13 / 16     |        4 / 10    |\n",
    "|Qin 2014       |     35 / 45     |       21 / 39    |\n",
    "|Sanchez 2012   |     22 / 31     |       12 / 29    |\n",
    "|Silny 2006     |      7 / 10     |        0 / 10    |\n",
    "|**Totals**     |    107 / 141    |       57 / 121   |\n"
   ]
  },
  {
   "cell_type": "markdown",
   "metadata": {},
   "source": [
    "# The Control Group Data"
   ]
  },
  {
   "cell_type": "code",
   "execution_count": 2,
   "metadata": {},
   "outputs": [],
   "source": [
    "#from the table above, we can get the following data from the control group:\n",
    "patients_number = [15, 18, 10, 39, 29, 10]\n",
    "real_data_success = [9, 11, 4, 21, 12, 0]"
   ]
  },
  {
   "cell_type": "markdown",
   "metadata": {},
   "source": [
    "# The posterior distribution"
   ]
  },
  {
   "cell_type": "code",
   "execution_count": 3,
   "metadata": {},
   "outputs": [],
   "source": [
    "# Beta posterior distribution taken from from class 8.1:\n",
    "posterior_distribution = stats.beta(58, 65) "
   ]
  },
  {
   "cell_type": "markdown",
   "metadata": {},
   "source": [
    "# Generate Samples from distribution\n",
    "Here I will generate samples of theta (probability of success) from the posterior and then I will use these samples to generate a replicated data of the number of successful recoveries using the binomial likelihood function "
   ]
  },
  {
   "cell_type": "code",
   "execution_count": 4,
   "metadata": {},
   "outputs": [],
   "source": [
    "def generate_replicated_data():\n",
    "    sample = []\n",
    "    theta = posterior_distribution.rvs() #generating one theta from the distribution\n",
    "    \n",
    "    for n in patients_number:\n",
    "        sample.append(stats.binom(n, theta).rvs()) #using the theta we generated above to generate replicated data\n",
    "        # using the binomial likelihood function\n",
    "    return sample\n",
    "\n",
    "replicated_data = [generate_replicated_data() for i in range(1000)] #generating 1000 set of replicated data  "
   ]
  },
  {
   "cell_type": "markdown",
   "metadata": {},
   "source": [
    "# Test Statiscal Function\n",
    "I will use the geometric mean as the test statistic function. I will test if the model describes the geometric mean of the data well or not. The geometric mean is an average that indicates the typical value or the central tendency of the data by taking the nth squre root of the product of the data points where n is the number of the data points. "
   ]
  },
  {
   "cell_type": "code",
   "execution_count": 5,
   "metadata": {},
   "outputs": [],
   "source": [
    "def statistic_function(data):\n",
    "    return stats.gmean(data) #return the geometric mean of the data"
   ]
  },
  {
   "cell_type": "markdown",
   "metadata": {},
   "source": [
    "# Checking the model and plotting the histogram"
   ]
  },
  {
   "cell_type": "code",
   "execution_count": 6,
   "metadata": {},
   "outputs": [
    {
     "data": {
      "image/png": "[encoded data removed]",
      "text/plain": [
       "<Figure size 432x288 with 1 Axes>"
      ]
     },
     "metadata": {
      "needs_background": "light"
     },
     "output_type": "display_data"
    }
   ],
   "source": [
    "statistic_real = statistic_function(real_data_success)# Getting the geometric mean of the real data\n",
    "\n",
    "statistic_replicated = np.array([statistic_function(i) for i in replicated_data]) # Getting the geometric mean of the\n",
    "#replicated data\n",
    "\n",
    "#plotting the histogram\n",
    "plt.hist(statistic_replicated)#the histogram\n",
    "plt.axvline(statistic_real, color='red') #the line of the real data\n",
    "\n",
    "p=((statistic_replicated>statistic_real).sum())/len(statistic_replicated)#the p_value (proportion of histogram to the right\n",
    "# of the line)\n",
    "\n",
    "plt.title(f'Histogram of geometric means of the model distribution, p_value: {p}')\n",
    "plt.show()"
   ]
  },
  {
   "cell_type": "markdown",
   "metadata": {},
   "source": [
    "We see that the p_value is 0.993 which is larger than 0.95 which means that the model does a poor job in describing the geometric mean of the dataset. That happens because the real dataset has a 0 as one of the values which outputs a 0 geometric mean(since the geometric mean multiplies all these values) and then the model does a poor job at predicting that 0 value for one of the studies."
   ]
  }
 ],
 "metadata": {
  "kernelspec": {
   "display_name": "Python 3",
   "language": "python",
   "name": "python3"
  },
  "language_info": {
   "codemirror_mode": {
    "name": "ipython",
    "version": 3
   },
   "file_extension": ".py",
   "mimetype": "text/x-python",
   "name": "python",
   "nbconvert_exporter": "python",
   "pygments_lexer": "ipython3",
   "version": "3.7.3"
  }
 },
 "nbformat": 4,
 "nbformat_minor": 2
}
