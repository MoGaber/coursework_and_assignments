{
 "cells": [
  {
   "cell_type": "code",
   "execution_count": 1,
   "metadata": {},
   "outputs": [],
   "source": [
    "import numpy as np\n",
    "import matplotlib.pyplot as plt"
   ]
  },
  {
   "cell_type": "code",
   "execution_count": 2,
   "metadata": {},
   "outputs": [],
   "source": [
    "class hopefield:\n",
    "    def __init__(self,I):\n",
    "        self.I = I\n",
    "        self.weights = np.zeros([I, I])\n",
    "    def store(self, V):\n",
    "        V = np.array(V).flatten()\n",
    "        for i in range(self.I):\n",
    "            for j in range(self.I):\n",
    "                self.weights[i, j] += V[i]*V[j]\n",
    "        np.fill_diagonal(my_hop.weights, 0)\n",
    "    def recall(self, corrupted):\n",
    "        corrupted = np.array(corrupted).flatten()\n",
    "        for i in range(len(corrupted)):\n",
    "            corrupted[i] = np.sign(corrupted.dot(my_hop.weights[i]))\n",
    "        corrupted = corrupted.reshape(3, 3)\n",
    "        return corrupted\n"
   ]
  },
  {
   "cell_type": "code",
   "execution_count": 4,
   "metadata": {},
   "outputs": [],
   "source": [
    "my_hop = hopefield(9)\n",
    "T = [[1, 1, 1], \n",
    "     [-1,1,-1], \n",
    "     [-1, 1, -1]]\n",
    "\n",
    "I =  [[1, 1, 1], \n",
    "         [-1,1,-1], \n",
    "         [1, 1, 1]]\n",
    "\n",
    "my_hop.store(T)\n",
    "my_hop.store(I)\n"
   ]
  },
  {
   "cell_type": "code",
   "execution_count": 5,
   "metadata": {},
   "outputs": [
    {
     "data": {
      "text/plain": [
       "[[1, 1, 1], [-1, -1, -1], [-1, 1, -1]]"
      ]
     },
     "execution_count": 5,
     "metadata": {},
     "output_type": "execute_result"
    },
    {
     "data": {
      "image/png": "[encoded data removed]",
      "text/plain": [
       "<Figure size 432x288 with 1 Axes>"
      ]
     },
     "metadata": {
      "needs_background": "light"
     },
     "output_type": "display_data"
    }
   ],
   "source": [
    "corrupted_T =  [[1, 1, 1], \n",
    "             [-1,-1,-1], \n",
    "             [-1, 1, -1]]\n",
    "plt.imshow(corrupted_T)\n",
    "corrupted_T"
   ]
  },
  {
   "cell_type": "code",
   "execution_count": 6,
   "metadata": {},
   "outputs": [
    {
     "data": {
      "text/plain": [
       "<matplotlib.image.AxesImage at 0x18188f0b048>"
      ]
     },
     "execution_count": 6,
     "metadata": {},
     "output_type": "execute_result"
    },
    {
     "data": {
      "image/png": "[encoded data removed]",
      "text/plain": [
       "<Figure size 432x288 with 1 Axes>"
      ]
     },
     "metadata": {
      "needs_background": "light"
     },
     "output_type": "display_data"
    }
   ],
   "source": [
    "fixed_T = my_hop.recall(corrupted_T)\n",
    "plt.imshow(fixed_T)\n"
   ]
  },
  {
   "cell_type": "code",
   "execution_count": 27,
   "metadata": {},
   "outputs": [
    {
     "data": {
      "text/plain": [
       "<matplotlib.image.AxesImage at 0x1b8cdb6a518>"
      ]
     },
     "execution_count": 27,
     "metadata": {},
     "output_type": "execute_result"
    },
    {
     "data": {
      "image/png": "[encoded data removed]",
      "text/plain": [
       "<Figure size 432x288 with 1 Axes>"
      ]
     },
     "metadata": {
      "needs_background": "light"
     },
     "output_type": "display_data"
    }
   ],
   "source": [
    "corrupted_I =  [[1, 1, -1], \n",
    "             [-1,1,-1], \n",
    "             [1, 1, 1]]\n",
    "plt.imshow(corrupted_I)\n"
   ]
  },
  {
   "cell_type": "code",
   "execution_count": 28,
   "metadata": {},
   "outputs": [
    {
     "data": {
      "text/plain": [
       "<matplotlib.image.AxesImage at 0x1b8cdbc1a90>"
      ]
     },
     "execution_count": 28,
     "metadata": {},
     "output_type": "execute_result"
    },
    {
     "data": {
      "image/png": "[encoded data removed]",
      "text/plain": [
       "<Figure size 432x288 with 1 Axes>"
      ]
     },
     "metadata": {
      "needs_background": "light"
     },
     "output_type": "display_data"
    }
   ],
   "source": [
    "fixed_I = my_hop.recall(corrupted_I)\n",
    "plt.imshow(fixed_I)\n"
   ]
  }
 ],
 "metadata": {
  "kernelspec": {
   "display_name": "Python 3",
   "language": "python",
   "name": "python3"
  },
  "language_info": {
   "codemirror_mode": {
    "name": "ipython",
    "version": 3
   },
   "file_extension": ".py",
   "mimetype": "text/x-python",
   "name": "python",
   "nbconvert_exporter": "python",
   "pygments_lexer": "ipython3",
   "version": "3.7.3"
  }
 },
 "nbformat": 4,
 "nbformat_minor": 2
}
