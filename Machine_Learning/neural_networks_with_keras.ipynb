{
 "cells": [
  {
   "cell_type": "code",
   "execution_count": 13,
   "metadata": {},
   "outputs": [],
   "source": [
    "from numpy import loadtxt\n",
    "from keras.models import Sequential\n",
    "from keras.layers import Dense\n",
    "import pandas as pd\n",
    "from sklearn import datasets\n",
    "import matplotlib.pyplot as plt\n",
    "import numpy as np"
   ]
  },
  {
   "cell_type": "code",
   "execution_count": 5,
   "metadata": {},
   "outputs": [],
   "source": [
    "dataset = loadtxt('https://raw.githubusercontent.com/jbrownlee/Datasets/master/pima-indians-diabetes.data.csv', delimiter=',')\n",
    "X = dataset[:,0:8]\n",
    "y = dataset[:,8]"
   ]
  },
  {
   "cell_type": "code",
   "execution_count": 7,
   "metadata": {},
   "outputs": [
    {
     "data": {
      "text/plain": [
       "(768, 8)"
      ]
     },
     "execution_count": 7,
     "metadata": {},
     "output_type": "execute_result"
    }
   ],
   "source": [
    "X.shape"
   ]
  },
  {
   "cell_type": "code",
   "execution_count": 19,
   "metadata": {},
   "outputs": [
    {
     "data": {
      "text/plain": [
       "array([0, 0, 1, 1])"
      ]
     },
     "execution_count": 19,
     "metadata": {},
     "output_type": "execute_result"
    }
   ],
   "source": [
    "x = np.array([[1, 2,3],\n",
    "             [3, 4,5],\n",
    "              [15, 16,17],\n",
    "              [18, 19,20]])\n",
    "\n",
    "y = np.array([0, 0, 1, 1])\n",
    "y"
   ]
  },
  {
   "cell_type": "code",
   "execution_count": 23,
   "metadata": {},
   "outputs": [
    {
     "name": "stdout",
     "output_type": "stream",
     "text": [
      "Model: \"sequential_5\"\n",
      "_________________________________________________________________\n",
      "Layer (type)                 Output Shape              Param #   \n",
      "=================================================================\n",
      "dense_13 (Dense)             (None, 12)                48        \n",
      "_________________________________________________________________\n",
      "dense_14 (Dense)             (None, 8)                 104       \n",
      "_________________________________________________________________\n",
      "dense_15 (Dense)             (None, 1)                 9         \n",
      "=================================================================\n",
      "Total params: 161\n",
      "Trainable params: 161\n",
      "Non-trainable params: 0\n",
      "_________________________________________________________________\n"
     ]
    }
   ],
   "source": [
    "# define the keras model\n",
    "model = Sequential()\n",
    "model.add(Dense(12, input_dim=3, activation='relu')) # 12 neurons and expecting 8 columns x\n",
    "model.add(Dense(8, activation='relu'))#8 neurons with activation function rectified\n",
    "model.add(Dense(1, activation='sigmoid')) #1 neuron with sigmoid activation\n",
    "model.summary()"
   ]
  },
  {
   "cell_type": "code",
   "execution_count": 24,
   "metadata": {},
   "outputs": [],
   "source": [
    "# compile the keras model\n",
    "model.compile(loss='binary_crossentropy', optimizer='adam', metrics=['accuracy'])\n",
    "# loss function is cross entropy, optimization of weights is through adam's stochastic gradient decsent\n",
    "#we evaluate the model with the accuracy"
   ]
  },
  {
   "cell_type": "code",
   "execution_count": 25,
   "metadata": {
    "scrolled": true
   },
   "outputs": [
    {
     "name": "stdout",
     "output_type": "stream",
     "text": [
      "Epoch 1/200\n",
      "4/4 [==============================] - 0s 60ms/step - loss: 1.1570 - accuracy: 0.5000\n",
      "Epoch 2/200\n",
      "4/4 [==============================] - 0s 249us/step - loss: 1.1051 - accuracy: 0.5000\n",
      "Epoch 3/200\n",
      "4/4 [==============================] - 0s 499us/step - loss: 1.0547 - accuracy: 0.5000\n",
      "Epoch 4/200\n",
      "4/4 [==============================] - 0s 250us/step - loss: 1.0058 - accuracy: 0.5000\n",
      "Epoch 5/200\n",
      "4/4 [==============================] - 0s 249us/step - loss: 0.9590 - accuracy: 0.5000\n",
      "Epoch 6/200\n",
      "4/4 [==============================] - 0s 249us/step - loss: 0.9148 - accuracy: 0.5000\n",
      "Epoch 7/200\n",
      "4/4 [==============================] - 0s 248us/step - loss: 0.8948 - accuracy: 0.5000\n",
      "Epoch 8/200\n",
      "4/4 [==============================] - 0s 249us/step - loss: 0.8806 - accuracy: 0.5000\n",
      "Epoch 9/200\n",
      "4/4 [==============================] - 0s 249us/step - loss: 0.8661 - accuracy: 0.5000\n",
      "Epoch 10/200\n",
      "4/4 [==============================] - 0s 249us/step - loss: 0.8515 - accuracy: 0.5000\n",
      "Epoch 11/200\n",
      "4/4 [==============================] - 0s 250us/step - loss: 0.8370 - accuracy: 0.5000\n",
      "Epoch 12/200\n",
      "4/4 [==============================] - 0s 249us/step - loss: 0.8225 - accuracy: 0.5000\n",
      "Epoch 13/200\n",
      "4/4 [==============================] - 0s 249us/step - loss: 0.8081 - accuracy: 0.5000\n",
      "Epoch 14/200\n",
      "4/4 [==============================] - 0s 249us/step - loss: 0.7939 - accuracy: 0.5000\n",
      "Epoch 15/200\n",
      "4/4 [==============================] - 0s 249us/step - loss: 0.7799 - accuracy: 0.5000\n",
      "Epoch 16/200\n",
      "4/4 [==============================] - 0s 249us/step - loss: 0.7662 - accuracy: 0.5000\n",
      "Epoch 17/200\n",
      "4/4 [==============================] - 0s 499us/step - loss: 0.7527 - accuracy: 0.5000\n",
      "Epoch 18/200\n",
      "4/4 [==============================] - 0s 499us/step - loss: 0.7395 - accuracy: 0.5000\n",
      "Epoch 19/200\n",
      "4/4 [==============================] - 0s 499us/step - loss: 0.7266 - accuracy: 0.5000\n",
      "Epoch 20/200\n",
      "4/4 [==============================] - 0s 250us/step - loss: 0.7139 - accuracy: 0.5000\n",
      "Epoch 21/200\n",
      "4/4 [==============================] - 0s 507us/step - loss: 0.7016 - accuracy: 0.5000\n",
      "Epoch 22/200\n",
      "4/4 [==============================] - 0s 249us/step - loss: 0.6896 - accuracy: 0.5000\n",
      "Epoch 23/200\n",
      "4/4 [==============================] - 0s 249us/step - loss: 0.6780 - accuracy: 0.5000\n",
      "Epoch 24/200\n",
      "4/4 [==============================] - 0s 376us/step - loss: 0.6667 - accuracy: 0.5000\n",
      "Epoch 25/200\n",
      "4/4 [==============================] - 0s 249us/step - loss: 0.6556 - accuracy: 0.7500\n",
      "Epoch 26/200\n",
      "4/4 [==============================] - 0s 499us/step - loss: 0.6451 - accuracy: 1.0000\n",
      "Epoch 27/200\n",
      "4/4 [==============================] - 0s 246us/step - loss: 0.6348 - accuracy: 1.0000\n",
      "Epoch 28/200\n",
      "4/4 [==============================] - 0s 249us/step - loss: 0.6249 - accuracy: 1.0000\n",
      "Epoch 29/200\n",
      "4/4 [==============================] - 0s 499us/step - loss: 0.6154 - accuracy: 1.0000\n",
      "Epoch 30/200\n",
      "4/4 [==============================] - 0s 245us/step - loss: 0.6061 - accuracy: 1.0000\n",
      "Epoch 31/200\n",
      "4/4 [==============================] - 0s 250us/step - loss: 0.5972 - accuracy: 1.0000\n",
      "Epoch 32/200\n",
      "4/4 [==============================] - 0s 251us/step - loss: 0.5887 - accuracy: 1.0000\n",
      "Epoch 33/200\n",
      "4/4 [==============================] - 0s 249us/step - loss: 0.5805 - accuracy: 1.0000\n",
      "Epoch 34/200\n",
      "4/4 [==============================] - 0s 499us/step - loss: 0.5726 - accuracy: 1.0000\n",
      "Epoch 35/200\n",
      "4/4 [==============================] - 0s 249us/step - loss: 0.5650 - accuracy: 1.0000\n",
      "Epoch 36/200\n",
      "4/4 [==============================] - 0s 249us/step - loss: 0.5578 - accuracy: 1.0000\n",
      "Epoch 37/200\n",
      "4/4 [==============================] - 0s 255us/step - loss: 0.5509 - accuracy: 1.0000\n",
      "Epoch 38/200\n",
      "4/4 [==============================] - 0s 250us/step - loss: 0.5442 - accuracy: 1.0000\n",
      "Epoch 39/200\n",
      "4/4 [==============================] - 0s 249us/step - loss: 0.5378 - accuracy: 1.0000\n",
      "Epoch 40/200\n",
      "4/4 [==============================] - 0s 378us/step - loss: 0.5317 - accuracy: 1.0000\n",
      "Epoch 41/200\n",
      "4/4 [==============================] - 0s 249us/step - loss: 0.5259 - accuracy: 1.0000\n",
      "Epoch 42/200\n",
      "4/4 [==============================] - 0s 498us/step - loss: 0.5203 - accuracy: 1.0000\n",
      "Epoch 43/200\n",
      "4/4 [==============================] - 0s 249us/step - loss: 0.5151 - accuracy: 1.0000\n",
      "Epoch 44/200\n",
      "4/4 [==============================] - 0s 499us/step - loss: 0.5103 - accuracy: 1.0000\n",
      "Epoch 45/200\n",
      "4/4 [==============================] - 0s 249us/step - loss: 0.5057 - accuracy: 1.0000\n",
      "Epoch 46/200\n",
      "4/4 [==============================] - 0s 249us/step - loss: 0.5014 - accuracy: 1.0000\n",
      "Epoch 47/200\n",
      "4/4 [==============================] - 0s 510us/step - loss: 0.4972 - accuracy: 1.0000\n",
      "Epoch 48/200\n",
      "4/4 [==============================] - 0s 499us/step - loss: 0.4932 - accuracy: 0.7500\n",
      "Epoch 49/200\n",
      "4/4 [==============================] - 0s 249us/step - loss: 0.4895 - accuracy: 0.7500\n",
      "Epoch 50/200\n",
      "4/4 [==============================] - 0s 259us/step - loss: 0.4859 - accuracy: 0.7500\n",
      "Epoch 51/200\n",
      "4/4 [==============================] - 0s 249us/step - loss: 0.4825 - accuracy: 0.7500\n",
      "Epoch 52/200\n",
      "4/4 [==============================] - 0s 249us/step - loss: 0.4792 - accuracy: 0.7500\n",
      "Epoch 53/200\n",
      "4/4 [==============================] - 0s 261us/step - loss: 0.4760 - accuracy: 0.7500\n",
      "Epoch 54/200\n",
      "4/4 [==============================] - 0s 249us/step - loss: 0.4732 - accuracy: 0.7500\n",
      "Epoch 55/200\n",
      "4/4 [==============================] - 0s 249us/step - loss: 0.4705 - accuracy: 0.7500\n",
      "Epoch 56/200\n",
      "4/4 [==============================] - 0s 250us/step - loss: 0.4680 - accuracy: 0.7500\n",
      "Epoch 57/200\n",
      "4/4 [==============================] - 0s 499us/step - loss: 0.4655 - accuracy: 0.7500\n",
      "Epoch 58/200\n",
      "4/4 [==============================] - 0s 499us/step - loss: 0.4632 - accuracy: 0.7500\n",
      "Epoch 59/200\n",
      "4/4 [==============================] - 0s 10ms/step - loss: 0.4609 - accuracy: 0.7500\n",
      "Epoch 60/200\n",
      "4/4 [==============================] - 0s 249us/step - loss: 0.4588 - accuracy: 0.7500\n",
      "Epoch 61/200\n",
      "4/4 [==============================] - 0s 499us/step - loss: 0.4567 - accuracy: 0.7500\n",
      "Epoch 62/200\n",
      "4/4 [==============================] - 0s 249us/step - loss: 0.4548 - accuracy: 0.7500\n",
      "Epoch 63/200\n",
      "4/4 [==============================] - 0s 376us/step - loss: 0.4529 - accuracy: 0.7500\n",
      "Epoch 64/200\n",
      "4/4 [==============================] - 0s 249us/step - loss: 0.4510 - accuracy: 0.7500\n",
      "Epoch 65/200\n",
      "4/4 [==============================] - 0s 249us/step - loss: 0.4493 - accuracy: 0.7500\n",
      "Epoch 66/200\n",
      "4/4 [==============================] - 0s 376us/step - loss: 0.4476 - accuracy: 0.7500\n",
      "Epoch 67/200\n",
      "4/4 [==============================] - 0s 249us/step - loss: 0.4460 - accuracy: 0.7500\n",
      "Epoch 68/200\n",
      "4/4 [==============================] - 0s 249us/step - loss: 0.4444 - accuracy: 0.7500\n",
      "Epoch 69/200\n",
      "4/4 [==============================] - 0s 376us/step - loss: 0.4429 - accuracy: 0.7500\n",
      "Epoch 70/200\n",
      "4/4 [==============================] - 0s 249us/step - loss: 0.4414 - accuracy: 0.7500\n",
      "Epoch 71/200\n",
      "4/4 [==============================] - 0s 249us/step - loss: 0.4400 - accuracy: 0.7500\n",
      "Epoch 72/200\n",
      "4/4 [==============================] - 0s 499us/step - loss: 0.4387 - accuracy: 0.7500\n",
      "Epoch 73/200\n",
      "4/4 [==============================] - 0s 248us/step - loss: 0.4373 - accuracy: 0.7500\n",
      "Epoch 74/200\n",
      "4/4 [==============================] - 0s 249us/step - loss: 0.4360 - accuracy: 0.7500\n",
      "Epoch 75/200\n",
      "4/4 [==============================] - 0s 244us/step - loss: 0.4348 - accuracy: 0.7500\n",
      "Epoch 76/200\n",
      "4/4 [==============================] - 0s 0us/step - loss: 0.4335 - accuracy: 0.7500\n",
      "Epoch 77/200\n",
      "4/4 [==============================] - 0s 249us/step - loss: 0.4323 - accuracy: 0.7500\n",
      "Epoch 78/200\n",
      "4/4 [==============================] - 0s 499us/step - loss: 0.4312 - accuracy: 0.7500\n",
      "Epoch 79/200\n",
      "4/4 [==============================] - 0s 249us/step - loss: 0.4300 - accuracy: 0.7500\n",
      "Epoch 80/200\n",
      "4/4 [==============================] - 0s 249us/step - loss: 0.4289 - accuracy: 0.7500\n",
      "Epoch 81/200\n",
      "4/4 [==============================] - 0s 378us/step - loss: 0.4278 - accuracy: 0.7500\n",
      "Epoch 82/200\n",
      "4/4 [==============================] - 0s 249us/step - loss: 0.4268 - accuracy: 0.7500\n",
      "Epoch 83/200\n",
      "4/4 [==============================] - 0s 249us/step - loss: 0.4257 - accuracy: 0.7500\n",
      "Epoch 84/200\n",
      "4/4 [==============================] - 0s 499us/step - loss: 0.4247 - accuracy: 0.7500\n",
      "Epoch 85/200\n",
      "4/4 [==============================] - 0s 249us/step - loss: 0.4237 - accuracy: 0.7500\n",
      "Epoch 86/200\n",
      "4/4 [==============================] - 0s 0us/step - loss: 0.4227 - accuracy: 0.7500\n",
      "Epoch 87/200\n",
      "4/4 [==============================] - 0s 249us/step - loss: 0.4217 - accuracy: 0.7500\n",
      "Epoch 88/200\n",
      "4/4 [==============================] - 0s 249us/step - loss: 0.4208 - accuracy: 0.7500\n",
      "Epoch 89/200\n",
      "4/4 [==============================] - 0s 0us/step - loss: 0.4199 - accuracy: 0.7500\n",
      "Epoch 90/200\n",
      "4/4 [==============================] - 0s 249us/step - loss: 0.4189 - accuracy: 0.7500\n",
      "Epoch 91/200\n",
      "4/4 [==============================] - 0s 249us/step - loss: 0.4180 - accuracy: 0.7500\n",
      "Epoch 92/200\n",
      "4/4 [==============================] - 0s 250us/step - loss: 0.4171 - accuracy: 0.7500\n",
      "Epoch 93/200\n",
      "4/4 [==============================] - 0s 499us/step - loss: 0.4163 - accuracy: 0.7500\n",
      "Epoch 94/200\n",
      "4/4 [==============================] - 0s 249us/step - loss: 0.4154 - accuracy: 0.7500\n",
      "Epoch 95/200\n",
      "4/4 [==============================] - 0s 245us/step - loss: 0.4145 - accuracy: 0.7500\n",
      "Epoch 96/200\n",
      "4/4 [==============================] - 0s 499us/step - loss: 0.4137 - accuracy: 0.7500\n",
      "Epoch 97/200\n",
      "4/4 [==============================] - 0s 499us/step - loss: 0.4128 - accuracy: 0.7500\n",
      "Epoch 98/200\n",
      "4/4 [==============================] - 0s 251us/step - loss: 0.4120 - accuracy: 0.7500\n",
      "Epoch 99/200\n",
      "4/4 [==============================] - 0s 249us/step - loss: 0.4112 - accuracy: 0.7500\n",
      "Epoch 100/200\n",
      "4/4 [==============================] - 0s 499us/step - loss: 0.4103 - accuracy: 0.7500\n",
      "Epoch 101/200\n",
      "4/4 [==============================] - 0s 499us/step - loss: 0.4095 - accuracy: 0.7500\n",
      "Epoch 102/200\n",
      "4/4 [==============================] - 0s 249us/step - loss: 0.4087 - accuracy: 0.7500\n",
      "Epoch 103/200\n",
      "4/4 [==============================] - 0s 495us/step - loss: 0.4079 - accuracy: 0.7500\n",
      "Epoch 104/200\n",
      "4/4 [==============================] - 0s 249us/step - loss: 0.4071 - accuracy: 0.7500\n",
      "Epoch 105/200\n",
      "4/4 [==============================] - 0s 249us/step - loss: 0.4064 - accuracy: 0.7500\n",
      "Epoch 106/200\n",
      "4/4 [==============================] - 0s 249us/step - loss: 0.4056 - accuracy: 0.7500\n",
      "Epoch 107/200\n",
      "4/4 [==============================] - 0s 249us/step - loss: 0.4048 - accuracy: 0.7500\n",
      "Epoch 108/200\n",
      "4/4 [==============================] - 0s 505us/step - loss: 0.4040 - accuracy: 0.7500\n",
      "Epoch 109/200\n",
      "4/4 [==============================] - 0s 249us/step - loss: 0.4033 - accuracy: 0.7500\n",
      "Epoch 110/200\n",
      "4/4 [==============================] - 0s 625us/step - loss: 0.4025 - accuracy: 0.7500\n",
      "Epoch 111/200\n",
      "4/4 [==============================] - 0s 249us/step - loss: 0.4018 - accuracy: 0.7500\n",
      "Epoch 112/200\n",
      "4/4 [==============================] - 0s 376us/step - loss: 0.4010 - accuracy: 0.7500\n",
      "Epoch 113/200\n",
      "4/4 [==============================] - 0s 249us/step - loss: 0.4003 - accuracy: 0.7500\n",
      "Epoch 114/200\n",
      "4/4 [==============================] - 0s 249us/step - loss: 0.3995 - accuracy: 0.7500\n",
      "Epoch 115/200\n",
      "4/4 [==============================] - 0s 245us/step - loss: 0.3988 - accuracy: 0.7500\n",
      "Epoch 116/200\n",
      "4/4 [==============================] - 0s 249us/step - loss: 0.3980 - accuracy: 0.7500\n",
      "Epoch 117/200\n",
      "4/4 [==============================] - 0s 509us/step - loss: 0.3973 - accuracy: 0.7500\n",
      "Epoch 118/200\n",
      "4/4 [==============================] - 0s 499us/step - loss: 0.3965 - accuracy: 0.7500\n",
      "Epoch 119/200\n",
      "4/4 [==============================] - 0s 499us/step - loss: 0.3958 - accuracy: 0.7500\n",
      "Epoch 120/200\n",
      "4/4 [==============================] - 0s 250us/step - loss: 0.3951 - accuracy: 0.7500\n",
      "Epoch 121/200\n",
      "4/4 [==============================] - 0s 250us/step - loss: 0.3944 - accuracy: 0.7500\n",
      "Epoch 122/200\n",
      "4/4 [==============================] - 0s 249us/step - loss: 0.3936 - accuracy: 0.7500\n",
      "Epoch 123/200\n",
      "4/4 [==============================] - 0s 510us/step - loss: 0.3929 - accuracy: 0.7500\n",
      "Epoch 124/200\n",
      "4/4 [==============================] - 0s 499us/step - loss: 0.3922 - accuracy: 0.7500\n",
      "Epoch 125/200\n",
      "4/4 [==============================] - 0s 505us/step - loss: 0.3915 - accuracy: 0.7500\n",
      "Epoch 126/200\n",
      "4/4 [==============================] - 0s 249us/step - loss: 0.3908 - accuracy: 0.7500\n",
      "Epoch 127/200\n",
      "4/4 [==============================] - 0s 249us/step - loss: 0.3900 - accuracy: 0.7500\n",
      "Epoch 128/200\n",
      "4/4 [==============================] - 0s 259us/step - loss: 0.3893 - accuracy: 0.7500\n",
      "Epoch 129/200\n",
      "4/4 [==============================] - 0s 249us/step - loss: 0.3886 - accuracy: 0.7500\n",
      "Epoch 130/200\n",
      "4/4 [==============================] - 0s 249us/step - loss: 0.3879 - accuracy: 0.7500\n",
      "Epoch 131/200\n",
      "4/4 [==============================] - 0s 129us/step - loss: 0.3872 - accuracy: 0.7500\n",
      "Epoch 132/200\n",
      "4/4 [==============================] - 0s 249us/step - loss: 0.3865 - accuracy: 0.7500\n",
      "Epoch 133/200\n",
      "4/4 [==============================] - 0s 249us/step - loss: 0.3858 - accuracy: 0.7500\n",
      "Epoch 134/200\n",
      "4/4 [==============================] - 0s 505us/step - loss: 0.3851 - accuracy: 0.7500\n",
      "Epoch 135/200\n",
      "4/4 [==============================] - 0s 249us/step - loss: 0.3844 - accuracy: 0.7500\n",
      "Epoch 136/200\n",
      "4/4 [==============================] - 0s 249us/step - loss: 0.3837 - accuracy: 0.7500\n",
      "Epoch 137/200\n",
      "4/4 [==============================] - 0s 245us/step - loss: 0.3829 - accuracy: 0.7500\n",
      "Epoch 138/200\n",
      "4/4 [==============================] - 0s 249us/step - loss: 0.3822 - accuracy: 0.7500\n",
      "Epoch 139/200\n",
      "4/4 [==============================] - 0s 499us/step - loss: 0.3815 - accuracy: 0.7500\n",
      "Epoch 140/200\n",
      "4/4 [==============================] - 0s 498us/step - loss: 0.3808 - accuracy: 0.7500\n",
      "Epoch 141/200\n",
      "4/4 [==============================] - 0s 249us/step - loss: 0.3802 - accuracy: 0.7500\n",
      "Epoch 142/200\n",
      "4/4 [==============================] - 0s 499us/step - loss: 0.3797 - accuracy: 0.7500\n",
      "Epoch 143/200\n",
      "4/4 [==============================] - 0s 249us/step - loss: 0.3791 - accuracy: 0.7500\n",
      "Epoch 144/200\n",
      "4/4 [==============================] - 0s 260us/step - loss: 0.3786 - accuracy: 0.7500\n",
      "Epoch 145/200\n",
      "4/4 [==============================] - 0s 499us/step - loss: 0.3780 - accuracy: 0.7500\n",
      "Epoch 146/200\n",
      "4/4 [==============================] - 0s 499us/step - loss: 0.3774 - accuracy: 0.7500\n",
      "Epoch 147/200\n",
      "4/4 [==============================] - 0s 249us/step - loss: 0.3769 - accuracy: 0.7500\n",
      "Epoch 148/200\n",
      "4/4 [==============================] - 0s 249us/step - loss: 0.3763 - accuracy: 0.7500\n",
      "Epoch 149/200\n",
      "4/4 [==============================] - 0s 244us/step - loss: 0.3758 - accuracy: 0.7500\n",
      "Epoch 150/200\n",
      "4/4 [==============================] - 0s 250us/step - loss: 0.3752 - accuracy: 0.7500\n",
      "Epoch 151/200\n",
      "4/4 [==============================] - 0s 249us/step - loss: 0.3747 - accuracy: 0.7500\n",
      "Epoch 152/200\n",
      "4/4 [==============================] - 0s 248us/step - loss: 0.3741 - accuracy: 0.7500\n",
      "Epoch 153/200\n",
      "4/4 [==============================] - 0s 249us/step - loss: 0.3736 - accuracy: 0.7500\n",
      "Epoch 154/200\n",
      "4/4 [==============================] - 0s 376us/step - loss: 0.3731 - accuracy: 0.7500\n",
      "Epoch 155/200\n",
      "4/4 [==============================] - 0s 248us/step - loss: 0.3725 - accuracy: 0.7500\n",
      "Epoch 156/200\n",
      "4/4 [==============================] - 0s 497us/step - loss: 0.3720 - accuracy: 0.7500\n",
      "Epoch 157/200\n",
      "4/4 [==============================] - 0s 249us/step - loss: 0.3715 - accuracy: 0.7500\n",
      "Epoch 158/200\n",
      "4/4 [==============================] - 0s 249us/step - loss: 0.3709 - accuracy: 0.7500\n",
      "Epoch 159/200\n",
      "4/4 [==============================] - 0s 505us/step - loss: 0.3704 - accuracy: 0.7500\n",
      "Epoch 160/200\n",
      "4/4 [==============================] - 0s 249us/step - loss: 0.3699 - accuracy: 0.7500\n",
      "Epoch 161/200\n",
      "4/4 [==============================] - 0s 250us/step - loss: 0.3694 - accuracy: 0.7500\n",
      "Epoch 162/200\n",
      "4/4 [==============================] - 0s 376us/step - loss: 0.3689 - accuracy: 0.7500\n",
      "Epoch 163/200\n",
      "4/4 [==============================] - 0s 249us/step - loss: 0.3684 - accuracy: 0.7500\n",
      "Epoch 164/200\n",
      "4/4 [==============================] - 0s 249us/step - loss: 0.3678 - accuracy: 0.7500\n",
      "Epoch 165/200\n",
      "4/4 [==============================] - 0s 249us/step - loss: 0.3673 - accuracy: 0.7500\n",
      "Epoch 166/200\n",
      "4/4 [==============================] - 0s 249us/step - loss: 0.3668 - accuracy: 0.7500\n",
      "Epoch 167/200\n",
      "4/4 [==============================] - 0s 378us/step - loss: 0.3663 - accuracy: 0.7500\n",
      "Epoch 168/200\n",
      "4/4 [==============================] - 0s 249us/step - loss: 0.3658 - accuracy: 0.7500\n",
      "Epoch 169/200\n",
      "4/4 [==============================] - 0s 249us/step - loss: 0.3653 - accuracy: 0.7500\n",
      "Epoch 170/200\n",
      "4/4 [==============================] - 0s 380us/step - loss: 0.3648 - accuracy: 0.7500\n",
      "Epoch 171/200\n",
      "4/4 [==============================] - 0s 250us/step - loss: 0.3643 - accuracy: 0.7500\n",
      "Epoch 172/200\n",
      "4/4 [==============================] - 0s 249us/step - loss: 0.3638 - accuracy: 0.7500\n",
      "Epoch 173/200\n",
      "4/4 [==============================] - 0s 249us/step - loss: 0.3633 - accuracy: 0.7500\n",
      "Epoch 174/200\n",
      "4/4 [==============================] - 0s 249us/step - loss: 0.3628 - accuracy: 0.7500\n",
      "Epoch 175/200\n",
      "4/4 [==============================] - 0s 249us/step - loss: 0.3624 - accuracy: 0.7500\n",
      "Epoch 176/200\n",
      "4/4 [==============================] - 0s 249us/step - loss: 0.3619 - accuracy: 0.7500\n",
      "Epoch 177/200\n",
      "4/4 [==============================] - 0s 250us/step - loss: 0.3614 - accuracy: 0.7500\n",
      "Epoch 178/200\n",
      "4/4 [==============================] - 0s 536us/step - loss: 0.3609 - accuracy: 0.7500\n",
      "Epoch 179/200\n",
      "4/4 [==============================] - 0s 249us/step - loss: 0.3604 - accuracy: 0.7500\n",
      "Epoch 180/200\n",
      "4/4 [==============================] - 0s 249us/step - loss: 0.3599 - accuracy: 0.7500\n",
      "Epoch 181/200\n",
      "4/4 [==============================] - 0s 245us/step - loss: 0.3594 - accuracy: 0.7500\n",
      "Epoch 182/200\n",
      "4/4 [==============================] - 0s 249us/step - loss: 0.3590 - accuracy: 0.7500\n",
      "Epoch 183/200\n",
      "4/4 [==============================] - 0s 249us/step - loss: 0.3585 - accuracy: 0.7500\n",
      "Epoch 184/200\n",
      "4/4 [==============================] - 0s 250us/step - loss: 0.3580 - accuracy: 0.7500\n",
      "Epoch 185/200\n",
      "4/4 [==============================] - 0s 249us/step - loss: 0.3575 - accuracy: 0.7500\n",
      "Epoch 186/200\n",
      "4/4 [==============================] - 0s 249us/step - loss: 0.3570 - accuracy: 0.7500\n",
      "Epoch 187/200\n",
      "4/4 [==============================] - 0s 250us/step - loss: 0.3566 - accuracy: 0.7500\n",
      "Epoch 188/200\n",
      "4/4 [==============================] - 0s 249us/step - loss: 0.3561 - accuracy: 0.7500\n",
      "Epoch 189/200\n",
      "4/4 [==============================] - 0s 495us/step - loss: 0.3556 - accuracy: 0.7500\n",
      "Epoch 190/200\n",
      "4/4 [==============================] - 0s 499us/step - loss: 0.3551 - accuracy: 0.7500\n",
      "Epoch 191/200\n",
      "4/4 [==============================] - 0s 249us/step - loss: 0.3547 - accuracy: 0.7500\n",
      "Epoch 192/200\n",
      "4/4 [==============================] - 0s 249us/step - loss: 0.3542 - accuracy: 0.7500\n",
      "Epoch 193/200\n",
      "4/4 [==============================] - 0s 249us/step - loss: 0.3537 - accuracy: 0.7500\n",
      "Epoch 194/200\n",
      "4/4 [==============================] - 0s 249us/step - loss: 0.3532 - accuracy: 0.7500\n",
      "Epoch 195/200\n",
      "4/4 [==============================] - 0s 249us/step - loss: 0.3528 - accuracy: 0.7500\n",
      "Epoch 196/200\n",
      "4/4 [==============================] - 0s 249us/step - loss: 0.3523 - accuracy: 0.7500\n",
      "Epoch 197/200\n",
      "4/4 [==============================] - 0s 376us/step - loss: 0.3518 - accuracy: 0.7500\n",
      "Epoch 198/200\n",
      "4/4 [==============================] - 0s 498us/step - loss: 0.3514 - accuracy: 0.7500\n",
      "Epoch 199/200\n",
      "4/4 [==============================] - 0s 249us/step - loss: 0.3509 - accuracy: 0.7500\n",
      "Epoch 200/200\n",
      "4/4 [==============================] - 0s 249us/step - loss: 0.3504 - accuracy: 0.7500\n"
     ]
    },
    {
     "data": {
      "text/plain": [
       "<keras.callbacks.callbacks.History at 0x1f3afd9be48>"
      ]
     },
     "execution_count": 25,
     "metadata": {},
     "output_type": "execute_result"
    }
   ],
   "source": [
    "# fit the keras model on the dataset\n",
    "model.fit(x, y, epochs=200, batch_size=10) #epochs = number of iterations before weights are updates\n",
    "#batch_size the size of the batch given in rows (10 rows are fed at each epoch)\n",
    "\n",
    "# put verbose=0 if you want to cencel the training bars"
   ]
  },
  {
   "cell_type": "code",
   "execution_count": 6,
   "metadata": {},
   "outputs": [
    {
     "name": "stdout",
     "output_type": "stream",
     "text": [
      "768/768 [==============================] - 0s 96us/step\n",
      "Accuracy: 76.56\n"
     ]
    }
   ],
   "source": [
    "# evaluate the keras model\n",
    "loss, accuracy = model.evaluate(X, y) #returns loss and accuracy\n",
    "print('Accuracy: %.2f' % (accuracy*100))"
   ]
  },
  {
   "cell_type": "code",
   "execution_count": 7,
   "metadata": {},
   "outputs": [],
   "source": [
    "predict = model.predict(X) #will be a probability because the output layer is a sigmoid"
   ]
  },
  {
   "cell_type": "code",
   "execution_count": 8,
   "metadata": {},
   "outputs": [],
   "source": [
    "(moon_x,moon_y) = datasets.make_moons(n_samples=10000, noise=0.05, random_state=42)\n",
    "\n",
    "(circle_x,circle_y) = datasets.make_circles(n_samples=10000, noise=0.025, random_state=42)"
   ]
  },
  {
   "cell_type": "code",
   "execution_count": 39,
   "metadata": {},
   "outputs": [],
   "source": [
    "# define the keras model\n",
    "model = Sequential()\n",
    "model.add(Dense(12, input_dim=2, activation='relu')) # 12 neurons and expecting 8 columns x\n",
    "model.add(Dense(9, activation='relu'))#8 neurons with activation function rectified\n",
    "model.add(Dense(8, activation='relu'))#8 neurons with activation function rectified\n",
    "model.add(Dense(1, activation='sigmoid')) #1 neuron with sigmoid activation\n",
    "# compile the keras model\n",
    "model.compile(loss='binary_crossentropy', optimizer='adam', metrics=['accuracy'])\n",
    "# loss function is cross entropy, optimization of weights is through adam's stochastic gradient decsent\n",
    "#we evaluate the model with the accuracy"
   ]
  },
  {
   "cell_type": "code",
   "execution_count": 40,
   "metadata": {
    "scrolled": true
   },
   "outputs": [
    {
     "name": "stdout",
     "output_type": "stream",
     "text": [
      "Epoch 1/22\n",
      "10000/10000 [==============================] - 3s 286us/step - loss: 0.2365 - accuracy: 0.9107\n",
      "Epoch 2/22\n",
      "10000/10000 [==============================] - 1s 142us/step - loss: 0.0327 - accuracy: 0.9906\n",
      "Epoch 3/22\n",
      " 2660/10000 [======>.......................] - ETA: 1s - loss: 0.0072 - accuracy: 1.0000"
     ]
    },
    {
     "ename": "KeyboardInterrupt",
     "evalue": "",
     "output_type": "error",
     "traceback": [
      "\u001b[1;31m---------------------------------------------------------------------------\u001b[0m",
      "\u001b[1;31mKeyboardInterrupt\u001b[0m                         Traceback (most recent call last)",
      "\u001b[1;32m<ipython-input-40-68b1c83c5529>\u001b[0m in \u001b[0;36m<module>\u001b[1;34m\u001b[0m\n\u001b[1;32m----> 1\u001b[1;33m \u001b[0mmodel\u001b[0m\u001b[1;33m.\u001b[0m\u001b[0mfit\u001b[0m\u001b[1;33m(\u001b[0m\u001b[0mmoon_x\u001b[0m\u001b[1;33m,\u001b[0m \u001b[0mmoon_y\u001b[0m\u001b[1;33m,\u001b[0m \u001b[0mepochs\u001b[0m\u001b[1;33m=\u001b[0m\u001b[1;36m22\u001b[0m\u001b[1;33m,\u001b[0m \u001b[0mbatch_size\u001b[0m\u001b[1;33m=\u001b[0m\u001b[1;36m10\u001b[0m\u001b[1;33m)\u001b[0m \u001b[1;31m#epochs = number of iterations before weights are updates\u001b[0m\u001b[1;33m\u001b[0m\u001b[1;33m\u001b[0m\u001b[0m\n\u001b[0m",
      "\u001b[1;32m~\\Anaconda3\\lib\\site-packages\\keras\\engine\\training.py\u001b[0m in \u001b[0;36mfit\u001b[1;34m(self, x, y, batch_size, epochs, verbose, callbacks, validation_split, validation_data, shuffle, class_weight, sample_weight, initial_epoch, steps_per_epoch, validation_steps, validation_freq, max_queue_size, workers, use_multiprocessing, **kwargs)\u001b[0m\n\u001b[0;32m   1237\u001b[0m                                         \u001b[0msteps_per_epoch\u001b[0m\u001b[1;33m=\u001b[0m\u001b[0msteps_per_epoch\u001b[0m\u001b[1;33m,\u001b[0m\u001b[1;33m\u001b[0m\u001b[1;33m\u001b[0m\u001b[0m\n\u001b[0;32m   1238\u001b[0m                                         \u001b[0mvalidation_steps\u001b[0m\u001b[1;33m=\u001b[0m\u001b[0mvalidation_steps\u001b[0m\u001b[1;33m,\u001b[0m\u001b[1;33m\u001b[0m\u001b[1;33m\u001b[0m\u001b[0m\n\u001b[1;32m-> 1239\u001b[1;33m                                         validation_freq=validation_freq)\n\u001b[0m\u001b[0;32m   1240\u001b[0m \u001b[1;33m\u001b[0m\u001b[0m\n\u001b[0;32m   1241\u001b[0m     def evaluate(self,\n",
      "\u001b[1;32m~\\Anaconda3\\lib\\site-packages\\keras\\engine\\training_arrays.py\u001b[0m in \u001b[0;36mfit_loop\u001b[1;34m(model, fit_function, fit_inputs, out_labels, batch_size, epochs, verbose, callbacks, val_function, val_inputs, shuffle, initial_epoch, steps_per_epoch, validation_steps, validation_freq)\u001b[0m\n\u001b[0;32m    194\u001b[0m                     \u001b[0mins_batch\u001b[0m\u001b[1;33m[\u001b[0m\u001b[0mi\u001b[0m\u001b[1;33m]\u001b[0m \u001b[1;33m=\u001b[0m \u001b[0mins_batch\u001b[0m\u001b[1;33m[\u001b[0m\u001b[0mi\u001b[0m\u001b[1;33m]\u001b[0m\u001b[1;33m.\u001b[0m\u001b[0mtoarray\u001b[0m\u001b[1;33m(\u001b[0m\u001b[1;33m)\u001b[0m\u001b[1;33m\u001b[0m\u001b[1;33m\u001b[0m\u001b[0m\n\u001b[0;32m    195\u001b[0m \u001b[1;33m\u001b[0m\u001b[0m\n\u001b[1;32m--> 196\u001b[1;33m                 \u001b[0mouts\u001b[0m \u001b[1;33m=\u001b[0m \u001b[0mfit_function\u001b[0m\u001b[1;33m(\u001b[0m\u001b[0mins_batch\u001b[0m\u001b[1;33m)\u001b[0m\u001b[1;33m\u001b[0m\u001b[1;33m\u001b[0m\u001b[0m\n\u001b[0m\u001b[0;32m    197\u001b[0m                 \u001b[0mouts\u001b[0m \u001b[1;33m=\u001b[0m \u001b[0mto_list\u001b[0m\u001b[1;33m(\u001b[0m\u001b[0mouts\u001b[0m\u001b[1;33m)\u001b[0m\u001b[1;33m\u001b[0m\u001b[1;33m\u001b[0m\u001b[0m\n\u001b[0;32m    198\u001b[0m                 \u001b[1;32mfor\u001b[0m \u001b[0ml\u001b[0m\u001b[1;33m,\u001b[0m \u001b[0mo\u001b[0m \u001b[1;32min\u001b[0m \u001b[0mzip\u001b[0m\u001b[1;33m(\u001b[0m\u001b[0mout_labels\u001b[0m\u001b[1;33m,\u001b[0m \u001b[0mouts\u001b[0m\u001b[1;33m)\u001b[0m\u001b[1;33m:\u001b[0m\u001b[1;33m\u001b[0m\u001b[1;33m\u001b[0m\u001b[0m\n",
      "\u001b[1;32m~\\Anaconda3\\lib\\site-packages\\tensorflow\\python\\keras\\backend.py\u001b[0m in \u001b[0;36m__call__\u001b[1;34m(self, inputs)\u001b[0m\n\u001b[0;32m   3290\u001b[0m \u001b[1;33m\u001b[0m\u001b[0m\n\u001b[0;32m   3291\u001b[0m     fetched = self._callable_fn(*array_vals,\n\u001b[1;32m-> 3292\u001b[1;33m                                 run_metadata=self.run_metadata)\n\u001b[0m\u001b[0;32m   3293\u001b[0m     \u001b[0mself\u001b[0m\u001b[1;33m.\u001b[0m\u001b[0m_call_fetch_callbacks\u001b[0m\u001b[1;33m(\u001b[0m\u001b[0mfetched\u001b[0m\u001b[1;33m[\u001b[0m\u001b[1;33m-\u001b[0m\u001b[0mlen\u001b[0m\u001b[1;33m(\u001b[0m\u001b[0mself\u001b[0m\u001b[1;33m.\u001b[0m\u001b[0m_fetches\u001b[0m\u001b[1;33m)\u001b[0m\u001b[1;33m:\u001b[0m\u001b[1;33m]\u001b[0m\u001b[1;33m)\u001b[0m\u001b[1;33m\u001b[0m\u001b[1;33m\u001b[0m\u001b[0m\n\u001b[0;32m   3294\u001b[0m     output_structure = nest.pack_sequence_as(\n",
      "\u001b[1;32m~\\Anaconda3\\lib\\site-packages\\tensorflow\\python\\client\\session.py\u001b[0m in \u001b[0;36m__call__\u001b[1;34m(self, *args, **kwargs)\u001b[0m\n\u001b[0;32m   1456\u001b[0m         ret = tf_session.TF_SessionRunCallable(self._session._session,\n\u001b[0;32m   1457\u001b[0m                                                \u001b[0mself\u001b[0m\u001b[1;33m.\u001b[0m\u001b[0m_handle\u001b[0m\u001b[1;33m,\u001b[0m \u001b[0margs\u001b[0m\u001b[1;33m,\u001b[0m\u001b[1;33m\u001b[0m\u001b[1;33m\u001b[0m\u001b[0m\n\u001b[1;32m-> 1458\u001b[1;33m                                                run_metadata_ptr)\n\u001b[0m\u001b[0;32m   1459\u001b[0m         \u001b[1;32mif\u001b[0m \u001b[0mrun_metadata\u001b[0m\u001b[1;33m:\u001b[0m\u001b[1;33m\u001b[0m\u001b[1;33m\u001b[0m\u001b[0m\n\u001b[0;32m   1460\u001b[0m           \u001b[0mproto_data\u001b[0m \u001b[1;33m=\u001b[0m \u001b[0mtf_session\u001b[0m\u001b[1;33m.\u001b[0m\u001b[0mTF_GetBuffer\u001b[0m\u001b[1;33m(\u001b[0m\u001b[0mrun_metadata_ptr\u001b[0m\u001b[1;33m)\u001b[0m\u001b[1;33m\u001b[0m\u001b[1;33m\u001b[0m\u001b[0m\n",
      "\u001b[1;31mKeyboardInterrupt\u001b[0m: "
     ]
    }
   ],
   "source": [
    "model.fit(moon_x, moon_y, epochs=22, batch_size=10) #epochs = number of iterations before weights are updates"
   ]
  },
  {
   "cell_type": "code",
   "execution_count": 11,
   "metadata": {},
   "outputs": [
    {
     "name": "stdout",
     "output_type": "stream",
     "text": [
      "10000/10000 [==============================] - 0s 23us/step\n",
      "Accuracy: 100.00\n"
     ]
    }
   ],
   "source": [
    "# evaluate the keras model\n",
    "loss_moon, accuracy_moon = model.evaluate(moon_x, moon_y) #returns loss and accuracy\n",
    "print('Accuracy: %.2f' % (accuracy_moon*100))"
   ]
  },
  {
   "cell_type": "code",
   "execution_count": 12,
   "metadata": {},
   "outputs": [
    {
     "data": {
      "text/plain": [
       "<matplotlib.collections.PathCollection at 0x1f37422cc18>"
      ]
     },
     "execution_count": 12,
     "metadata": {},
     "output_type": "execute_result"
    },
    {
     "data": {
      "image/png": "[encoded data removed]",
      "text/plain": [
       "<Figure size 432x288 with 1 Axes>"
      ]
     },
     "metadata": {
      "needs_background": "light"
     },
     "output_type": "display_data"
    }
   ],
   "source": [
    "plt.scatter(moon_x[:,0], moon_x[:,1], c=moon_y, cmap=plt.cm.coolwarm)"
   ]
  },
  {
   "cell_type": "code",
   "execution_count": 13,
   "metadata": {
    "scrolled": true
   },
   "outputs": [
    {
     "name": "stdout",
     "output_type": "stream",
     "text": [
      "Epoch 1/22\n",
      "10000/10000 [==============================] - 1s 129us/step - loss: 0.3253 - accuracy: 0.9603\n",
      "Epoch 2/22\n",
      "10000/10000 [==============================] - 1s 114us/step - loss: 0.0274 - accuracy: 0.9993\n",
      "Epoch 3/22\n",
      "10000/10000 [==============================] - 1s 120us/step - loss: 0.0168 - accuracy: 0.9995\n",
      "Epoch 4/22\n",
      "10000/10000 [==============================] - 1s 144us/step - loss: 0.0106 - accuracy: 0.9996\n",
      "Epoch 5/22\n",
      "10000/10000 [==============================] - 2s 164us/step - loss: 0.0070 - accuracy: 0.9997\n",
      "Epoch 6/22\n",
      "10000/10000 [==============================] - 1s 130us/step - loss: 0.0047 - accuracy: 0.9999\n",
      "Epoch 7/22\n",
      "10000/10000 [==============================] - 2s 160us/step - loss: 0.0034 - accuracy: 0.9999\n",
      "Epoch 8/22\n",
      "10000/10000 [==============================] - 2s 193us/step - loss: 0.0036 - accuracy: 0.9995\n",
      "Epoch 9/22\n",
      "10000/10000 [==============================] - 1s 138us/step - loss: 0.0024 - accuracy: 0.9996\n",
      "Epoch 10/22\n",
      "10000/10000 [==============================] - 1s 134us/step - loss: 0.0024 - accuracy: 0.9994\n",
      "Epoch 11/22\n",
      "10000/10000 [==============================] - 1s 137us/step - loss: 0.0015 - accuracy: 1.0000\n",
      "Epoch 12/22\n",
      "10000/10000 [==============================] - 1s 126us/step - loss: 0.0025 - accuracy: 0.9997\n",
      "Epoch 13/22\n",
      "10000/10000 [==============================] - 1s 133us/step - loss: 0.0013 - accuracy: 0.9998\n",
      "Epoch 14/22\n",
      "10000/10000 [==============================] - 1s 146us/step - loss: 0.0014 - accuracy: 0.9999\n",
      "Epoch 15/22\n",
      "10000/10000 [==============================] - 1s 128us/step - loss: 0.0015 - accuracy: 0.9997\n",
      "Epoch 16/22\n",
      "10000/10000 [==============================] - 1s 140us/step - loss: 0.0028 - accuracy: 0.9988\n",
      "Epoch 17/22\n",
      "10000/10000 [==============================] - 2s 155us/step - loss: 9.7590e-04 - accuracy: 0.9999\n",
      "Epoch 18/22\n",
      "10000/10000 [==============================] - 1s 122us/step - loss: 0.0012 - accuracy: 0.9997\n",
      "Epoch 19/22\n",
      "10000/10000 [==============================] - 1s 120us/step - loss: 8.5050e-04 - accuracy: 0.9998\n",
      "Epoch 20/22\n",
      "10000/10000 [==============================] - 1s 147us/step - loss: 0.0017 - accuracy: 0.9996\n",
      "Epoch 21/22\n",
      "10000/10000 [==============================] - 1s 133us/step - loss: 9.1265e-04 - accuracy: 0.9999\n",
      "Epoch 22/22\n",
      "10000/10000 [==============================] - 1s 134us/step - loss: 6.4779e-04 - accuracy: 1.0000\n"
     ]
    },
    {
     "data": {
      "text/plain": [
       "<keras.callbacks.callbacks.History at 0x1f37429b898>"
      ]
     },
     "execution_count": 13,
     "metadata": {},
     "output_type": "execute_result"
    }
   ],
   "source": [
    "model.fit(circle_x, circle_y, epochs=22, batch_size=10) #epochs = number of iterations before weights are updates"
   ]
  },
  {
   "cell_type": "code",
   "execution_count": 14,
   "metadata": {},
   "outputs": [
    {
     "name": "stdout",
     "output_type": "stream",
     "text": [
      "10000/10000 [==============================] - 0s 23us/step\n",
      "Accuracy: 99.99\n"
     ]
    }
   ],
   "source": [
    "# evaluate the keras model\n",
    "loss_circle, accuracy_circle = model.evaluate(circle_x, circle_y) #returns loss and accuracy\n",
    "print('Accuracy: %.2f' % (accuracy_circle*100))"
   ]
  },
  {
   "cell_type": "code",
   "execution_count": 15,
   "metadata": {},
   "outputs": [
    {
     "data": {
      "text/plain": [
       "<matplotlib.collections.PathCollection at 0x1f37e1100f0>"
      ]
     },
     "execution_count": 15,
     "metadata": {},
     "output_type": "execute_result"
    },
    {
     "data": {
      "image/png": "[encoded data removed]",
      "text/plain": [
       "<Figure size 432x288 with 1 Axes>"
      ]
     },
     "metadata": {
      "needs_background": "light"
     },
     "output_type": "display_data"
    }
   ],
   "source": [
    "plt.scatter(circle_x[:,0], circle_x[:,1], c=circle_y, cmap=plt.cm.coolwarm)"
   ]
  },
  {
   "cell_type": "code",
   "execution_count": null,
   "metadata": {},
   "outputs": [],
   "source": []
  }
 ],
 "metadata": {
  "kernelspec": {
   "display_name": "Python 3",
   "language": "python",
   "name": "python3"
  },
  "language_info": {
   "codemirror_mode": {
    "name": "ipython",
    "version": 3
   },
   "file_extension": ".py",
   "mimetype": "text/x-python",
   "name": "python",
   "nbconvert_exporter": "python",
   "pygments_lexer": "ipython3",
   "version": "3.7.3"
  }
 },
 "nbformat": 4,
 "nbformat_minor": 2
}
