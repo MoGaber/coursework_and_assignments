{
 "cells": [
  {
   "cell_type": "code",
   "execution_count": 1,
   "metadata": {},
   "outputs": [],
   "source": [
    "#libraries:\n",
    "import numpy as np\n",
    "from scipy import stats as sts\n",
    "import random"
   ]
  },
  {
   "cell_type": "code",
   "execution_count": 2,
   "metadata": {},
   "outputs": [],
   "source": [
    "#Given data\n",
    "throws = [41, 43, 23, 23, 1, 23, 36, 37, 2, 131, 5, 29, 13, 47, 10, 58, 15, 14, 100, 113]\n",
    "true_a = 0.4\n",
    "true_b = 0.8\n",
    "heads = []\n",
    "for throw in throws:\n",
    "    theta = random.choice([true_a, true_b])\n",
    "    heads.append(sts.binom(throw, theta).rvs(1)[0])\n",
    "    \n",
    "    \n",
    "heads = [14, 33, 19, 10, 0, 17, 24, 17, 1, 36, 5, 6, 5, 13, 4, 35, 5, 5, 74, 34]\n"
   ]
  },
  {
   "cell_type": "code",
   "execution_count": 3,
   "metadata": {},
   "outputs": [],
   "source": [
    "# the example in the stanford reading:\n",
    "throws = [10 for i in range(5)]\n",
    "heads  =[5, 9, 8,4, 7]"
   ]
  },
  {
   "cell_type": "code",
   "execution_count": 6,
   "metadata": {},
   "outputs": [
    {
     "name": "stdout",
     "output_type": "stream",
     "text": [
      "0.7967441494752117 0.5196586622041123\n"
     ]
    }
   ],
   "source": [
    "#our paramters:\n",
    "#I'm initializeing the paratmers randomly\n",
    "theta_A = 0.6\n",
    "theta_B = 0.5\n",
    "error = 0.000001\n",
    "# run for n iterations:\n",
    "for i in range(10):\n",
    "    \n",
    "    expected_heads_A = []\n",
    "    expected_heads_B  =[]\n",
    "    expected_tails_A = []\n",
    "    expected_tails_B = []\n",
    "    # The E-step in which we initialize the distributions\n",
    "    for num, throw in enumerate(throws):\n",
    "        distribution_A = sts.binom(n=throw , p=theta_A).pmf(heads[num])\n",
    "        distribution_B = sts.binom(n=throw , p=theta_B).pmf(heads[num])\n",
    "        \n",
    "        normalized_A = distribution_A/(distribution_A+distribution_B)\n",
    "        normalized_B = distribution_B/(distribution_A+distribution_B)\n",
    "        \n",
    "        \n",
    "        #calculate the expected values:\n",
    "        expected_heads_A.append(normalized_A*heads[num])\n",
    "        expected_tails_A.append(normalized_A*(throw-heads[num]))\n",
    "        \n",
    "        \n",
    "        expected_heads_B.append(normalized_B*heads[num])\n",
    "        expected_tails_B.append(normalized_B*(throw-heads[num]))\n",
    "    \n",
    "    ## The M-step in which we update the paramters based on the epxected values:    \n",
    "    theta_A = sum(expected_heads_A)/ (sum(expected_tails_A)+ sum(expected_heads_A)) \n",
    "    theta_B = sum(expected_heads_B)/ (sum(expected_tails_B)+ sum(expected_heads_B)) \n",
    "    \n",
    "    \n",
    "print(theta_A, theta_B)"
   ]
  },
  {
   "cell_type": "code",
   "execution_count": null,
   "metadata": {},
   "outputs": [],
   "source": []
  },
  {
   "cell_type": "code",
   "execution_count": null,
   "metadata": {},
   "outputs": [],
   "source": [
    "# the stanford reading values for the first observation:"
   ]
  },
  {
   "cell_type": "code",
   "execution_count": 10,
   "metadata": {},
   "outputs": [
    {
     "data": {
      "text/plain": [
       "0.20065812480000034"
      ]
     },
     "execution_count": 10,
     "metadata": {},
     "output_type": "execute_result"
    }
   ],
   "source": [
    "sts.binom(n=10 , p=.6).pmf(5)"
   ]
  },
  {
   "cell_type": "code",
   "execution_count": 11,
   "metadata": {},
   "outputs": [
    {
     "data": {
      "text/plain": [
       "0.24609375000000025"
      ]
     },
     "execution_count": 11,
     "metadata": {},
     "output_type": "execute_result"
    }
   ],
   "source": [
    "sts.binom(n=10 , p=.5).pmf(5)"
   ]
  },
  {
   "cell_type": "code",
   "execution_count": 12,
   "metadata": {},
   "outputs": [
    {
     "data": {
      "text/plain": [
       "0.4545454545454546"
      ]
     },
     "execution_count": 12,
     "metadata": {},
     "output_type": "execute_result"
    }
   ],
   "source": [
    ".2 / (.2+.24)"
   ]
  },
  {
   "cell_type": "code",
   "execution_count": 13,
   "metadata": {},
   "outputs": [
    {
     "data": {
      "text/plain": [
       "0.5454545454545454"
      ]
     },
     "execution_count": 13,
     "metadata": {},
     "output_type": "execute_result"
    }
   ],
   "source": [
    ".24 / (.2+.24)"
   ]
  },
  {
   "cell_type": "code",
   "execution_count": null,
   "metadata": {},
   "outputs": [],
   "source": []
  },
  {
   "cell_type": "code",
   "execution_count": null,
   "metadata": {},
   "outputs": [],
   "source": []
  },
  {
   "cell_type": "code",
   "execution_count": null,
   "metadata": {},
   "outputs": [],
   "source": []
  }
 ],
 "metadata": {
  "kernelspec": {
   "display_name": "Python 3",
   "language": "python",
   "name": "python3"
  },
  "language_info": {
   "codemirror_mode": {
    "name": "ipython",
    "version": 3
   },
   "file_extension": ".py",
   "mimetype": "text/x-python",
   "name": "python",
   "nbconvert_exporter": "python",
   "pygments_lexer": "ipython3",
   "version": "3.7.3"
  }
 },
 "nbformat": 4,
 "nbformat_minor": 2
}
