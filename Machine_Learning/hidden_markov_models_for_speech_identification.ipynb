{
 "cells": [
  {
   "cell_type": "code",
   "execution_count": 2,
   "metadata": {},
   "outputs": [],
   "source": [
    "#importing the necessary libraries\n",
    "import numpy as np\n",
    "import matplotlib.pyplot as plt\n",
    "import pandas as pd\n",
    "import random\n",
    "import os                  # dealing with directories\n",
    "import matplotlib.pyplot as plt"
   ]
  },
  {
   "cell_type": "markdown",
   "metadata": {},
   "source": [
    "# Part 1: Language Detection"
   ]
  },
  {
   "cell_type": "code",
   "execution_count": 3,
   "metadata": {},
   "outputs": [],
   "source": [
    "# Loading the files\n",
    "nums = range(0, 30) \n",
    "path = r\"D:\\Courses\\CS156\\13.2\\symbol\"\n",
    "files_train_A_ = ['\\language-training-langA-%d' % y for y in nums] \n",
    "files_train_A =[path+i for i in files_train_A_]\n",
    "files_train_B_ = ['\\language-training-langB-%d' % y for y in nums] \n",
    "files_train_B =[path+i for i in files_train_B_]\n",
    "files_train_C_ = ['\\language-training-langC-%d' % y for y in nums] \n",
    "files_train_C =[path+i for i in files_train_C_]\n",
    "\n",
    "nums_test = range(0, 10)\n",
    "files_test_ = ['\\language-test-%d' % y for y in nums_test] \n",
    "files_test =[path+i for i in files_test_]\n"
   ]
  },
  {
   "cell_type": "code",
   "execution_count": 7,
   "metadata": {},
   "outputs": [],
   "source": [
    "# the train and test files:\n",
    "train_A = [pd.read_csv(i).columns[0] for i in files_train_A]\n",
    "train_B = [pd.read_csv(i).columns[0] for i in files_train_B]\n",
    "train_C = [pd.read_csv(i).columns[0] for i in files_train_C]\n",
    "\n",
    "test = [pd.read_csv(i).columns[0] for i in files_test]"
   ]
  },
  {
   "cell_type": "code",
   "execution_count": null,
   "metadata": {},
   "outputs": [],
   "source": []
  },
  {
   "cell_type": "code",
   "execution_count": 8,
   "metadata": {},
   "outputs": [
    {
     "data": {
      "text/plain": [
       "['k', 'A', 'g', 't', 'o', 'e', 'p']"
      ]
     },
     "execution_count": 8,
     "metadata": {},
     "output_type": "execute_result"
    }
   ],
   "source": [
    "letters = list(set(train_A[0]))\n",
    "letters"
   ]
  },
  {
   "cell_type": "markdown",
   "metadata": {},
   "source": [
    "From our discussion in the class, we derived that the values that achieve the maximum likelhiood can be obtained by counting how many letters come after each letter in the sequence(we did that by taking the derivative of the log of the likeihood function to obtain the paramters that maximize the likelihood). I'm going to apply that here to calculate the elements of the transition matrix. I will do the following:\n",
    "- For each letter (let's say letter 'a'), I will count how many another specific letter come after (e.g. letter b) and then I will divide that count by the total number of occurences of letter \"a\" and then put that proportion in the matrix.\n",
    "- I will repeat that for all the letters until I fill all the matrix"
   ]
  },
  {
   "cell_type": "code",
   "execution_count": 9,
   "metadata": {},
   "outputs": [
    {
     "data": {
      "text/plain": [
       "array([[0.04176904, 0.31941032, 0.03685504, 0.04176904, 0.24570025,\n",
       "        0.28501229, 0.02948403],\n",
       "       [0.21212121, 0.01767677, 0.23232323, 0.26515152, 0.02020202,\n",
       "        0.03030303, 0.22222222],\n",
       "       [0.0248307 , 0.26410835, 0.02934537, 0.0248307 , 0.32957111,\n",
       "        0.27765237, 0.0496614 ],\n",
       "       [0.23620309, 0.01986755, 0.22737307, 0.23399558, 0.02428256,\n",
       "        0.02869757, 0.22958057],\n",
       "       [0.21634615, 0.01682692, 0.24278846, 0.24759615, 0.01682692,\n",
       "        0.02644231, 0.23317308],\n",
       "       [0.20772947, 0.02657005, 0.24154589, 0.21980676, 0.02898551,\n",
       "        0.01690821, 0.25845411],\n",
       "       [0.01814059, 0.27210884, 0.03628118, 0.04535147, 0.29478458,\n",
       "        0.30612245, 0.02721088]])"
      ]
     },
     "execution_count": 9,
     "metadata": {},
     "output_type": "execute_result"
    }
   ],
   "source": [
    "# transition matrix for each language:\n",
    "transition_matrix_A = np.zeros([7, 7])\n",
    "transition_matrix_B = np.zeros([7, 7])\n",
    "transition_matrix_C = np.zeros([7, 7])\n",
    "\n",
    "\n",
    "\n",
    "\n",
    "for string in train_A: # for each string in the language A\n",
    "    for i, letter in enumerate(string): # for each letter in that string\n",
    "        if i+1 < len(string): # making sure not to exceed the indices len\n",
    "            next_letter = string[i+1] # I check the letter that comes after it\n",
    "            transition_matrix_A[letters.index(letter), letters.index(next_letter)]+=1 # I increase the count by 1 in the\n",
    "                                                            #transition matrix at the position that correspoinds to \"ab\"\n",
    "\n",
    "\n",
    "# I repeat these steps for all other matrices of the other languages:                \n",
    "\n",
    "for string in train_B:\n",
    "    for i, letter in enumerate(string):\n",
    "        if i+1 < len(string):\n",
    "            next_letter = string[i+1]\n",
    "            transition_matrix_B[letters.index(letter), letters.index(next_letter)]+=1\n",
    "            \n",
    "for string in train_C:\n",
    "    for i, letter in enumerate(string):\n",
    "        if i+1 < len(string):\n",
    "            next_letter = string[i+1]\n",
    "            transition_matrix_C[letters.index(letter), letters.index(next_letter)]+=1\n",
    "        \n",
    "# I normalize the matrices to make sure that the rows sum to 1\n",
    "transition_matrix_A =transition_matrix_A/transition_matrix_A.sum(axis=1)[:,None]\n",
    "transition_matrix_B =transition_matrix_B/transition_matrix_B.sum(axis=1)[:,None]\n",
    "transition_matrix_C =transition_matrix_C/transition_matrix_C.sum(axis=1)[:,None]\n",
    "transition_matrix_A"
   ]
  },
  {
   "cell_type": "code",
   "execution_count": 17,
   "metadata": {},
   "outputs": [
    {
     "data": {
      "text/plain": [
       "'kApoekepAkogAtgAgokAtkAtpegAtpetkAgettgAgApAptpAtkpAAkeppopotkegAtkeApAtpegAkAgAkApAAgAokoAttgokgtpo'"
      ]
     },
     "execution_count": 17,
     "metadata": {},
     "output_type": "execute_result"
    }
   ],
   "source": []
  },
  {
   "cell_type": "code",
   "execution_count": 10,
   "metadata": {},
   "outputs": [
    {
     "data": {
      "text/plain": [
       "['k', 'A', 'g', 't', 'o', 'e', 'p']"
      ]
     },
     "execution_count": 10,
     "metadata": {},
     "output_type": "execute_result"
    }
   ],
   "source": [
    "letters"
   ]
  },
  {
   "cell_type": "markdown",
   "metadata": {},
   "source": [
    "#### Again from our discussion in class, I find the inital distribution by counting how many times each letter comes firt"
   ]
  },
  {
   "cell_type": "code",
   "execution_count": 11,
   "metadata": {},
   "outputs": [],
   "source": [
    "initial_dist_A_dic = {'g':0, 'A':0, 'e':0, 't':0, 'k':0, \"p\":0, 'o':0}\n",
    "for string in train_A:\n",
    "    for i, letter in enumerate(string):\n",
    "        initial_dist_A_dic[letter]+=1 # if that letter comes first, I increase by 1\n",
    "        break # I stop the for loop after the first count because I only care about who comes first\n",
    "        \n",
    "        \n",
    "# Repeat these steps for all other languages:\n",
    "        \n",
    "initial_dist_B_dic = {'g':0, 'A':0, 'e':0, 't':0, 'k':0, \"p\":0, 'o':0}\n",
    "for string in train_B:\n",
    "    for i, letter in enumerate(string):\n",
    "        initial_dist_B_dic[letter]+=1\n",
    "        break\n",
    "        \n",
    "initial_dist_C_dic = {'g':0, 'A':0, 'e':0, 't':0, 'k':0, \"p\":0, 'o':0}\n",
    "for string in train_C:\n",
    "    for i, letter in enumerate(string):\n",
    "        initial_dist_C_dic[letter]+=1\n",
    "        break\n",
    "        \n",
    "initial_dist_A = [i/sum(initial_dist_A_dic.values()) for i in initial_dist_A_dic.values()]\n",
    "initial_dist_B = [i/sum(initial_dist_B_dic.values()) for i in initial_dist_B_dic.values()]\n",
    "initial_dist_C = [i/sum(initial_dist_C_dic.values()) for i in initial_dist_C_dic.values()]\n"
   ]
  },
  {
   "cell_type": "code",
   "execution_count": 12,
   "metadata": {},
   "outputs": [
    {
     "data": {
      "text/plain": [
       "[0.16666666666666666,\n",
       " 0.06666666666666667,\n",
       " 0.03333333333333333,\n",
       " 0.23333333333333334,\n",
       " 0.2,\n",
       " 0.13333333333333333,\n",
       " 0.16666666666666666]"
      ]
     },
     "execution_count": 12,
     "metadata": {},
     "output_type": "execute_result"
    }
   ],
   "source": [
    "initial_dist_A"
   ]
  },
  {
   "cell_type": "code",
   "execution_count": 18,
   "metadata": {},
   "outputs": [
    {
     "data": {
      "text/plain": [
       "array([2.13295047e-071, 0.00000000e+000, 4.11825526e-115])"
      ]
     },
     "execution_count": 18,
     "metadata": {},
     "output_type": "execute_result"
    }
   ],
   "source": [
    "train_A[0]\n",
    "my_likelihood(train_A[0])"
   ]
  },
  {
   "cell_type": "code",
   "execution_count": 20,
   "metadata": {},
   "outputs": [
    {
     "data": {
      "text/plain": [
       "7.109834890619176e-72"
      ]
     },
     "execution_count": 20,
     "metadata": {},
     "output_type": "execute_result"
    }
   ],
   "source": [
    "evidence(train_A[0])"
   ]
  },
  {
   "cell_type": "markdown",
   "metadata": {},
   "source": [
    "##"
   ]
  },
  {
   "cell_type": "markdown",
   "metadata": {},
   "source": [
    "We are trying to find the posterior P(language|string). To calculate that, I will use Bayes rule:\n",
    "P(language|string) = P(string |language ) P(language) / P(string)\n",
    "\n",
    "P(string|language ) is the likelihood which is the probability of a string given a certain language. I'm going to calculate this likelihood by multiplying the probability of the first letter in the string (from the initial distribution) by the probability of the second letter given the first letter (from transition matrix) by the probability of the third given the second and so on for all letters in the string, that should correspond to P(string|language)."
   ]
  },
  {
   "cell_type": "code",
   "execution_count": 16,
   "metadata": {},
   "outputs": [
    {
     "name": "stdout",
     "output_type": "stream",
     "text": [
      "posterior distribution for test #0 is [5.25656317e-61 0.00000000e+00 1.00000000e+00]\n",
      "posterior distribution for test #1 is [1.54258086e-68 0.00000000e+00 1.00000000e+00]\n",
      "posterior distribution for test #2 is [1.00000000e+00 0.00000000e+00 7.59413363e-35]\n",
      "posterior distribution for test #3 is [1.34443778e-46 1.00000000e+00 8.64666350e-59]\n",
      "posterior distribution for test #4 is [1.00000000e+00 0.00000000e+00 1.32153626e-46]\n",
      "posterior distribution for test #5 is [1.00000000e+00 0.00000000e+00 3.84247066e-40]\n",
      "posterior distribution for test #6 is [2.20526323e-63 1.00000000e+00 3.37480257e-62]\n",
      "posterior distribution for test #7 is [1.00000000e+00 0.00000000e+00 5.34293923e-42]\n",
      "posterior distribution for test #8 is [6.65951317e-81 0.00000000e+00 1.00000000e+00]\n",
      "posterior distribution for test #9 is [1.00000000e+00 0.00000000e+00 3.58533799e-46]\n"
     ]
    }
   ],
   "source": [
    "def my_likelihood(string):\n",
    "    likelihood = [] # will keep the likelihood for the three languages here\n",
    "    for j in range(3): #for each one of the three languages\n",
    "        likelihood.append(1) \n",
    "        if j ==0: #if language A:\n",
    "            trans_mat =transition_matrix_A\n",
    "            init_dist = initial_dist_A\n",
    "        elif j ==1: #if language B\n",
    "            trans_mat =transition_matrix_B\n",
    "            init_dist = initial_dist_B\n",
    "        else: #if language C\n",
    "            trans_mat =transition_matrix_C\n",
    "            init_dist = initial_dist_C\n",
    "            \n",
    "            \n",
    "        for i, char in enumerate(string): #for each letter in the string\n",
    "            if i ==0: # I get the probability of the first letter from the initial distribution\n",
    "                init = init_dist[letters.index(char)]\n",
    "                prev_char = char\n",
    "                likelihood[-1]*=init #multuplying by it\n",
    "            \n",
    "            else: # for all other letters otherthan the first one:\n",
    "                #multiply the probability of letter given the one before it (from transition matrix)\n",
    "                likelihood[-1]*=trans_mat[letters.index(prev_char), letters.index(char)]\n",
    "                prev_char = char\n",
    "\n",
    "    return np.array(likelihood) #return the likelihood for the three languages saved in a list\n",
    "\n",
    "\n",
    "def evidence(string): # This is P(string) I calculate it by summing P(string|lanugage) over all languages\n",
    "    likels = my_likelihood(string)\n",
    "    return sum(np.array(likels)*(1/3))\n",
    "    \n",
    "\n",
    "priors = 1/3 #this is P(language = A) which is the prior probability we have about the probability of the language\n",
    "# I assume it's uniform so 1/3 for each langauge\n",
    "\n",
    "\n",
    "# finally, I use the above functions to calculate the posterior over the test: Posterior = likelihood*prior/evidence\n",
    "for i, s in enumerate(test):\n",
    "    posterior = my_likelihood(s)* priors/evidence(s)\n",
    "    print(f'posterior distribution for test #{i} is {posterior}')\n",
    "    \n",
    "# Note that the output is the probability of each language in this order: [Language A, Language B, Language C]"
   ]
  },
  {
   "cell_type": "code",
   "execution_count": 23,
   "metadata": {},
   "outputs": [
    {
     "data": {
      "text/plain": [
       "'gooooAAAAAAAAAkkkkkkooooAAAeppppppgeeeeepAAppeektetttgggogptttttttkppAAAApetAeegggtttteetttttppAAAAA'"
      ]
     },
     "execution_count": 23,
     "metadata": {},
     "output_type": "execute_result"
    }
   ],
   "source": [
    "test[1]"
   ]
  },
  {
   "cell_type": "markdown",
   "metadata": {},
   "source": [
    "# Part 2: Speaker Identification"
   ]
  },
  {
   "cell_type": "code",
   "execution_count": 2,
   "metadata": {},
   "outputs": [],
   "source": [
    "symbol = 'eoggeggAeggepgpppoppogopppgoppoopegAAoAAAtAtttooepooppteeeeotpopppeeoepooopopgoooepoepotpoegogggggkeggpogopopeAtAttAoApAtttAggeAgegettttAAAAtoeeggeteoAopopotoktttpoepegpgtgAgAeeppeoooopgeggpAAAAgAtgegogoeepAtAtAAotAAAtttAtkAAAtAAktAAAtttAtAAoAtteeoopoAoAtoAAtAAApgeoeeeeoeeegteoAopeAkopgpeAgetAeeotAttAAeAAktttkAptAetAttAkAAAttAAkAAAttAAAAg'"
   ]
  },
  {
   "cell_type": "markdown",
   "metadata": {},
   "source": [
    "I'm going to take samples from dirichlet distribution to initialize the paramters. For the transition matrix, because speakers are more likely to speak for a while, then I will make the diagonal strong for this matrix so that the probability that the speaker who is speaking right now keep speaking for the next time step is higher. "
   ]
  },
  {
   "cell_type": "code",
   "execution_count": 10,
   "metadata": {},
   "outputs": [
    {
     "data": {
      "text/plain": [
       "array([0.16940973, 0.35490741, 0.47568285])"
      ]
     },
     "execution_count": 10,
     "metadata": {},
     "output_type": "execute_result"
    }
   ],
   "source": [
    "intial_distribution  = np.random.dirichlet((1, 1, 1), 1)[0] #from dirichlet\n",
    "intial_distribution"
   ]
  },
  {
   "cell_type": "code",
   "execution_count": 4,
   "metadata": {},
   "outputs": [
    {
     "data": {
      "text/plain": [
       "array([[9.81304543e-01, 1.43672412e-02, 4.32821603e-03],\n",
       "       [3.15699184e-04, 9.99573801e-01, 1.10499678e-04],\n",
       "       [3.40412340e-04, 3.17103854e-04, 9.99342484e-01]])"
      ]
     },
     "execution_count": 4,
     "metadata": {},
     "output_type": "execute_result"
    }
   ],
   "source": [
    "transition_matrix  = np.array([ np.random.dirichlet((99, 0.5, 0.5), 1)[0],  #strong diagonal\n",
    "                              np.random.dirichlet((0.5, 99, 0.5), 1)[0],\n",
    "                              np.random.dirichlet((0.5, 0.5, 99), 1)[0] ] )\n",
    "transition_matrix"
   ]
  },
  {
   "cell_type": "code",
   "execution_count": 26,
   "metadata": {},
   "outputs": [
    {
     "data": {
      "text/plain": [
       "{'A', 'e', 'g', 'k', 'o', 'p', 't'}"
      ]
     },
     "execution_count": 26,
     "metadata": {},
     "output_type": "execute_result"
    }
   ],
   "source": [
    "set(symbol)"
   ]
  },
  {
   "cell_type": "code",
   "execution_count": 27,
   "metadata": {},
   "outputs": [
    {
     "data": {
      "text/plain": [
       "['e', 'o', 'k', 'g', 'p', 'A', 't']"
      ]
     },
     "execution_count": 27,
     "metadata": {},
     "output_type": "execute_result"
    }
   ],
   "source": [
    "symbols_list = list(set(symbol))\n",
    "symbols_array = np.array(list(symbol))\n",
    "symbols_list # I'm going to use this list to get the indices of the sybmols in the emission matrix"
   ]
  },
  {
   "cell_type": "code",
   "execution_count": 28,
   "metadata": {},
   "outputs": [
    {
     "data": {
      "text/plain": [
       "array([[0.05159403, 0.0270908 , 0.22629079],\n",
       "       [0.01170274, 0.04240994, 0.00933219],\n",
       "       [0.13125716, 0.30102701, 0.06624968],\n",
       "       [0.03427456, 0.43275797, 0.12066659],\n",
       "       [0.21278382, 0.00621636, 0.04197065],\n",
       "       [0.11960789, 0.10592758, 0.14859   ],\n",
       "       [0.43877981, 0.08457034, 0.3869001 ]])"
      ]
     },
     "execution_count": 28,
     "metadata": {},
     "output_type": "execute_result"
    }
   ],
   "source": [
    "emission_matrix = np.random.dirichlet((1, 1, 1, 1, 1, 1, 1), 3).transpose() #from dirichlet\n",
    "emission_matrix"
   ]
  },
  {
   "cell_type": "markdown",
   "metadata": {},
   "source": [
    "The forward-backward algroithm depends on mainly two functions: the forward which calculates alpha and the backward which calculates Beta I will start by writing the forward function. The forward helps in calculate the probability that the hidden markov model will be at a particular hidden state at a particular time step t given a sequence of observed states O. The equation of alpha that the forward algorithm calculates (using equation A.12 from Jurafsky’s book) is:\n",
    "### $\\alpha_t(j) = \\sum_{i=1}^{N}\\alpha_{t-1}(i) * a_{ij} * b_j(O_t)$"
   ]
  },
  {
   "cell_type": "markdown",
   "metadata": {},
   "source": [
    "Where here we sum over alpha of all the speakers from speakers i=1 to N and $a_{ij}$ is the transition matrix probability of moving from speaker i to speaker j and $b_{j}(O_t)$ is the emission matrix probability of the symbol at time step t given speaker j. Implementing this recursinve function in python: "
   ]
  },
  {
   "cell_type": "code",
   "execution_count": 29,
   "metadata": {},
   "outputs": [],
   "source": [
    "def forward(V, a, b, initial_distribution):\n",
    "    alpha = np.zeros((V.shape[0], a.shape[0])) #starting the matrix which will have the dimensions:\n",
    "                                            #(number of observations x number of speakers)\n",
    "    \n",
    "    alpha[0, :] = intial_distribution* b[symbols_list.index(V[0]),:] # P(speaker|start)*P(symbol|speaker)\n",
    " \n",
    "    for t in range(1, V.shape[0]): #loop over each symbol in the observation\n",
    "        for j in range(a.shape[0]): #loop over each speaker of the 3 speakers\n",
    "           \n",
    "            # the recursive function that I explained above:\n",
    "            alpha[t, j] = alpha[t-1].dot(a[:, j]) * b[symbols_list.index(V[t]),j]\n",
    "                                                                                 \n",
    " \n",
    "    return alpha\n"
   ]
  },
  {
   "cell_type": "markdown",
   "metadata": {},
   "source": [
    "Now, I'm going to define the function backward. Backward algorithm is very similar to the forward algorithm but it's just reversed. The backward algorithm calculates Beta which is basically the probability of seeing the observations from time  t+1 to the end, given that we are in state i at time t. The equation of Beta (according to equation A.15 in Jurafsky’s book) is:\n",
    "\n",
    "### $\\beta_t(i) = \\sum_{j=1}^{N}\\beta_{t+1}(j) * a_{ij} * b_j(O_t+1)$"
   ]
  },
  {
   "cell_type": "markdown",
   "metadata": {},
   "source": [
    "Where here we sum over beta of all the speakers from speakers j=1 to N and $a_{ij}$ is the transition matrix probability of moving from speaker i to speaker j and $b_{j}(O_t+1)$ is the emission matrix probability of the symbol at time step t+1 given speaker j. Implementing this recursinve function in python: "
   ]
  },
  {
   "cell_type": "code",
   "execution_count": 30,
   "metadata": {},
   "outputs": [],
   "source": [
    "def backward(V, a, b):\n",
    "    beta = np.zeros((V.shape[0], a.shape[0])) #initializing a matrix for beta with dimensions \n",
    "                                                ##(number of observations x number of speakers)\n",
    " \n",
    "   \n",
    "    # putting Beta(T) = 1 where T is the index of the last symbol \n",
    "    beta[V.shape[0] - 1] = np.ones((a.shape[0]))\n",
    " \n",
    "    for t in range(V.shape[0] - 2, -1, -1): #for each symbol going backward\n",
    "        for j in range(a.shape[0]): #for each speaker\n",
    "            beta[t, j] = (beta[t + 1] * b[symbols_list.index(V[t + 1]), :]).dot(a[j, :]) # the function I explained above\n",
    " \n",
    "    return beta\n",
    "                          \n",
    "V = symbols_array\n",
    "a = transition_matrix\n",
    "b = emission_matrix\n",
    "intial_distribution  = np.random.dirichlet((1, 1, 1), 1)[0]\n",
    "#backward(V, a, b)         "
   ]
  },
  {
   "cell_type": "markdown",
   "metadata": {},
   "source": [
    "Now, as we have the forward and the backward algorithm implmeneted, then wthe Buam Welch algorithm uses them to update the paramters of the model as the following:\n",
    "\n",
    "We first calculate $\\xi$ which is basically the probability of being in state i at time t and state j at time t +1, given the observation sequence and the model, from Jurafsky’s book equation A.22:\n",
    "\n",
    "# $ \\xi_t(i, j) = \\frac{\\alpha_t(i) a_{ij} b_{jkv}(\n",
    "{t+1}) \\beta _{t+1}(j)}{\\sum_{i=1}^{N}\\sum_{j=1}^{N}\\alpha_i(t)a_{ij}b_{jkv}(t+1)\\beta_{j}(t+1)}   $ \n",
    "\n",
    "\n"
   ]
  },
  {
   "cell_type": "markdown",
   "metadata": {},
   "source": [
    "where alpha and beta are the same alpha and beta that we got from the backward and forward algorithm. And $b_j(O_t+1) is the probability of the symbol at time t+1 given speaker j which can be obtained from the emission matrix. And the sum at the denominator  is from speaker j=1 to N where N is the number of speakers"
   ]
  },
  {
   "cell_type": "markdown",
   "metadata": {},
   "source": [
    "Now we just need to define the probability of being in state j at time t, which is called $\\gamma_t$ and is given by (according to Jurafsky’s book equation A.27):\n",
    "\n",
    "## $\\gamma$ = $\\sum_{j=1}^{N} \\xi_{ij}(t)$"
   ]
  },
  {
   "cell_type": "markdown",
   "metadata": {},
   "source": [
    "Now, we have everything we need to calculate the paramters of the hidden markov model. According to Jurafsky’s book equations A.23 and A.28:\n",
    "\n",
    "# $a_{ij}$ = $\\frac{\\sum_{t=1}^{T-1} \\xi_{ij}(t)}{\\sum_{t=1}^{T-1} \\gamma(t)}$\n",
    "\n",
    "where $a_{ij}$ is the element in the transition matrix that corresponds to the probability of going from speaker i to speaker j.\n",
    "\n",
    "# $b_{jk}$ = $\\frac{\\sum_{t=1}^{T} \\gamma_{j}(t)1(v(t)=k)}{\\sum_{t=1}^{T} \\gamma_j(t)}$"
   ]
  },
  {
   "cell_type": "markdown",
   "metadata": {},
   "source": [
    "Finally the expectation maximization will go as the following:\n",
    "- We first initialize the initial distribution, the transitiona and emission matrices (which we already did)\n",
    "- E-Step: Calculate $\\xi$ and $\\gamma$\n",
    "- M-Step: Use $\\xi$ and $\\gamma$ to update the matrices using the equations above.\n",
    "- Repeat until convergence"
   ]
  },
  {
   "cell_type": "code",
   "execution_count": 31,
   "metadata": {},
   "outputs": [],
   "source": [
    "def EM(V, a, b, initial_distribution, n_iter):\n",
    "    M = a.shape[0]\n",
    "    T = len(V)\n",
    " \n",
    "    for n in range(n_iter): #iterate for many steps so convergence can happen\n",
    "        \n",
    "        alpha = forward(V, a, b, initial_distribution) #get alpha\n",
    "        beta = backward(V, a, b) #get beta\n",
    "        \n",
    "        xi = np.zeros((M, M, T - 1)) #initiate xi to be used\n",
    "        for t in range(T - 1):\n",
    "            # I calculate the denominator the xi equation that I explained above\n",
    "            # note that I use symbols_list.index() to get the index of the symbol in the emission matrix\n",
    "            denominator = np.dot(np.dot(alpha[t, :].T, a) * b[symbols_list.index(V[t + 1]),:].T, beta[t + 1, :])\n",
    "            for i in range(M):\n",
    "                #calcualte the numerator in the equation I explained above\n",
    "                numerator = alpha[t, i] * a[i, :] * b[symbols_list.index(V[t + 1]),:].T * beta[t + 1, :].T\n",
    "                xi[i, :, t] = numerator / denominator\n",
    " \n",
    "        gamma = np.sum(xi, axis=1)\n",
    "    \n",
    "        #That's the M-step where I update a:    \n",
    "        a = np.sum(xi, 2) / np.sum(gamma, axis=1).reshape((-1, 1))\n",
    " \n",
    "        # Add additional T'th element in gamma because xi's length is T-1\n",
    "        gamma = np.hstack((gamma, np.sum(xi[:, :, T - 2], axis=0).reshape((-1, 1))))\n",
    "\n",
    "        K = b.shape[0]\n",
    "        denominator = np.sum(gamma, axis=1)\n",
    "        for l in range(K):\n",
    "            # M-step where I update b using the equation that I explained above:\n",
    "            \n",
    "            b[l, :] = np.sum(gamma[:, np.array([symbols_list.index(i) for i in V]) == l], axis=1)\n",
    " \n",
    "        b = b/ denominator\n",
    "        \n",
    "        #printing the matrices every 200 steps to check when convergence happens:\n",
    "        \n",
    "        if n % 200 == 0:  \n",
    "            \n",
    "            print('\\n')\n",
    "            print(f\"After {n} steps: \\n\")\n",
    "            print(\"Transition Matrix:\")\n",
    "            print(a)\n",
    "            print('\\n')\n",
    "            print(\"Emission Matrix:\")\n",
    "            print(b)\n",
    "            \n",
    "    \n",
    "        \n",
    "    return a, b\n",
    "\n"
   ]
  },
  {
   "cell_type": "code",
   "execution_count": 32,
   "metadata": {},
   "outputs": [
    {
     "name": "stdout",
     "output_type": "stream",
     "text": [
      "\n",
      "\n",
      "After 0 steps: \n",
      "\n",
      "Transition Matrix:\n",
      "[[0.87264275 0.10985335 0.0175039 ]\n",
      " [0.04501999 0.90705949 0.04792052]\n",
      " [0.02089265 0.02053342 0.95857393]]\n",
      "\n",
      "\n",
      "Emission Matrix:\n",
      "[[0.05872577 0.31543941 0.06392172]\n",
      " [0.35396642 0.20418858 0.04426794]\n",
      " [0.01758576 0.01431716 0.04054836]\n",
      " [0.11180875 0.22062873 0.04957525]\n",
      " [0.3129459  0.1726314  0.01530105]\n",
      " [0.03853652 0.03568336 0.47675209]\n",
      " [0.10643087 0.03711137 0.30963359]]\n",
      "\n",
      "\n",
      "After 200 steps: \n",
      "\n",
      "Transition Matrix:\n",
      "[[0.86967105 0.07617466 0.05415428]\n",
      " [0.10118702 0.86271548 0.03609749]\n",
      " [0.02813623 0.04045491 0.93140886]]\n",
      "\n",
      "\n",
      "Emission Matrix:\n",
      "[[1.66156447e-01 3.28418039e-01 1.66164025e-02]\n",
      " [3.66728066e-01 9.12301077e-02 5.74165415e-02]\n",
      " [0.00000000e+00 1.74416709e-02 5.39095689e-02]\n",
      " [7.93806965e-02 3.44504804e-01 5.61251556e-11]\n",
      " [3.60348368e-01 4.04417471e-02 1.77170181e-02]\n",
      " [2.31733582e-08 1.18150196e-01 4.90893034e-01]\n",
      " [2.73863989e-02 5.98134358e-02 3.63447435e-01]]\n",
      "\n",
      "\n",
      "After 400 steps: \n",
      "\n",
      "Transition Matrix:\n",
      "[[0.86966957 0.07617546 0.05415497]\n",
      " [0.10118971 0.86271337 0.03609692]\n",
      " [0.02813676 0.04045454 0.9314087 ]]\n",
      "\n",
      "\n",
      "Emission Matrix:\n",
      "[[1.66156461e-01 3.28419503e-01 1.66164005e-02]\n",
      " [3.66727092e-01 9.12291911e-02 5.74165334e-02]\n",
      " [0.00000000e+00 1.74416643e-02 5.39096427e-02]\n",
      " [7.93817891e-02 3.44505863e-01 5.15347535e-19]\n",
      " [3.60348613e-01 4.04391635e-02 1.77169971e-02]\n",
      " [5.46159193e-13 1.18150525e-01 4.90893203e-01]\n",
      " [2.73860450e-02 5.98140903e-02 3.63447224e-01]]\n",
      "\n",
      "\n",
      "After 600 steps: \n",
      "\n",
      "Transition Matrix:\n",
      "[[0.86966957 0.07617546 0.05415497]\n",
      " [0.10118971 0.86271337 0.03609692]\n",
      " [0.02813676 0.04045454 0.9314087 ]]\n",
      "\n",
      "\n",
      "Emission Matrix:\n",
      "[[1.66156461e-01 3.28419503e-01 1.66164005e-02]\n",
      " [3.66727091e-01 9.12291909e-02 5.74165334e-02]\n",
      " [0.00000000e+00 1.74416643e-02 5.39096427e-02]\n",
      " [7.93817893e-02 3.44505863e-01 4.73218615e-27]\n",
      " [3.60348613e-01 4.04391630e-02 1.77169971e-02]\n",
      " [1.28753019e-17 1.18150525e-01 4.90893203e-01]\n",
      " [2.73860449e-02 5.98140905e-02 3.63447224e-01]]\n",
      "\n",
      "\n",
      "After 800 steps: \n",
      "\n",
      "Transition Matrix:\n",
      "[[0.86966957 0.07617546 0.05415497]\n",
      " [0.10118971 0.86271337 0.03609692]\n",
      " [0.02813676 0.04045454 0.9314087 ]]\n",
      "\n",
      "\n",
      "Emission Matrix:\n",
      "[[1.66156461e-01 3.28419503e-01 1.66164005e-02]\n",
      " [3.66727091e-01 9.12291909e-02 5.74165334e-02]\n",
      " [0.00000000e+00 1.74416643e-02 5.39096427e-02]\n",
      " [7.93817893e-02 3.44505863e-01 4.34533677e-35]\n",
      " [3.60348613e-01 4.04391630e-02 1.77169971e-02]\n",
      " [3.03525801e-22 1.18150525e-01 4.90893203e-01]\n",
      " [2.73860449e-02 5.98140905e-02 3.63447224e-01]]\n"
     ]
    }
   ],
   "source": [
    "transition_matrix  = np.array([ np.random.dirichlet((10, 1, 1), 1)[0],\n",
    "                              np.random.dirichlet((1, 10, 1), 1)[0],\n",
    "                              np.random.dirichlet((1, 1, 10), 1)[0] ] )\n",
    "emission_matrix = np.random.dirichlet((1, 1, 1, 1, 1, 1, 1), 3).transpose()\n",
    "\n",
    "\n",
    "V = symbols_array\n",
    "a = transition_matrix\n",
    "b = emission_matrix\n",
    "initial_distribution  = np.random.dirichlet((1, 1, 1), 1)[0]\n",
    "\n",
    "transition, emission  = EM(V, a, b, initial_distribution, n_iter=900)\n"
   ]
  },
  {
   "cell_type": "markdown",
   "metadata": {},
   "source": [
    "### From looking at the matrices above, we can see that they converge because at least for the last 400 steps there were no change in their values."
   ]
  },
  {
   "cell_type": "code",
   "execution_count": 33,
   "metadata": {},
   "outputs": [
    {
     "data": {
      "image/png": "[encoded data removed]",
      "text/plain": [
       "<Figure size 432x288 with 1 Axes>"
      ]
     },
     "metadata": {
      "needs_background": "light"
     },
     "output_type": "display_data"
    }
   ],
   "source": [
    "x = [1, 2, 3]\n",
    "speaker_1, speaker_2, speaker_3 = transition\n",
    "\n",
    "labels = [\"speaker_1 \", \"speaker_2\", \"speaker_3\"]\n",
    "\n",
    "fig, ax = plt.subplots()\n",
    "ax.stackplot(x, speaker_1, speaker_2, speaker_3, labels=labels)\n",
    "ax.legend(loc='upper left')\n",
    "plt.xticks(x, x)\n",
    "plt.title(\"Stackplot of the probability of each person speaking\")\n",
    "plt.show()\n"
   ]
  },
  {
   "cell_type": "code",
   "execution_count": 34,
   "metadata": {},
   "outputs": [
    {
     "data": {
      "text/plain": [
       "array([0.86966957, 0.07617546, 0.05415497])"
      ]
     },
     "execution_count": 34,
     "metadata": {},
     "output_type": "execute_result"
    }
   ],
   "source": [
    "speaker_1"
   ]
  },
  {
   "cell_type": "code",
   "execution_count": 35,
   "metadata": {},
   "outputs": [
    {
     "data": {
      "text/plain": [
       "array([0.10118971, 0.86271337, 0.03609692])"
      ]
     },
     "execution_count": 35,
     "metadata": {},
     "output_type": "execute_result"
    }
   ],
   "source": [
    "speaker_2"
   ]
  },
  {
   "cell_type": "code",
   "execution_count": 36,
   "metadata": {},
   "outputs": [
    {
     "data": {
      "text/plain": [
       "array([0.02813676, 0.04045454, 0.9314087 ])"
      ]
     },
     "execution_count": 36,
     "metadata": {},
     "output_type": "execute_result"
    }
   ],
   "source": [
    "speaker_3"
   ]
  },
  {
   "cell_type": "markdown",
   "metadata": {},
   "source": [
    "## Refrences\n",
    "- https://web.stanford.edu/~jurafsky/slp3/A.pdf\n",
    "- http://www.adeveloperdiary.com/data-science/machine-learning/introduction-to-hidden-markov-model/"
   ]
  }
 ],
 "metadata": {
  "kernelspec": {
   "display_name": "Python 3",
   "language": "python",
   "name": "python3"
  },
  "language_info": {
   "codemirror_mode": {
    "name": "ipython",
    "version": 3
   },
   "file_extension": ".py",
   "mimetype": "text/x-python",
   "name": "python",
   "nbconvert_exporter": "python",
   "pygments_lexer": "ipython3",
   "version": "3.7.3"
  }
 },
 "nbformat": 4,
 "nbformat_minor": 2
}
