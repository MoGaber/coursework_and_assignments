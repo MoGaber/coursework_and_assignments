{
 "cells": [
  {
   "cell_type": "markdown",
   "metadata": {},
   "source": [
    "## CS156 Assignment 5 - Yosemite Village yearly weather"
   ]
  },
  {
   "cell_type": "code",
   "execution_count": 1,
   "metadata": {},
   "outputs": [],
   "source": [
    "#importing the necessary libraries\n",
    "import GPy\n",
    "import numpy as np\n",
    "import matplotlib.pyplot as plt\n",
    "from sklearn import linear_model\n",
    "from datetime import datetime\n",
    "import pandas as pd\n",
    "from sklearn.metrics.pairwise import rbf_kernel\n",
    "from sklearn import metrics\n",
    "from datetime import datetime\n",
    "from mpl_toolkits.mplot3d.axes3d import Axes3D\n",
    "import random\n",
    "from sklearn.model_selection import train_test_split\n",
    "GPy.plotting.change_plotting_library('matplotlib')\n",
    "import time\n",
    "%matplotlib notebook \n"
   ]
  },
  {
   "cell_type": "markdown",
   "metadata": {},
   "source": [
    "## Data Analysis\n",
    "I first start by cleaning the data and turning it into the form (day, time) as mentioned in the assignment instructions."
   ]
  },
  {
   "cell_type": "code",
   "execution_count": 2,
   "metadata": {},
   "outputs": [],
   "source": [
    "years = range(2011, 2017) # all the 6 years\n",
    "files = ['CRNS0101-05-%d-CA_Yosemite_Village_12_W.txt' % y for y in years] #names of the files that contain data\n",
    "columns = [1, 2, 8] #the columns we need: 1: date, 2: time of day, 8: temperature"
   ]
  },
  {
   "cell_type": "markdown",
   "metadata": {},
   "source": [
    "### Loading the data for the six years using the specific columns mentioned in the cell above:"
   ]
  },
  {
   "cell_type": "code",
   "execution_count": 3,
   "metadata": {},
   "outputs": [],
   "source": [
    "year_1 = np.loadtxt(files[0], usecols=columns)\n",
    "#\n",
    "year_2 = np.loadtxt(files[1], usecols=columns)\n",
    "#\n",
    "year_3 = np.loadtxt(files[2], usecols=columns)\n",
    "#\n",
    "year_4 = np.loadtxt(files[3], usecols=columns)\n",
    "#\n",
    "year_5 = np.loadtxt(files[4], usecols=columns)\n",
    "#\n",
    "year_6 = np.loadtxt(files[5], usecols=columns)"
   ]
  },
  {
   "cell_type": "markdown",
   "metadata": {},
   "source": [
    "#### The time of the data is given in the form HHmm (HourHourminutesminutes), I convert it to minutes at 5 minutes step using the formula: **int((time)/100) * 60 + time%100**. Also, the missing data has values -1000 for temperature, I delete them here:"
   ]
  },
  {
   "cell_type": "code",
   "execution_count": 4,
   "metadata": {},
   "outputs": [],
   "source": [
    "year_1[:, 1] = np.floor_divide(year_1[:, 1], 100) * 60 + np.mod(year_1[:, 1], 100)\n",
    "year_1 = year_1[year_1[:, 2] > -1000] \n",
    "\n",
    "year_2[:, 1] = np.floor_divide(year_2[:, 1], 100) * 60 + np.mod(year_2[:, 1], 100)\n",
    "year_2 = year_2[year_2[:, 2] > -1000] \n",
    "\n",
    "year_3[:, 1] = np.floor_divide(year_3[:, 1], 100) * 60 + np.mod(year_3[:, 1], 100)\n",
    "year_3 = year_3[year_3[:, 2] > -1000] \n",
    "\n",
    "year_4[:, 1] = np.floor_divide(year_4[:, 1], 100) * 60 + np.mod(year_4[:, 1], 100)\n",
    "year_4 = year_4[year_4[:, 2] > -1000]  \n",
    "\n",
    "year_5[:, 1] = np.floor_divide(year_5[:, 1], 100) * 60 + np.mod(year_5[:, 1], 100)\n",
    "year_5 = year_5[year_5[:, 2] > -1000] \n",
    "\n",
    "year_6[:, 1] = np.floor_divide(year_6[:, 1], 100) * 60 + np.mod(year_6[:, 1], 100)\n",
    "year_6 = year_6[year_6[:, 2] > -1000]  "
   ]
  },
  {
   "cell_type": "markdown",
   "metadata": {},
   "source": [
    "### Now, I put the training data together (the first five years) and test data will be year 6:"
   ]
  },
  {
   "cell_type": "code",
   "execution_count": 5,
   "metadata": {},
   "outputs": [],
   "source": [
    "# train data:\n",
    "train_years = [year_1, year_2, year_3, year_4, year_5]\n",
    "all_data_train = np.concatenate(train_years)\n",
    "\n",
    "# test data:\n",
    "all_data_test = year_6"
   ]
  },
  {
   "cell_type": "markdown",
   "metadata": {},
   "source": [
    "### I will get the full date just for reference"
   ]
  },
  {
   "cell_type": "code",
   "execution_count": 6,
   "metadata": {},
   "outputs": [],
   "source": [
    "full_date = [] \n",
    "for s in all_data_train[:, 0]:\n",
    "    s = str(s) # date as integer in the format \"YearMonthDay\"\n",
    "    # the following line will take that string and put it in the form year-month-day\n",
    "    full_date.append(str(datetime(year=int(s[0:4]), month=int(s[4:6]), day=int(s[6:8])).date()))"
   ]
  },
  {
   "cell_type": "markdown",
   "metadata": {},
   "source": [
    "### Now, I will build a dataset that has which day of the year each date refers to and which time of the day it refers to"
   ]
  },
  {
   "cell_type": "code",
   "execution_count": 7,
   "metadata": {},
   "outputs": [],
   "source": [
    "# get the day of the year:\n",
    "train_day_of_year = []\n",
    "\n",
    "## For train data:\n",
    "for year in train_years:\n",
    "    for s in year[:, 0]:\n",
    "        # putting the date in the datetime string form as mentioned above:\n",
    "        s = str(s)   \n",
    "        my_date = datetime(year=int(s[0:4]), month=int(s[4:6]), day=int(s[6:8])).date()\n",
    "        day = my_date.timetuple().tm_yday # this is a method in Python's datetime module that returns\n",
    "        #which day of the year that date refers to\n",
    "        train_day_of_year.append(day)\n",
    "        \n",
    "## For test data: Doing the same for the test data\n",
    "test_day_of_year = []\n",
    "for s in all_data_test[:, 0]:\n",
    "    s = str(s)   \n",
    "    my_date = datetime(year=int(s[0:4]), month=int(s[4:6]), day=int(s[6:8])).date()\n",
    "    day = my_date.timetuple().tm_yday\n",
    "    test_day_of_year.append(day)\n",
    "    \n",
    "\n",
    "#time of the day:\n",
    "# for train\n",
    "train_time_of_day = all_data_train[:, 1] #in minutes\n",
    "train_temperature = all_data_train[:, 2]\n",
    "\n",
    "# For test:\n",
    "test_time_of_day = all_data_test[:, 1] #in minutes\n",
    "test_temperature = all_data_test[:, 2]\n"
   ]
  },
  {
   "cell_type": "code",
   "execution_count": 8,
   "metadata": {},
   "outputs": [
    {
     "data": {
      "text/html": [
       "<div>\n",
       "<style scoped>\n",
       "    .dataframe tbody tr th:only-of-type {\n",
       "        vertical-align: middle;\n",
       "    }\n",
       "\n",
       "    .dataframe tbody tr th {\n",
       "        vertical-align: top;\n",
       "    }\n",
       "\n",
       "    .dataframe thead th {\n",
       "        text-align: right;\n",
       "    }\n",
       "</style>\n",
       "<table border=\"1\" class=\"dataframe\">\n",
       "  <thead>\n",
       "    <tr style=\"text-align: right;\">\n",
       "      <th></th>\n",
       "      <th>Full Date</th>\n",
       "      <th>Day Of the Year</th>\n",
       "      <th>Minutes of the Day</th>\n",
       "      <th>Temperature</th>\n",
       "    </tr>\n",
       "  </thead>\n",
       "  <tbody>\n",
       "    <tr>\n",
       "      <td>0</td>\n",
       "      <td>2011-01-01</td>\n",
       "      <td>1</td>\n",
       "      <td>5.0</td>\n",
       "      <td>-6.4</td>\n",
       "    </tr>\n",
       "    <tr>\n",
       "      <td>1</td>\n",
       "      <td>2011-01-01</td>\n",
       "      <td>1</td>\n",
       "      <td>10.0</td>\n",
       "      <td>-6.5</td>\n",
       "    </tr>\n",
       "    <tr>\n",
       "      <td>2</td>\n",
       "      <td>2011-01-01</td>\n",
       "      <td>1</td>\n",
       "      <td>15.0</td>\n",
       "      <td>-6.5</td>\n",
       "    </tr>\n",
       "    <tr>\n",
       "      <td>3</td>\n",
       "      <td>2011-01-01</td>\n",
       "      <td>1</td>\n",
       "      <td>20.0</td>\n",
       "      <td>-6.5</td>\n",
       "    </tr>\n",
       "    <tr>\n",
       "      <td>4</td>\n",
       "      <td>2011-01-01</td>\n",
       "      <td>1</td>\n",
       "      <td>25.0</td>\n",
       "      <td>-6.7</td>\n",
       "    </tr>\n",
       "    <tr>\n",
       "      <td>...</td>\n",
       "      <td>...</td>\n",
       "      <td>...</td>\n",
       "      <td>...</td>\n",
       "      <td>...</td>\n",
       "    </tr>\n",
       "    <tr>\n",
       "      <td>525475</td>\n",
       "      <td>2015-12-31</td>\n",
       "      <td>365</td>\n",
       "      <td>1420.0</td>\n",
       "      <td>-1.4</td>\n",
       "    </tr>\n",
       "    <tr>\n",
       "      <td>525476</td>\n",
       "      <td>2015-12-31</td>\n",
       "      <td>365</td>\n",
       "      <td>1425.0</td>\n",
       "      <td>-1.6</td>\n",
       "    </tr>\n",
       "    <tr>\n",
       "      <td>525477</td>\n",
       "      <td>2015-12-31</td>\n",
       "      <td>365</td>\n",
       "      <td>1430.0</td>\n",
       "      <td>-1.4</td>\n",
       "    </tr>\n",
       "    <tr>\n",
       "      <td>525478</td>\n",
       "      <td>2015-12-31</td>\n",
       "      <td>365</td>\n",
       "      <td>1435.0</td>\n",
       "      <td>-1.6</td>\n",
       "    </tr>\n",
       "    <tr>\n",
       "      <td>525479</td>\n",
       "      <td>2016-01-01</td>\n",
       "      <td>1</td>\n",
       "      <td>0.0</td>\n",
       "      <td>-1.6</td>\n",
       "    </tr>\n",
       "  </tbody>\n",
       "</table>\n",
       "<p>525480 rows × 4 columns</p>\n",
       "</div>"
      ],
      "text/plain": [
       "         Full Date  Day Of the Year  Minutes of the Day  Temperature\n",
       "0       2011-01-01                1                 5.0         -6.4\n",
       "1       2011-01-01                1                10.0         -6.5\n",
       "2       2011-01-01                1                15.0         -6.5\n",
       "3       2011-01-01                1                20.0         -6.5\n",
       "4       2011-01-01                1                25.0         -6.7\n",
       "...            ...              ...                 ...          ...\n",
       "525475  2015-12-31              365              1420.0         -1.4\n",
       "525476  2015-12-31              365              1425.0         -1.6\n",
       "525477  2015-12-31              365              1430.0         -1.4\n",
       "525478  2015-12-31              365              1435.0         -1.6\n",
       "525479  2016-01-01                1                 0.0         -1.6\n",
       "\n",
       "[525480 rows x 4 columns]"
      ]
     },
     "execution_count": 8,
     "metadata": {},
     "output_type": "execute_result"
    }
   ],
   "source": [
    "# finally, building the dataset:\n",
    "train_DataFrame = pd.DataFrame({\"Full Date\": full_date,\"Day Of the Year\":train_day_of_year, \n",
    "                                \"Minutes of the Day\": train_time_of_day, \"Temperature\": train_temperature})\n",
    "train_DataFrame"
   ]
  },
  {
   "cell_type": "markdown",
   "metadata": {},
   "source": [
    "### I have tried to build a model with all the data but I ran out of memory (even when I used one inducing point). So I decided to take a subset of the data."
   ]
  },
  {
   "cell_type": "code",
   "execution_count": 9,
   "metadata": {},
   "outputs": [],
   "source": [
    "train_sample = train_DataFrame.sample(10000) #taking a random sample of the data"
   ]
  },
  {
   "cell_type": "markdown",
   "metadata": {},
   "source": [
    "### After I splitted the data into two components, I'm going to fit a 2D sparse GP to both components simultaneously. This way, I will be able to model the interaction between the time of day and day of year components and the model will capture more of the variation. \n",
    "\n",
    "### Since I plan to model the temperature over time of day and temperature over time of year, then I don't want to fit each year individually but fit the temperature for all years so I need the model to predect the average temp for a given time during a new year. For that reason, I plan to use RBF, which is a kernel function that returns a measure of similarity between two sets of features. RBF should be able to model the average temp for all years since it's suitable for modeling smooth functions and it's more flexible than many other kernels. The kernel has two main hyperparamters: \n",
    "### - The lengthscale is a hyperparamter in RBF that describes how close two points have to be so that they influence eachother signficantly. This length scale affects the covariacne of the matrix because it determines how large or small the covariacne of two variables is (based on how close they are). This paramter affects the smoothness of a kernel and then it affects how smooth the functin output is.\n",
    "### - The variance which determines the spread of the kernel. \n",
    "\n",
    "### To reach the optimal values of these hyperparamters, I will use the optimize method of GP. This method reaches the optimal values for the hyperparamters by maximizing the log likelihood function.\n",
    "\n",
    "### In order to find the best number of inducing points, I will split my training data into train and validation and then I will train a model with different values of inducing points and each time, I will check the MSE on the validation dataset. I will choose the number of inducing points that gives the minimum MSE on the validation.\n",
    "\n"
   ]
  },
  {
   "cell_type": "code",
   "execution_count": 10,
   "metadata": {},
   "outputs": [],
   "source": [
    "#split the training data into train and validation:\n",
    "subtrain, validation = train_test_split(train_sample, test_size=0.2)"
   ]
  },
  {
   "cell_type": "code",
   "execution_count": 11,
   "metadata": {},
   "outputs": [],
   "source": [
    "_2d_subtrain_x = np.array(subtrain[['Day Of the Year', 'Minutes of the Day']])\n",
    "_2d_subtrain_y = np.array(subtrain['Temperature']).reshape(-1, 1)\n",
    "###\n",
    "_2d_validation_x = np.array(validation[['Day Of the Year', 'Minutes of the Day']])\n",
    "_2d_validation_y = np.array(validation['Temperature']).reshape(-1, 1)"
   ]
  },
  {
   "cell_type": "markdown",
   "metadata": {},
   "source": [
    "### I ran the following cell with different number of inducing points until I reached the number that gave the best MSE on the validation set (2000), any values larger than 2000 didn't improve MSE."
   ]
  },
  {
   "cell_type": "code",
   "execution_count": 12,
   "metadata": {},
   "outputs": [
    {
     "name": "stdout",
     "output_type": "stream",
     "text": [
      "mse on train: 23.602601970028136\n",
      "mse on validation: 24.310506758855176\n"
     ]
    }
   ],
   "source": [
    "kernel = GPy.kern.RBF(input_dim=2)\n",
    "_2d_model = GPy.models.SparseGPRegression(_2d_subtrain_x,_2d_subtrain_y,kernel, num_inducing = 2000)\n",
    "_2d_model.optimize()\n",
    "\n",
    "predict_subtrain = _2d_model.predict(_2d_subtrain_x)[0]\n",
    "predict_validation = _2d_model.predict(_2d_validation_x)[0]\n",
    "\n",
    "print(f\"mse on train: {metrics.mean_squared_error(_2d_subtrain_y, predict_subtrain)}\")\n",
    "print(f\"mse on validation: {metrics.mean_squared_error(_2d_validation_y, predict_validation)}\")"
   ]
  },
  {
   "cell_type": "markdown",
   "metadata": {},
   "source": [
    "### After I found the best number of inducing points, I'm going to train my model again on all the training data (train+validation)"
   ]
  },
  {
   "cell_type": "code",
   "execution_count": 13,
   "metadata": {},
   "outputs": [],
   "source": [
    "_2d_train_x = np.array(train_sample[['Day Of the Year', 'Minutes of the Day']])\n",
    "_2d_train_y = np.array(train_sample['Temperature']).reshape(-1, 1)"
   ]
  },
  {
   "cell_type": "code",
   "execution_count": 14,
   "metadata": {},
   "outputs": [
    {
     "name": "stdout",
     "output_type": "stream",
     "text": [
      "Time taken: 707.4643857479095\n"
     ]
    }
   ],
   "source": [
    "GP_before = time.time() #measuring the training time\n",
    "kernel = GPy.kern.RBF(input_dim=2)\n",
    "_2d_model = GPy.models.SparseGPRegression(_2d_train_x,_2d_train_y,kernel, num_inducing = 2000)\n",
    "_2d_model.optimize()\n",
    "GP_after = time.time()\n",
    "print(\"Time taken:\", GP_after - GP_before)"
   ]
  },
  {
   "cell_type": "code",
   "execution_count": 15,
   "metadata": {},
   "outputs": [],
   "source": [
    "# preparing the test data for the model\n",
    "test_day_of_year = np.array(test_day_of_year).reshape(-1, 1)\n",
    "test_time_of_day = test_time_of_day.reshape(-1, 1)\n",
    "_2d_test_x = np.concatenate([test_day_of_year, test_time_of_day], axis=1)\n",
    "_2d_test_y = test_temperature"
   ]
  },
  {
   "cell_type": "code",
   "execution_count": 16,
   "metadata": {},
   "outputs": [
    {
     "name": "stdout",
     "output_type": "stream",
     "text": [
      "mse on train: 23.69098184698246\n",
      "mse on test: 22.81965185471137\n"
     ]
    }
   ],
   "source": [
    "predict_train = _2d_model.predict(_2d_train_x)[0]\n",
    "predict_test = _2d_model.predict(_2d_test_x)[0]\n",
    "print(f\"mse on train: {metrics.mean_squared_error(_2d_train_y, predict_train)}\")\n",
    "print(f\"mse on test: {metrics.mean_squared_error(_2d_test_y, predict_test)}\")"
   ]
  },
  {
   "cell_type": "code",
   "execution_count": 17,
   "metadata": {},
   "outputs": [
    {
     "data": {
      "image/png": "[encoded data removed]",
      "text/plain": [
       "<Figure size 432x288 with 1 Axes>"
      ]
     },
     "metadata": {
      "needs_background": "light"
     },
     "output_type": "display_data"
    }
   ],
   "source": [
    "#plotting a 3d model of my prediction\n",
    "fig = plt.figure()\n",
    "ax = fig.add_subplot(111, projection='3d')\n",
    "\n",
    "ax.scatter(_2d_test_x[:, 0], _2d_test_x[:, 1], _2d_test_y, alpha = .01)\n",
    "ax.scatter(_2d_test_x[:, 0], _2d_test_x[:, 1], predict_test, color = 'red', \n",
    "           label = 'The model prediction')\n",
    "\n",
    "ax.set_xlabel('Days of the year')\n",
    "ax.set_ylabel('Time of the day')\n",
    "ax.set_zlabel('Temperature')\n",
    "plt.title(\"3D plot of the data - test\", y=1.08)\n",
    "plt.legend()\n",
    "plt.show()"
   ]
  },
  {
   "cell_type": "markdown",
   "metadata": {},
   "source": [
    "### Copying the model from the last assignment:"
   ]
  },
  {
   "cell_type": "code",
   "execution_count": 18,
   "metadata": {},
   "outputs": [],
   "source": [
    "# The yearly component of the data:\n",
    "\n",
    "linear_time_before = time.time()\n",
    "# For train_data\n",
    "RBFs_number = 16\n",
    "\n",
    "# These are the centers for the RBFs. I will have 16 centers that are equally distributed between\n",
    "# the minimum value of the day of the year (which is 1) and the maximum value (which is 365):\n",
    "\n",
    "train_day_of_year_centers = np.array([i for i in range(int(min(_2d_train_x[:, 0]))\n",
    "                                                       ,int(max(_2d_train_x[:, 0]))\n",
    "                                                       ,int(max(_2d_train_x[:, 0])-min(_2d_train_x[:, 0])) \\\n",
    "                                                       //RBFs_number)]).reshape(-1, 1)\n",
    "\n",
    "sigma = 81000 #width of RBFs\n",
    "\n",
    "# mapping to the RBFs:\n",
    "train_day_of_year_kernel = rbf_kernel(_2d_train_x[:, 0].reshape(-1, 1), train_day_of_year_centers, gamma=1 / sigma)\n",
    "\n",
    "\n",
    "######## Doing the same for the test data:\n",
    "\n",
    "# For test_data:\n",
    "RBFs_number = 16\n",
    "test_day_of_year_centers = np.array([i for i in range(int(min(_2d_test_x[:, 0]))\n",
    "                                                       ,int(max(_2d_test_x[:, 0]))\n",
    "                                                       ,int(max(_2d_test_x[:, 0])-min(_2d_test_x[:, 0])) \\\n",
    "                                                       //RBFs_number)]).reshape(-1, 1)\n",
    "sigma = 81000\n",
    "test_day_of_year_kernel = rbf_kernel(_2d_test_x[:, 0].reshape(-1, 1), test_day_of_year_centers, gamma=1 / sigma)\n",
    "\n",
    "####\n",
    "# The daily component of the data:\n",
    "\n",
    "# For train data:\n",
    "RBFs_number = 16\n",
    "train_time_of_day_centers = np.array([i for i in range(int(min(_2d_train_x[:, 1]))\n",
    "                                                       ,int(max(_2d_train_x[:, 1]))\n",
    "                                                       ,int(max(_2d_train_x[:, 1])-min(_2d_train_x[:, 1])) \\\n",
    "                                                       //RBFs_number)]).reshape(-1, 1)\n",
    "sigma = 8000\n",
    "train_time_of_day_kernel = rbf_kernel(_2d_train_x[:, 1].reshape(-1, 1), train_time_of_day_centers, gamma=1 / sigma)\n",
    "\n",
    "\n",
    "\n",
    "#######\n",
    "# For test data:\n",
    "RBFs_number = 16\n",
    "test_time_of_day_centers = np.array([i for i in range(int(min(_2d_test_x[:, 1]))\n",
    "                                                       ,int(max(_2d_test_x[:, 1]))\n",
    "                                                       ,int(max(_2d_test_x[:, 1])-min(_2d_test_x[:, 1])) \\\n",
    "                                                       //RBFs_number)]).reshape(-1, 1)\n",
    "sigma = 8000\n",
    "test_time_of_day_kernel = rbf_kernel(_2d_test_x[:, 1].reshape(-1, 1), test_time_of_day_centers, gamma=1 / sigma)\n",
    "\n",
    "####\n",
    "# Merging the two componenets:\n",
    "train_two_components_kernel = np.concatenate((train_day_of_year_kernel, train_time_of_day_kernel), axis=1)\n",
    "test_two_components_kernel = np.concatenate((test_day_of_year_kernel, test_time_of_day_kernel), axis=1)\n"
   ]
  },
  {
   "cell_type": "code",
   "execution_count": 19,
   "metadata": {},
   "outputs": [
    {
     "name": "stdout",
     "output_type": "stream",
     "text": [
      "Training time: 0.3031890392303467\n",
      "MAE on train: 23.96647350663857\n",
      "MAE on test: 23.579705181930752\n"
     ]
    }
   ],
   "source": [
    "# Training the model using the two components of the data:\n",
    "\n",
    "model_linear_two_components = linear_model.LinearRegression()\n",
    "model_linear_two_components.fit(train_two_components_kernel, _2d_train_y)\n",
    "linear_time_after = time.time()\n",
    "\n",
    "predict_y_train_two_components = model_linear_two_components.predict(train_two_components_kernel)\n",
    "predict_y_test_two_components = model_linear_two_components.predict(test_two_components_kernel)\n",
    "\n",
    "print(\"Training time:\", linear_time_after-linear_time_before )\n",
    "print(f\"MAE on train: {metrics.mean_squared_error(_2d_train_y, predict_y_train_two_components)}\")\n",
    "print(f\"MAE on test: {metrics.mean_squared_error(_2d_test_y, predict_y_test_two_components)}\")"
   ]
  },
  {
   "cell_type": "markdown",
   "metadata": {},
   "source": [
    "### Conclusion\n",
    "The MSE of the two models on the test dataset were close (GP:22.81, Linear:23.58) because the two models use the same RBF kernel. GP had a slighlty better performance because it managed to model the interaction between the time of day and day of year components and then it captured more variation but the linear model modeled each of them individually. \n",
    "\n",
    "The GP model took much more time (707 seconds). This is expected since GP builds a multivariate gaussian distribution of 10000 dimensions (the number of points I used) and for this reason GP has memory and time constraint as it becomes very hard to use it on a large dataset (I wasn't able to fit the model to all the 500,000 data points that I had because that would require building a multivariate normal distribution of 500,000 dimensions)."
   ]
  }
 ],
 "metadata": {
  "kernelspec": {
   "display_name": "Python 3",
   "language": "python",
   "name": "python3"
  },
  "language_info": {
   "codemirror_mode": {
    "name": "ipython",
    "version": 3
   },
   "file_extension": ".py",
   "mimetype": "text/x-python",
   "name": "python",
   "nbconvert_exporter": "python",
   "pygments_lexer": "ipython3",
   "version": "3.7.3"
  }
 },
 "nbformat": 4,
 "nbformat_minor": 2
}
