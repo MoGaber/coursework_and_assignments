{
 "cells": [
  {
   "cell_type": "markdown",
   "metadata": {},
   "source": [
    "# CS156 Assignment 1"
   ]
  },
  {
   "cell_type": "code",
   "execution_count": 1,
   "metadata": {},
   "outputs": [],
   "source": [
    "#importing the needed libraries:\n",
    "import pandas as pd\n",
    "import warnings\n",
    "import matplotlib.pyplot as plt\n",
    "import numpy as np\n",
    "from sklearn import linear_model\n",
    "from sklearn import datasets\n",
    "from sklearn.model_selection import train_test_split\n",
    "from sklearn.neighbors import KNeighborsClassifier\n",
    "from sklearn import metrics\n",
    "from sklearn.model_selection import GridSearchCV\n",
    "from datetime import date as dt\n",
    "from sklearn import preprocessing\n",
    "import seaborn as sn\n",
    "warnings.filterwarnings(\"ignore\")\n"
   ]
  },
  {
   "cell_type": "markdown",
   "metadata": {},
   "source": [
    "# importing the data"
   ]
  },
  {
   "cell_type": "code",
   "execution_count": 2,
   "metadata": {},
   "outputs": [],
   "source": [
    "#benchmarks_data = pd.read_csv(\"https://gist.github.com/MoGaber/231a09bf56ff747ee10d8d812da9441c.text\")\n",
    "benchmarks_data = pd.read_csv(\"benchmarks.txt\")"
   ]
  },
  {
   "cell_type": "markdown",
   "metadata": {},
   "source": [
    "# Cleaning the data"
   ]
  },
  {
   "cell_type": "code",
   "execution_count": 3,
   "metadata": {},
   "outputs": [
    {
     "data": {
      "text/html": [
       "<div>\n",
       "<style scoped>\n",
       "    .dataframe tbody tr th:only-of-type {\n",
       "        vertical-align: middle;\n",
       "    }\n",
       "\n",
       "    .dataframe tbody tr th {\n",
       "        vertical-align: top;\n",
       "    }\n",
       "\n",
       "    .dataframe thead th {\n",
       "        text-align: right;\n",
       "    }\n",
       "</style>\n",
       "<table border=\"1\" class=\"dataframe\">\n",
       "  <thead>\n",
       "    <tr style=\"text-align: right;\">\n",
       "      <th></th>\n",
       "      <th>testID</th>\n",
       "      <th>benchName</th>\n",
       "      <th>base</th>\n",
       "      <th>peak</th>\n",
       "      <th>log(base)</th>\n",
       "      <th>Date</th>\n",
       "      <th>Years</th>\n",
       "      <th># Years Passed</th>\n",
       "      <th>Ordinal Date</th>\n",
       "    </tr>\n",
       "  </thead>\n",
       "  <tbody>\n",
       "    <tr>\n",
       "      <td>45837</td>\n",
       "      <td>cpu2006-20060513-00001</td>\n",
       "      <td>471.omnetpp</td>\n",
       "      <td>1.03</td>\n",
       "      <td>NaN</td>\n",
       "      <td>0.029559</td>\n",
       "      <td>2006-05-13</td>\n",
       "      <td>2006</td>\n",
       "      <td>0</td>\n",
       "      <td>732444</td>\n",
       "    </tr>\n",
       "    <tr>\n",
       "      <td>45866</td>\n",
       "      <td>cpu2006-20060513-00005</td>\n",
       "      <td>471.omnetpp</td>\n",
       "      <td>7.53</td>\n",
       "      <td>NaN</td>\n",
       "      <td>2.018895</td>\n",
       "      <td>2006-05-13</td>\n",
       "      <td>2006</td>\n",
       "      <td>0</td>\n",
       "      <td>732444</td>\n",
       "    </tr>\n",
       "    <tr>\n",
       "      <td>45878</td>\n",
       "      <td>cpu2006-20060513-00007</td>\n",
       "      <td>471.omnetpp</td>\n",
       "      <td>7.28</td>\n",
       "      <td>NaN</td>\n",
       "      <td>1.985131</td>\n",
       "      <td>2006-05-13</td>\n",
       "      <td>2006</td>\n",
       "      <td>0</td>\n",
       "      <td>732444</td>\n",
       "    </tr>\n",
       "    <tr>\n",
       "      <td>45907</td>\n",
       "      <td>cpu2006-20060513-00010</td>\n",
       "      <td>471.omnetpp</td>\n",
       "      <td>6.76</td>\n",
       "      <td>6.76</td>\n",
       "      <td>1.911023</td>\n",
       "      <td>2006-05-13</td>\n",
       "      <td>2006</td>\n",
       "      <td>0</td>\n",
       "      <td>732444</td>\n",
       "    </tr>\n",
       "    <tr>\n",
       "      <td>45953</td>\n",
       "      <td>cpu2006-20060513-00015</td>\n",
       "      <td>471.omnetpp</td>\n",
       "      <td>9.83</td>\n",
       "      <td>NaN</td>\n",
       "      <td>2.285439</td>\n",
       "      <td>2006-05-13</td>\n",
       "      <td>2006</td>\n",
       "      <td>0</td>\n",
       "      <td>732444</td>\n",
       "    </tr>\n",
       "    <tr>\n",
       "      <td>...</td>\n",
       "      <td>...</td>\n",
       "      <td>...</td>\n",
       "      <td>...</td>\n",
       "      <td>...</td>\n",
       "      <td>...</td>\n",
       "      <td>...</td>\n",
       "      <td>...</td>\n",
       "      <td>...</td>\n",
       "      <td>...</td>\n",
       "    </tr>\n",
       "    <tr>\n",
       "      <td>136876</td>\n",
       "      <td>cpu2006-20120102-19303</td>\n",
       "      <td>471.omnetpp</td>\n",
       "      <td>17.50</td>\n",
       "      <td>18.5</td>\n",
       "      <td>2.862201</td>\n",
       "      <td>2012-01-02</td>\n",
       "      <td>2012</td>\n",
       "      <td>6</td>\n",
       "      <td>734504</td>\n",
       "    </tr>\n",
       "    <tr>\n",
       "      <td>136905</td>\n",
       "      <td>cpu2006-20120102-19307</td>\n",
       "      <td>471.omnetpp</td>\n",
       "      <td>23.10</td>\n",
       "      <td>24.3</td>\n",
       "      <td>3.139833</td>\n",
       "      <td>2012-01-02</td>\n",
       "      <td>2012</td>\n",
       "      <td>6</td>\n",
       "      <td>734504</td>\n",
       "    </tr>\n",
       "    <tr>\n",
       "      <td>136934</td>\n",
       "      <td>cpu2006-20120102-19311</td>\n",
       "      <td>471.omnetpp</td>\n",
       "      <td>21.80</td>\n",
       "      <td>22.9</td>\n",
       "      <td>3.081910</td>\n",
       "      <td>2012-01-02</td>\n",
       "      <td>2012</td>\n",
       "      <td>6</td>\n",
       "      <td>734504</td>\n",
       "    </tr>\n",
       "    <tr>\n",
       "      <td>136963</td>\n",
       "      <td>cpu2006-20120102-19315</td>\n",
       "      <td>471.omnetpp</td>\n",
       "      <td>19.70</td>\n",
       "      <td>20.8</td>\n",
       "      <td>2.980619</td>\n",
       "      <td>2012-01-02</td>\n",
       "      <td>2012</td>\n",
       "      <td>6</td>\n",
       "      <td>734504</td>\n",
       "    </tr>\n",
       "    <tr>\n",
       "      <td>136992</td>\n",
       "      <td>cpu2006-20120102-19319</td>\n",
       "      <td>471.omnetpp</td>\n",
       "      <td>19.10</td>\n",
       "      <td>20.2</td>\n",
       "      <td>2.949688</td>\n",
       "      <td>2012-01-02</td>\n",
       "      <td>2012</td>\n",
       "      <td>6</td>\n",
       "      <td>734504</td>\n",
       "    </tr>\n",
       "  </tbody>\n",
       "</table>\n",
       "<p>3173 rows × 9 columns</p>\n",
       "</div>"
      ],
      "text/plain": [
       "                        testID    benchName   base  peak  log(base)  \\\n",
       "45837   cpu2006-20060513-00001  471.omnetpp   1.03   NaN   0.029559   \n",
       "45866   cpu2006-20060513-00005  471.omnetpp   7.53   NaN   2.018895   \n",
       "45878   cpu2006-20060513-00007  471.omnetpp   7.28   NaN   1.985131   \n",
       "45907   cpu2006-20060513-00010  471.omnetpp   6.76  6.76   1.911023   \n",
       "45953   cpu2006-20060513-00015  471.omnetpp   9.83   NaN   2.285439   \n",
       "...                        ...          ...    ...   ...        ...   \n",
       "136876  cpu2006-20120102-19303  471.omnetpp  17.50  18.5   2.862201   \n",
       "136905  cpu2006-20120102-19307  471.omnetpp  23.10  24.3   3.139833   \n",
       "136934  cpu2006-20120102-19311  471.omnetpp  21.80  22.9   3.081910   \n",
       "136963  cpu2006-20120102-19315  471.omnetpp  19.70  20.8   2.980619   \n",
       "136992  cpu2006-20120102-19319  471.omnetpp  19.10  20.2   2.949688   \n",
       "\n",
       "              Date Years  # Years Passed  Ordinal Date  \n",
       "45837   2006-05-13  2006               0        732444  \n",
       "45866   2006-05-13  2006               0        732444  \n",
       "45878   2006-05-13  2006               0        732444  \n",
       "45907   2006-05-13  2006               0        732444  \n",
       "45953   2006-05-13  2006               0        732444  \n",
       "...            ...   ...             ...           ...  \n",
       "136876  2012-01-02  2012               6        734504  \n",
       "136905  2012-01-02  2012               6        734504  \n",
       "136934  2012-01-02  2012               6        734504  \n",
       "136963  2012-01-02  2012               6        734504  \n",
       "136992  2012-01-02  2012               6        734504  \n",
       "\n",
       "[3173 rows x 9 columns]"
      ]
     },
     "execution_count": 3,
     "metadata": {},
     "output_type": "execute_result"
    }
   ],
   "source": [
    "chosen_benchmark_data = benchmarks_data[(benchmarks_data[\"benchName\"]== '471.omnetpp' )] #choosing the benc name\n",
    "#applying log to the base speed:\n",
    "chosen_benchmark_data['log(base)'] = chosen_benchmark_data['base'].apply(np.log)\n",
    "\n",
    "#getting the dates out of the ID:\n",
    "dates = [] #full date\n",
    "years = [] #years only\n",
    "\n",
    "for ID in chosen_benchmark_data[\"testID\"]:\n",
    "    ID = ID.split('-')[1]\n",
    "    dates.append(ID[:4] + \"-\" + ID[4:6]+\"-\" + ID[6:])\n",
    "    years.append(ID[:4])\n",
    "\n",
    "#adding new columns for dates and years:\n",
    "chosen_benchmark_data['Date'] = dates\n",
    "chosen_benchmark_data['Years'] = years\n",
    "\n",
    "# To make it easier, I replace years with numbers from 0 to len(years)\n",
    "# This should represent how many years passed after the initial time\n",
    "le = preprocessing.LabelEncoder()\n",
    "le.fit(list(set(years)))#transforming years to numbers from 0 to...len(years)\n",
    "chosen_benchmark_data['# Years Passed'] = le.transform(chosen_benchmark_data['Years'])\n",
    "\n",
    "#transforming dates to ordinal date so that I can plot them:\n",
    "chosen_benchmark_data['Ordinal Date']=pd.to_datetime(chosen_benchmark_data[\"Date\"]).apply(lambda date: date.toordinal())\n",
    "chosen_benchmark_data"
   ]
  },
  {
   "cell_type": "markdown",
   "metadata": {},
   "source": [
    "# Plotting the data"
   ]
  },
  {
   "cell_type": "code",
   "execution_count": 4,
   "metadata": {},
   "outputs": [
    {
     "data": {
      "image/png": "[encoded data removed]",
      "text/plain": [
       "<Figure size 432x288 with 1 Axes>"
      ]
     },
     "metadata": {
      "needs_background": "light"
     },
     "output_type": "display_data"
    }
   ],
   "source": [
    "#plotting a semi-log plot:\n",
    "\n",
    "fig, ax = plt.subplots()\n",
    "plt.scatter(chosen_benchmark_data['Ordinal Date'], chosen_benchmark_data['log(base)'])\n",
    "\n",
    "#changing the x axis labels to make it look better:\n",
    "locs, labels=plt.xticks()\n",
    "new_xticks=[str(dt.fromordinal(int(item)))[:4] for item in locs]\n",
    "plt.xticks(locs,new_xticks, rotation=45, horizontalalignment='right')\n",
    "\n",
    "# scale the size of the graph to the data:\n",
    "ax.autoscale(enable=True) \n",
    "\n",
    "#set labels:\n",
    "plt.xlabel(\"Time\")\n",
    "plt.ylabel(\"Base Speed\")\n",
    "plt.title(\"Semi-Log Plot\")\n",
    "plt.show()"
   ]
  },
  {
   "cell_type": "markdown",
   "metadata": {},
   "source": [
    "# Fitting a linear model"
   ]
  },
  {
   "cell_type": "code",
   "execution_count": 5,
   "metadata": {},
   "outputs": [
    {
     "data": {
      "text/plain": [
       "LinearRegression(copy_X=True, fit_intercept=True, n_jobs=None, normalize=False)"
      ]
     },
     "execution_count": 5,
     "metadata": {},
     "output_type": "execute_result"
    }
   ],
   "source": [
    "# getting the x and y for modeling:\n",
    "x = np.array(chosen_benchmark_data['# Years Passed']).reshape(-1, 1)\n",
    "y = np.array(chosen_benchmark_data[\"log(base)\"]).reshape(-1, 1)\n",
    "\n",
    "# Leaving part of the data out to evaluate the model with:\n",
    "x_train, x_test, y_train, y_test = train_test_split(x, y, test_size=0.2, random_state=0)\n",
    "#fitting a linear model:\n",
    "model = linear_model.LinearRegression()\n",
    "model.fit(x_train, y_train)\n"
   ]
  },
  {
   "cell_type": "code",
   "execution_count": 6,
   "metadata": {},
   "outputs": [
    {
     "name": "stdout",
     "output_type": "stream",
     "text": [
      "R^2: 0.3766351797957497, MSE: 0.06615344953122264 \n"
     ]
    }
   ],
   "source": [
    "y_predicted = model.predict(x_test) #predicting x values\n",
    "r = model.score(x_test,y_test) #calculating R squared \n",
    "mse = metrics.mean_squared_error(y_test, y_predicted) #calculating the mean squared error \n",
    "print(f\"R^2: {r}, MSE: {mse} \")"
   ]
  },
  {
   "cell_type": "markdown",
   "metadata": {},
   "source": [
    "We see from the metrics above the model performs relatively well on the data since MSE is minimized to 0.066"
   ]
  },
  {
   "cell_type": "markdown",
   "metadata": {},
   "source": [
    "# Evaluating Moor's law"
   ]
  },
  {
   "cell_type": "markdown",
   "metadata": {},
   "source": [
    "Moore's law says that the speed doubles every two years. This means that $y = c*2^x$ where y is the speed and x is the number of years passed after year 0 and c is the speed at year 0. Since we buit a model to predict log(speed) then Moore's law should be as the following: $log(y) = log(2)x+log(c)$. Our linear model is given as $log(y) = mx+log(c)$. Since x starts at year 0 and increases by only 1 year and Moore's says that speed double every 2 years, then if Moore's law applies to this dataset then we should find that $2*m = log(2)$ which means that the coefficient $m$ of the model should equal $\\frac{log(2)}{2} =0.34 $. Let's check that:"
   ]
  },
  {
   "cell_type": "code",
   "execution_count": 7,
   "metadata": {},
   "outputs": [
    {
     "name": "stdout",
     "output_type": "stream",
     "text": [
      "Model Coefficient: [[0.15342364]], model intercept: [2.25702591]\n"
     ]
    }
   ],
   "source": [
    "print(f\"Model Coefficient: {model.coef_}, model intercept: {model.intercept_}\")"
   ]
  },
  {
   "cell_type": "markdown",
   "metadata": {},
   "source": [
    "We see that the coefficient m = 0.1534 which is smaller than what is supposed to be found if Moore's law was true. This means that Moore's law doesn't apply to this dataset. We can make a visualization of this result as the following"
   ]
  },
  {
   "cell_type": "code",
   "execution_count": 8,
   "metadata": {},
   "outputs": [],
   "source": [
    "#getting the first observation in my data to use it to check Moore's law:\n",
    "first_observation = np.mean(chosen_benchmark_data[(chosen_benchmark_data['# Years Passed']==0)][\"log(base)\"])\n",
    "\n",
    "# the log of the speed according to moore's law: log(y) = log(2)*x + first_observation\n",
    "Moore_y = [(np.log(2)*X+first_observation) for X in x]"
   ]
  },
  {
   "cell_type": "code",
   "execution_count": 9,
   "metadata": {},
   "outputs": [
    {
     "data": {
      "image/png": "[encoded data removed]",
      "text/plain": [
       "<Figure size 432x288 with 1 Axes>"
      ]
     },
     "metadata": {
      "needs_background": "light"
     },
     "output_type": "display_data"
    }
   ],
   "source": [
    "fig, ax = plt.subplots()\n",
    "plt.scatter(chosen_benchmark_data['Ordinal Date'], chosen_benchmark_data['base'])\n",
    "locs, labels=plt.xticks()\n",
    "new_xticks=[str(dt.fromordinal(int(item)))[:4] for item in locs]\n",
    "new_x = x.copy()\n",
    "for num, i in enumerate(x):\n",
    "    new_x[num] = list(chosen_benchmark_data[(chosen_benchmark_data[\"# Years Passed\"] == i[0])][\"Ordinal Date\"])[0]\n",
    "    \n",
    "    \n",
    "plt.plot(new_x, np.exp(Moore_y), color = 'orange', label = \"Moore's Law\")\n",
    "plt.plot(new_x, np.exp(model.predict(x)), color = 'red', label = \"Our Observation\")\n",
    "plt.xticks(locs,new_xticks, rotation=45, horizontalalignment='right')\n",
    "ax.autoscale(enable=True) \n",
    "plt.xlabel(\"Time\")\n",
    "plt.ylabel(\"Base Speed\")\n",
    "plt.title(\"Comparison\")\n",
    "plt.legend()\n",
    "plt.show()"
   ]
  },
  {
   "cell_type": "markdown",
   "metadata": {},
   "source": [
    "We see from the visualization that the speed is this dataset increases overtime but with a rate way less than what Moore's expected."
   ]
  },
  {
   "cell_type": "markdown",
   "metadata": {},
   "source": [
    "# Part 2: MNIST Digits"
   ]
  },
  {
   "cell_type": "code",
   "execution_count": 10,
   "metadata": {},
   "outputs": [],
   "source": [
    "#loading the dataset:\n",
    "MNIST_digits_dataset = datasets.load_digits()"
   ]
  },
  {
   "cell_type": "markdown",
   "metadata": {},
   "source": [
    "# Plotting some examples"
   ]
  },
  {
   "cell_type": "code",
   "execution_count": 11,
   "metadata": {},
   "outputs": [
    {
     "data": {
      "text/plain": [
       "<Figure size 432x288 with 0 Axes>"
      ]
     },
     "metadata": {},
     "output_type": "display_data"
    },
    {
     "data": {
      "image/png": "[encoded data removed]",
      "text/plain": [
       "<Figure size 288x288 with 1 Axes>"
      ]
     },
     "metadata": {
      "needs_background": "light"
     },
     "output_type": "display_data"
    }
   ],
   "source": [
    "plt.gray()\n",
    "plt.matshow(MNIST_digits_dataset.images[0])\n",
    "plt.title(f\"label: {MNIST_digits_dataset.target[0]}\", y=1.08)\n",
    "plt.show()"
   ]
  },
  {
   "cell_type": "code",
   "execution_count": 12,
   "metadata": {},
   "outputs": [
    {
     "data": {
      "text/plain": [
       "<Figure size 432x288 with 0 Axes>"
      ]
     },
     "metadata": {},
     "output_type": "display_data"
    },
    {
     "data": {
      "image/png": "[encoded data removed]",
      "text/plain": [
       "<Figure size 288x288 with 1 Axes>"
      ]
     },
     "metadata": {
      "needs_background": "light"
     },
     "output_type": "display_data"
    }
   ],
   "source": [
    "plt.gray()\n",
    "plt.matshow(MNIST_digits_dataset.images[1])\n",
    "plt.title(f\"label: {MNIST_digits_dataset.target[1]}\", y=1.08)\n",
    "plt.show()"
   ]
  },
  {
   "cell_type": "markdown",
   "metadata": {},
   "source": [
    "# Choosing zero and three"
   ]
  },
  {
   "cell_type": "code",
   "execution_count": 13,
   "metadata": {},
   "outputs": [],
   "source": [
    "# making the data for zero:\n",
    "zero_index = np.where(MNIST_digits_dataset.target == 0)\n",
    "three_index = np.where(MNIST_digits_dataset.target == 3)\n",
    "zero_data = MNIST_digits_dataset.data[zero_index] #x\n",
    "zero_target = MNIST_digits_dataset.target[zero_index] #y\n",
    "\n",
    "three_data = MNIST_digits_dataset.data[three_index] #x\n",
    "three_target = MNIST_digits_dataset.target[three_index] #y\n",
    "\n",
    "#adding the data together to fit the model on them:\n",
    "model_data = np.concatenate((zero_data, three_data))\n",
    "model_target = np.concatenate((zero_target, three_target))"
   ]
  },
  {
   "cell_type": "markdown",
   "metadata": {},
   "source": [
    "# Fitting a model"
   ]
  },
  {
   "cell_type": "code",
   "execution_count": 14,
   "metadata": {},
   "outputs": [
    {
     "data": {
      "text/plain": [
       "{'n_neighbors': 1}"
      ]
     },
     "execution_count": 14,
     "metadata": {},
     "output_type": "execute_result"
    }
   ],
   "source": [
    "# holding part of the data out to evaluate the model:\n",
    "x_train, x_test, y_train, y_test = train_test_split(model_data, model_target, test_size=0.2, random_state=0)\n",
    "\n",
    "#choosing the best hyperparamters using cross validation:\n",
    "\n",
    "#making this dictionary of Ks to train the model using each one of them using Cross validation\n",
    "#and then check which one is better:\n",
    "tuned_parameter = {'n_neighbors': [1, 2, 3, 4, 5, 6, 7, 8, 9, 10, 11, 12, 13, 14, 15]}\n",
    "\n",
    "#Running GridSearchCV which uses cross validation of 5 folds to train the model several times with different ks\n",
    "# and returns the k that has the best performance:\n",
    "clf = GridSearchCV(\n",
    "        KNeighborsClassifier(), tuned_parameter, cv=5)\n",
    "\n",
    "clf.fit(x_train, y_train)\n",
    "clf.best_params_"
   ]
  },
  {
   "cell_type": "code",
   "execution_count": 15,
   "metadata": {},
   "outputs": [],
   "source": [
    "#from above, the best k is k=1\n",
    "k=1\n",
    "#fitting a model:\n",
    "kneigh_model = KNeighborsClassifier(n_neighbors = k).fit(x_train,y_train)"
   ]
  },
  {
   "cell_type": "code",
   "execution_count": 16,
   "metadata": {},
   "outputs": [
    {
     "name": "stdout",
     "output_type": "stream",
     "text": [
      "The classification accuracy is 100.0%\n"
     ]
    }
   ],
   "source": [
    "#evaluating the model:\n",
    "print(f\"The classification accuracy is {(kneigh_model.score(x_test, y_test))*100}%\")"
   ]
  },
  {
   "cell_type": "markdown",
   "metadata": {},
   "source": [
    "We see that the accuracy of this model when it runs on the held out data is $100$ which means that the model classified every single digit image in the testing data correclty. This means that we can expect that recall and precision should aslo be $100$ :"
   ]
  },
  {
   "cell_type": "code",
   "execution_count": 17,
   "metadata": {},
   "outputs": [
    {
     "name": "stdout",
     "output_type": "stream",
     "text": [
      "              precision    recall  f1-score   support\n",
      "\n",
      "           0       1.00      1.00      1.00        36\n",
      "           3       1.00      1.00      1.00        37\n",
      "\n",
      "    accuracy                           1.00        73\n",
      "   macro avg       1.00      1.00      1.00        73\n",
      "weighted avg       1.00      1.00      1.00        73\n",
      "\n"
     ]
    }
   ],
   "source": [
    "print(metrics.classification_report(y_test, kneigh_model.predict(x_test)))"
   ]
  },
  {
   "cell_type": "code",
   "execution_count": 18,
   "metadata": {},
   "outputs": [],
   "source": [
    "confus_matrix = metrics.confusion_matrix(y_test, kneigh_model.predict(x_test))"
   ]
  },
  {
   "cell_type": "code",
   "execution_count": 19,
   "metadata": {},
   "outputs": [
    {
     "data": {
      "text/plain": [
       "<matplotlib.axes._subplots.AxesSubplot at 0x2a72042e860>"
      ]
     },
     "execution_count": 19,
     "metadata": {},
     "output_type": "execute_result"
    },
    {
     "data": {
      "image/png": "[encoded data removed]",
      "text/plain": [
       "<Figure size 432x288 with 2 Axes>"
      ]
     },
     "metadata": {
      "needs_background": "light"
     },
     "output_type": "display_data"
    }
   ],
   "source": [
    "sn.heatmap(confus_matrix, annot=True)"
   ]
  },
  {
   "cell_type": "markdown",
   "metadata": {},
   "source": [
    "# Fitting the model using data of all digits"
   ]
  },
  {
   "cell_type": "code",
   "execution_count": 20,
   "metadata": {},
   "outputs": [],
   "source": [
    "model_data = MNIST_digits_dataset.data #x\n",
    "model_target = MNIST_digits_dataset.target #y"
   ]
  },
  {
   "cell_type": "code",
   "execution_count": 21,
   "metadata": {},
   "outputs": [],
   "source": [
    "x_train, x_test, y_train, y_test = train_test_split(model_data, model_target, test_size=0.2, random_state=0)\n",
    "kneigh_model = KNeighborsClassifier(n_neighbors = k).fit(x_train,y_train)"
   ]
  },
  {
   "cell_type": "code",
   "execution_count": 22,
   "metadata": {},
   "outputs": [
    {
     "name": "stdout",
     "output_type": "stream",
     "text": [
      "              precision    recall  f1-score   support\n",
      "\n",
      "           0       1.00      1.00      1.00        27\n",
      "           1       1.00      1.00      1.00        35\n",
      "           2       1.00      0.97      0.99        36\n",
      "           3       0.94      1.00      0.97        29\n",
      "           4       1.00      1.00      1.00        30\n",
      "           5       0.97      0.97      0.97        40\n",
      "           6       1.00      1.00      1.00        44\n",
      "           7       1.00      1.00      1.00        39\n",
      "           8       1.00      1.00      1.00        39\n",
      "           9       0.97      0.95      0.96        41\n",
      "\n",
      "    accuracy                           0.99       360\n",
      "   macro avg       0.99      0.99      0.99       360\n",
      "weighted avg       0.99      0.99      0.99       360\n",
      "\n"
     ]
    }
   ],
   "source": [
    "print(metrics.classification_report(y_test, kneigh_model.predict(x_test)))"
   ]
  },
  {
   "cell_type": "code",
   "execution_count": 23,
   "metadata": {},
   "outputs": [],
   "source": [
    "confus_matrix = metrics.confusion_matrix(y_test, kneigh_model.predict(x_test))"
   ]
  },
  {
   "cell_type": "code",
   "execution_count": 24,
   "metadata": {},
   "outputs": [
    {
     "data": {
      "text/plain": [
       "<matplotlib.axes._subplots.AxesSubplot at 0x2a71fa15f60>"
      ]
     },
     "execution_count": 24,
     "metadata": {},
     "output_type": "execute_result"
    },
    {
     "data": {
      "image/png": "[encoded data removed]",
      "text/plain": [
       "<Figure size 432x288 with 2 Axes>"
      ]
     },
     "metadata": {
      "needs_background": "light"
     },
     "output_type": "display_data"
    }
   ],
   "source": [
    "sn.heatmap(confus_matrix, annot=True)"
   ]
  },
  {
   "cell_type": "code",
   "execution_count": null,
   "metadata": {},
   "outputs": [],
   "source": []
  }
 ],
 "metadata": {
  "kernelspec": {
   "display_name": "Python 3",
   "language": "python",
   "name": "python3"
  },
  "language_info": {
   "codemirror_mode": {
    "name": "ipython",
    "version": 3
   },
   "file_extension": ".py",
   "mimetype": "text/x-python",
   "name": "python",
   "nbconvert_exporter": "python",
   "pygments_lexer": "ipython3",
   "version": "3.7.3"
  }
 },
 "nbformat": 4,
 "nbformat_minor": 2
}
