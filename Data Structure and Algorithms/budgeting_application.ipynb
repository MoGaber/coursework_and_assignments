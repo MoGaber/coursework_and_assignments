{
 "cells": [
  {
   "cell_type": "markdown",
   "metadata": {},
   "source": [
    "# Final Project: Budget Planner App\n",
    "### - CS110\n",
    "### - Mohamed Gaber"
   ]
  },
  {
   "cell_type": "markdown",
   "metadata": {},
   "source": [
    "## Introduction"
   ]
  },
  {
   "cell_type": "markdown",
   "metadata": {},
   "source": [
    "The Budget Planner Application is an application that uses concepts from CS110 to build a budget plan for users. The application starts by allowing the users to input their budget for the month and the amount of money they want to save. Then, the application asks the users to enter data about all the items they might spend money on during the month. The data in general are:\n",
    "- The name of the item\n",
    "- The cost of the item\n",
    "- A priority value from 1 to 10 that represents how much the item is important for them (prioritizing)\n",
    "\n",
    "The application then sorts the data based on the priority value and provide a budget plan for the users to tell them which items to buy in order to best use their budget. "
   ]
  },
  {
   "cell_type": "markdown",
   "metadata": {},
   "source": [
    "## Technical Implementation"
   ]
  },
  {
   "cell_type": "markdown",
   "metadata": {},
   "source": [
    "#### The application has three main sections:"
   ]
  },
  {
   "cell_type": "markdown",
   "metadata": {},
   "source": [
    "#### 1- Prioritized Budget Section:\n",
    "\n",
    "This section creates the budget plan by dividing the items that the user might needs into two sections: Needs and Wants, and then the needs will be divided into more subsections to shelter, food, education and other where each one comes before the other for example, the shelter is more important than food, then food is more important than education.. and all the needs sections are more important than the wants. The application allows the user to fill these fields. Each field will be stored in a separate binary tree data structure, (for example, when the user enters an item in the food field and clicks add, that item will be a node in the food tree that will get inserted depending on the priority value that the user assigns). So the application will have five different binary trees for (shelter, food, edcucation, other, and wants) (Note that wants have only one tree because it's not necessary to divide it into more sections)\n",
    "\n",
    "Then to generate the budget plan, the application will do an inorder traversal for each tree (starting from the most important one which is the shelter and up to wants) so that the items get ordered from the highest priority value to the lowest priority value and are all added to one big list. Then starting from the first item in the list and according to the prices and the budget, the application will return the items that can be bought that fits the budget.\n",
    "\n",
    "The binary tree data structure was chosen because it can both store data and return the data sorted. The tree will take an O(h) runtime to insert a node where h is the height of the tree which will be a logn in average case, and because we store n items in each tree, the average rumtime for storing data to the trees will be O(nlogn), and assuming that we enter an anverage of n items in each tree of the five trees, then we will have a run time of O(5*nlogn) which is O(nlogn). Then traversing the tree to sort the items takes a runtime of O(n) which for five trees will take a run time of O(5n). Then after generating the sorted list, the application uses a for loop to collect all the items in the list until the budget ends. So the final runtime of the prioritized budget section is O(n+n+nlogn) and the space complexity is O(n). This runtime is actually negligible because for the nature of the application as a budget planner, it will never deal with big data and the maximum number of items that any normal user might need for a month, shouldn't exceed a thousand. So knowing that the runtime doesn't matter, the binary tree structure is best here. Please note that the worst case runtime of binary search trees is O(n^2) in the case when all nodes form one height so it would be better to use red black trees or AVL trees to guarantee a balance, but hence the runtime doesn't matter and the binary search trees are easier to implement and offer the feature of sorting, the BST is the best data strucutre to use for this application. "
   ]
  },
  {
   "cell_type": "code",
   "execution_count": 1,
   "metadata": {},
   "outputs": [],
   "source": [
    "class Node: #defining a class node to make every item a node then insert it to a tree\n",
    "    def __init__(self, name, val, cost): #setting the values of the node:\n",
    "        self.l_child = None #left, right child and the parent are None by default until the node gets inserted or attached to another node\n",
    "        self.r_child = None\n",
    "        self.parent = None\n",
    "        self.data = val #that's the priority value\n",
    "        self.name = name\n",
    "        self.cost = cost \n",
    "\n",
    "def insert(root, node): #function to insert a node to a tree\n",
    "    if root is None:\n",
    "        root = node\n",
    "    else:\n",
    "        if root.data > node.data: #following the binary tree structure by adding the smaller to the left\n",
    "            if root.l_child is None: \n",
    "                root.l_child = node\n",
    "                node.parent = root\n",
    "            else:\n",
    "                insert(root.l_child, node)\n",
    "        else: #following the binary tree structure by adding the smaller to the left\n",
    "            if root.r_child is None:\n",
    "                root.r_child = node\n",
    "                node.parent = root\n",
    "            else:\n",
    "                insert(root.r_child,node)#using recursion in case the tree has more than three other nodes\n",
    "    return root\n",
    "\n",
    "\n",
    "\n",
    "def inorder(root, lis): #The sorting algorithm that I will use (traversing the tree)\n",
    "    if root != None:\n",
    "        inorder(root.l_child, lis) #going from the most node in the left until the most node in the right\n",
    "        lis.append(root) #adding the nodes to the list in a sorted order according to their priority values\n",
    "        inorder(root.r_child, lis)\n",
    "    return lis"
   ]
  },
  {
   "cell_type": "markdown",
   "metadata": {},
   "source": [
    "#### 2- Greedy Budget Section:\n",
    "\n",
    "Unlike the prioritized budget section, the greedy budget section is a litte bit more flexible because it doesn't divide into two sections of needs and wants and it allows the user to enter an item and then store it in one tree. However, this section follows a different algorithm, beside the priority value for each item, the application will ask the user to enter the cost per unit for each item. For example, if that item is meat then the user will enter 10 dollars per kilogram, if it's visiting cinmena, the user should enter 12 dollars per ticket. The user then should enter the needed number of units for each item for the month. The application will then follow the same method as above to store the data in one tree and then sort it in terms of priorty values and then the new thing here is that the application will use the below greedy algorithm code to get as much units as possible that fits the budget. \n",
    "\n",
    "Greedy algorithm was appropriate here for two reasons:\n",
    "- The problem has an optimal substructure because the optimal solution (which is getting maximum number of items with highest value of priority) will be the sum of the optimal solutions for subproblems (which are finding highest priority value items that fit the budget.\n",
    "\n",
    "- The problem has the greedy choice property because by sorting the items in ascending order in terms of the highest priority value, and then choosing to start with the one that has highest value and moving forward, the global optimal solution will be arrived at by selecting the local optimal solution at each step.\n",
    "\n",
    "So by using this greedy algorithm, the application will be able to tell the user how many units of each item to buy in order to achieve highest priority and fit the budget to the fullest. The difference between this section and the prioritized section is that the prioritized section makes it more prioritized by constructing five trees for five fields where each field has more priority than the previous one, while the greedy section makes it more flexible and return more detailed budget plan (number of units)\n",
    "\n",
    "That said, the run time of the application for the greedy section will have the same run time for inserting items and sorting them which is O(n+nlogn) plus the time for the greedy algorithm below which takes O(n) time. So the total run time is then O(n+n+nlogn) and a space complexity of O(n) which is again negligible because of the small number of items."
   ]
  },
  {
   "cell_type": "code",
   "execution_count": 2,
   "metadata": {},
   "outputs": [],
   "source": [
    "class Node2: #defining another class for nodes to include the number of items and the cost per item in this one\n",
    "    def __init__(self, name, val, cost_per_item, num_items): \n",
    "        self.l_child = None\n",
    "        self.r_child = None\n",
    "        self.parent = None\n",
    "        self.data = val #the priority value\n",
    "        self.name = name\n",
    "        self.cost = cost_per_item #cost per item for the greedy algorithm\n",
    "        self.num = num_items #number of items\n",
    "        \n",
    "def greed(budget, Nodes):#the greedy algorithm that takes a sorted list of nodes and the budget\n",
    "    i=0 #will use this index to iterate\n",
    "    lis = []\n",
    "    while budget > 0 and i < len(Nodes): #iterating over the nodes to fill my budget\n",
    "        if budget >= (Nodes[i].num)*(Nodes[i].cost): #if budget is more than the cost of all my needs of this item\n",
    "            lis.append((str(Nodes[i].name)+': '+str(Nodes[i].num)+\" Units\"))#append the name and number of units\n",
    "            budget = budget -(Nodes[i].num)*(Nodes[i].cost)#update budget\n",
    "            i+=1#iterate\n",
    "        elif budget//Nodes[i].cost >0: #check to see if I can buy any units of this item instead of all of it\n",
    "            lis.append((str(Nodes[i].name)+': '+str(budget//Nodes[i].cost)+\" Units\"))\n",
    "            budget = budget -(budget//Nodes[i].cost)*(Nodes[i].cost)\n",
    "            i+=1\n",
    "        else:\n",
    "            i+=1\n",
    "            \n",
    "    return lis , budget #returning the list of items and the remaining of the budget if any"
   ]
  },
  {
   "cell_type": "markdown",
   "metadata": {},
   "source": [
    "#### 3- Maximum Values Section:\n",
    "\n",
    "This section is customized for the wants of the users (the stuff that are not necessities of life). The user will enter his wants with values from 1 to 10 on how much he prefers each one, and then the application will return a list of the items that achieve a maximum utility. For example, if your desire for travelling to a different country is 8 but travelling is expensive and will consume all of your budget. At the same time you have a desire of 7 of going to Cinema and a desire of 7 of going to a theme park and a desire of 2 of buying desserts, then the application will suggest doing the 7, 7, 2 which together will have a value of 16 so doing them together will be better than just traveling. The code below shows how the application does that using dynamic programming. Please note that if you added the same items to the greedy or the prioritized section, they would choose traveling at first place because they consider the value 8 as the first priority that must be achieved unlike this maximum values section that tries to achive the highest utility.\n",
    "\n",
    "The reason I used dynamic programming here is:\n",
    "\n",
    "- The problem has an optimal substrucure because the global optimal solution(finding items that achieve highest value while satisfying the budget) is the sum of the optimal solutions to the subproblems and the global optimal solution will contain within it optimal solutions to the subproblems.\n",
    "- The problem has overlapping subproblems because the same subproblem will occur more often and that's why I used a table to store the subproblems and use it to solve other subproblems. (please note that because the application nature doesn't allow many number of items, there will be small number of overlapping subproblems).\n",
    "\n",
    "This problem is just like the Knapsack problem where the weight, the knapsack can carry, is the budget and the weights of the items is the cost here. And so while the knapsack algorithm looks for the highest value items that fit the knapsack, this algorithm works to find the highest priority values that fit the budget.\n",
    "\n",
    "\n",
    "The dynamic programming solution here will take a run time of O(n^2) to find the highest values and then O(n) to find the names of the items then a total runtime of O(n^2+n) = O(n^2) adding that to the time that the tree takes to insert values, the total runtime of the application in that section is then O(n^2 + nlogn) (note that there is no traversing here) the runtime is then O(n^2) with a space complexity of O(budget) (because the budget will be used to make a table to store the solutions to the subproblems as shown in the code below.\n"
   ]
  },
  {
   "cell_type": "code",
   "execution_count": 3,
   "metadata": {},
   "outputs": [
    {
     "data": {
      "text/plain": [
       "['desserts', 'Theme_park', 'Cinema']"
      ]
     },
     "execution_count": 3,
     "metadata": {},
     "output_type": "execute_result"
    }
   ],
   "source": [
    "def max_value(W, Nodes): #The dynamic programming algorithm that I used for the maximum values section\n",
    "    n = len(Nodes)\n",
    "    K = [[0 for w in range(W + 1)] \n",
    "            for i in range(n + 1)] #bulding a table to hold the solutions to the subprobelm in a\n",
    "    #bottom up manner\n",
    "    items = [] #this list will contain the items\n",
    "              \n",
    "    for i in range(n + 1): #using two for loops to solve the subproblems and get values of the items\n",
    "        for w in range(W + 1): \n",
    "            if i == 0 or w == 0: \n",
    "                K[i][w] = 0\n",
    "            elif Nodes[i - 1].cost <= w: #making sure that the cost of each item is less than my budget\n",
    "                K[i][w] = max(Nodes[i - 1].data  #comparing different subproblems to get the optimal subsolution\n",
    "                  + K[i - 1][w - Nodes[i - 1].cost], \n",
    "                               K[i - 1][w]) \n",
    "            else: \n",
    "                K[i][w] = K[i - 1][w] \n",
    "  \n",
    "     \n",
    "    last = K[n][W] #Using the result I got from above, I will get the items names (using their values)\n",
    "    w = W #setting w to my budget\n",
    "    for i in range(n, 0, -1): \n",
    "        if last <= 0: #if no item was included\n",
    "            break \n",
    "        if last == K[i - 1][w]: \n",
    "            continue\n",
    "        else: \n",
    "  \n",
    "             \n",
    "            items.append(Nodes[i - 1].name) #in this case, the item was included and then I add it to list\n",
    "              \n",
    "            \n",
    "            last = last - Nodes[i - 1].data #deducing its values and weight to find the names of the other items\n",
    "            w = w - Nodes[i - 1].cost\n",
    "    return items #return the final list that has the names of the items\n",
    "class Node:\n",
    "    def __init__(self, name, val, cost):\n",
    "        self.l_child = None\n",
    "        self.r_child = None\n",
    "        self.parent = None\n",
    "        self.data = val\n",
    "        self.name = name\n",
    "        self.cost = cost\n",
    "        \n",
    "Nodes = [Node(\"travelling\", 8, 100),Node(\"Cinema\", 7, 40),Node(\"Theme_park\", 7, 50),Node(\"desserts\", 2, 10) ] \n",
    "budget = 100\n",
    "max_value(budget, Nodes)"
   ]
  },
  {
   "cell_type": "markdown",
   "metadata": {},
   "source": [
    "### References:\n",
    "\n",
    "Geeksforgeeks Website: https://www.geeksforgeeks.org/"
   ]
  }
 ],
 "metadata": {
  "kernelspec": {
   "display_name": "Python 3",
   "language": "python",
   "name": "python3"
  },
  "language_info": {
   "codemirror_mode": {
    "name": "ipython",
    "version": 3
   },
   "file_extension": ".py",
   "mimetype": "text/x-python",
   "name": "python",
   "nbconvert_exporter": "python",
   "pygments_lexer": "ipython3",
   "version": "3.6.4"
  }
 },
 "nbformat": 4,
 "nbformat_minor": 2
}
