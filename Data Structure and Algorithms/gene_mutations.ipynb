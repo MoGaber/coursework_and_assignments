{
 "cells": [
  {
   "cell_type": "markdown",
   "metadata": {},
   "source": [
    "## CS110\n",
    "- Assignment 3"
   ]
  },
  {
   "cell_type": "code",
   "execution_count": 38,
   "metadata": {},
   "outputs": [],
   "source": [
    "#!pip install biopython   #These two lines install biopython and drawtree that are the two libraries that I will be using.\n",
    "#!pip install drawtree    #Please take the # signs out and run this cell if the libraries are not installed on your system\n"
   ]
  },
  {
   "cell_type": "code",
   "execution_count": 39,
   "metadata": {},
   "outputs": [],
   "source": [
    "from Bio import pairwise2\n",
    "\n",
    "from drawtree import draw_level_order\n"
   ]
  },
  {
   "cell_type": "markdown",
   "metadata": {},
   "source": [
    "## Write python code to give the length of the longest common subsequence for two strings."
   ]
  },
  {
   "cell_type": "code",
   "execution_count": 40,
   "metadata": {},
   "outputs": [],
   "source": [
    "def lcs(X , Y): #code to find the longest common subsequence of two strings X and Y using DP in a bottom up fashion\n",
    "    m = len(X)  #length of x\n",
    "    n = len(Y)  #Length of Y\n",
    "    c = []   \n",
    "    for i in range(m+1): #defining an array to contain the length for LCSs \n",
    "        c.append([0]*(n+1)) #  setting the array to zero initially to update through the for loops\n",
    "  \n",
    "    \n",
    "    for i in range(m+1): \n",
    "        for j in range(n+1): \n",
    "            if i == 0 or j == 0 : #starting from the bottom when the length is zero and so the LCS is zero\n",
    "                c[i][j] = 0\n",
    "            elif X[i-1] == Y[j-1]: #if Xi-1 = Yi-1 then we accumulate the value of c[i-1][j-1] by 1\n",
    "                c[i][j] = c[i-1][j-1]+1\n",
    "                \n",
    "            else:  # in the case when Xi-1 != Yi-1\n",
    "                \n",
    "                c[i][j] = max(c[i-1][j] , c[i][j-1]) #This can be viewed as taking the higher of either the top or \n",
    "                #left cell in a matrix\n",
    "  \n",
    "    return c[m][n]  #Returning the final value for the LCS of X and Y\n"
   ]
  },
  {
   "cell_type": "markdown",
   "metadata": {},
   "source": [
    "## Generate the table of the lengths of the longest common subsequences for every pair of strings."
   ]
  },
  {
   "cell_type": "code",
   "execution_count": 41,
   "metadata": {},
   "outputs": [],
   "source": [
    "\n",
    "S0 = 'CAGCGGGTGCGTAATTTGGAGAAGTTATTCTGCAACGAAATCAATCCTGTTTCGTTAGCTTACGGACTACGACGAGAGGGTACTTCCCTGATATAGTCAC'\n",
    "\n",
    "S1 = 'CAAGTCGGGCGTATTGGAGAATATTTAAATCGGAAGATCATGTTACTATGCGTTAGCTCACGGACTGAAGAGGATTCTCTCTTAATGCAA'\n",
    "\n",
    "S2 = 'CATGGGTGCGTCGATTTTGGCAGTAAAGTGGAATCGTCAGATATCAATCCTGTTTCGTAGAAAGGAGCTACCTAGAGAGGATTACTCTCACATAGTA'\n",
    "\n",
    "S3 = 'CAAGTCCGCGATAAATTGGAATATTTGTCAATCGGAATAGTCAACTTAGCTGGCGTTAGCTTTACGACTGACAGAGAGAAACCTGTCCATCACACA'\n",
    "\n",
    "S4 = 'CAAGTCCGGCGTAATTGGAGAATATTTTGCAATCGGAAGATCAATCTTGTTAGCGTTAGCTTACGACTGACGAGAGGGATACTCTCTCTAATACAA'\n",
    "\n",
    "S5 =  'CACGGGCTCCGCAATTTTGGGTCAAGTTGCATATCAGTCATCGACAATCAAACACTGTTTTGCGGTAGATAAGATACGACTGAGAGAGGACGTTCGCTCGAATATAGTTAC'\n",
    "\n",
    "S6 =  'CACGGGTCCGTCAATTTTGGAGTAAGTTGATATCGTCACGAAATCAATCCTGTTTCGGTAGTATAGGACTACGACGAGAGAGGACGTTCCTCTGATATAGTTAC'\n",
    "\n",
    "\n",
    "genes = [S0,S1,S2,S3,S4, S5, S6]\n",
    "\n",
    "table=[]\n",
    "\n",
    "for i in range(len(genes)):\n",
    "    table.append([])    #appending arrays to the table to act as rows and finally form a matrix\n",
    "    for j in range(len(genes)):\n",
    "        table[-1].append(lcs(genes[i],genes[j])) #appending the values to each row in the table\n",
    "\n",
    "\n"
   ]
  },
  {
   "cell_type": "code",
   "execution_count": 42,
   "metadata": {},
   "outputs": [
    {
     "data": {
      "text/html": [
       "<div>\n",
       "<style scoped>\n",
       "    .dataframe tbody tr th:only-of-type {\n",
       "        vertical-align: middle;\n",
       "    }\n",
       "\n",
       "    .dataframe tbody tr th {\n",
       "        vertical-align: top;\n",
       "    }\n",
       "\n",
       "    .dataframe thead th {\n",
       "        text-align: right;\n",
       "    }\n",
       "</style>\n",
       "<table border=\"1\" class=\"dataframe\">\n",
       "  <thead>\n",
       "    <tr style=\"text-align: right;\">\n",
       "      <th></th>\n",
       "      <th>0</th>\n",
       "      <th>1</th>\n",
       "      <th>2</th>\n",
       "      <th>3</th>\n",
       "      <th>4</th>\n",
       "      <th>5</th>\n",
       "      <th>6</th>\n",
       "    </tr>\n",
       "  </thead>\n",
       "  <tbody>\n",
       "    <tr>\n",
       "      <th>0</th>\n",
       "      <td>100</td>\n",
       "      <td>74</td>\n",
       "      <td>76</td>\n",
       "      <td>73</td>\n",
       "      <td>82</td>\n",
       "      <td>84</td>\n",
       "      <td>91</td>\n",
       "    </tr>\n",
       "    <tr>\n",
       "      <th>1</th>\n",
       "      <td>74</td>\n",
       "      <td>90</td>\n",
       "      <td>67</td>\n",
       "      <td>72</td>\n",
       "      <td>80</td>\n",
       "      <td>70</td>\n",
       "      <td>71</td>\n",
       "    </tr>\n",
       "    <tr>\n",
       "      <th>2</th>\n",
       "      <td>76</td>\n",
       "      <td>67</td>\n",
       "      <td>97</td>\n",
       "      <td>65</td>\n",
       "      <td>69</td>\n",
       "      <td>81</td>\n",
       "      <td>84</td>\n",
       "    </tr>\n",
       "    <tr>\n",
       "      <th>3</th>\n",
       "      <td>73</td>\n",
       "      <td>72</td>\n",
       "      <td>65</td>\n",
       "      <td>96</td>\n",
       "      <td>81</td>\n",
       "      <td>71</td>\n",
       "      <td>69</td>\n",
       "    </tr>\n",
       "    <tr>\n",
       "      <th>4</th>\n",
       "      <td>82</td>\n",
       "      <td>80</td>\n",
       "      <td>69</td>\n",
       "      <td>81</td>\n",
       "      <td>96</td>\n",
       "      <td>74</td>\n",
       "      <td>75</td>\n",
       "    </tr>\n",
       "    <tr>\n",
       "      <th>5</th>\n",
       "      <td>84</td>\n",
       "      <td>70</td>\n",
       "      <td>81</td>\n",
       "      <td>71</td>\n",
       "      <td>74</td>\n",
       "      <td>111</td>\n",
       "      <td>97</td>\n",
       "    </tr>\n",
       "    <tr>\n",
       "      <th>6</th>\n",
       "      <td>91</td>\n",
       "      <td>71</td>\n",
       "      <td>84</td>\n",
       "      <td>69</td>\n",
       "      <td>75</td>\n",
       "      <td>97</td>\n",
       "      <td>104</td>\n",
       "    </tr>\n",
       "  </tbody>\n",
       "</table>\n",
       "</div>"
      ],
      "text/plain": [
       "     0   1   2   3   4    5    6\n",
       "0  100  74  76  73  82   84   91\n",
       "1   74  90  67  72  80   70   71\n",
       "2   76  67  97  65  69   81   84\n",
       "3   73  72  65  96  81   71   69\n",
       "4   82  80  69  81  96   74   75\n",
       "5   84  70  81  71  74  111   97\n",
       "6   91  71  84  69  75   97  104"
      ]
     },
     "execution_count": 42,
     "metadata": {},
     "output_type": "execute_result"
    }
   ],
   "source": [
    "import pandas as pd\n",
    "\n",
    "df = pd.DataFrame(table)\n",
    "df\n",
    "\n"
   ]
  },
  {
   "cell_type": "markdown",
   "metadata": {},
   "source": [
    "## Manually examine the table, and infer the relationships between strings."
   ]
  },
  {
   "cell_type": "code",
   "execution_count": 43,
   "metadata": {},
   "outputs": [
    {
     "data": {
      "image/png": "[encoded data removed]",
      "text/plain": [
       "<IPython.core.display.Image object>"
      ]
     },
     "execution_count": 43,
     "metadata": {},
     "output_type": "execute_result"
    }
   ],
   "source": [
    "from IPython.display import Image\n",
    "Image(\"table.PNG\")\n",
    "\n",
    "#Note the red values are the length of the string itself. The green values are the maximum value in the row"
   ]
  },
  {
   "cell_type": "markdown",
   "metadata": {},
   "source": [
    "In order to infer the relationships between the strings, I should use the LCS of every two strings as the measure of how close they are to eachother so that the greater the value of the LCS the more likely the pair to be related (as a parent and a child). So in order to find the most likely parent or child for every string in the table, I will take the maximum value of each row and that value will indicate which string is closest to which. For example, for the row of string 0 the maximum value is 91 and so the most likely parent or child of 0 is 6 so I will save 0 and 6 in an array:\n",
    "\n",
    "Array of Relationships = $[[0,6]]$\n",
    "\n",
    "Then for the row of string 1, the maximum value in the row is 80 so the most likely parent or child of 1 is 4\n",
    "\n",
    "Array of Relationships = $[[0,6], [1,4]]$\n",
    "\n",
    "Repeating the above operation for all rows, I get:\n",
    "\n",
    "Array of Relationships = $[[0,6], [1,4], [2,6], [3,4],[4,0],[5,6], [6,5]]$\n",
    "\n",
    "Because $[5,6]$ and $[6,5]$ are the same I end up with the following list of relationships:\n",
    "\n",
    "$[[0,6], [1,4], [2,6], [3,4],[4,0],[5,6]$"
   ]
  },
  {
   "cell_type": "markdown",
   "metadata": {},
   "source": [
    "Now knowing that we have seven nodes, the tree can be like the following:"
   ]
  },
  {
   "cell_type": "raw",
   "metadata": {},
   "source": [
    "         a\n",
    "      /     \\ \n",
    "     b       c \n",
    "    /\\       / \\\n",
    "   /  \\     /   \\\n",
    "  d   e    f    g "
   ]
  },
  {
   "cell_type": "markdown",
   "metadata": {},
   "source": [
    "From the tree I noted that in this specifc case of binary trees, the root 'a' will have only two relationships (one with b and one with c)\n",
    "\n",
    "'b' will have three relationships (one with parent 'a' and two with children 'd' and 'e'\n",
    "\n",
    "'c' will have three relationships (one with parent 'a' and two with children 'f' and 'g')\n",
    "\n",
    "Then finally the grandchildren will each have one relationship with their parent.\n",
    "\n",
    "Then if we examine the array of relationships we made, we find that:\n",
    "- 0 has only two relationships, one with 6 and one with 4. So 0 is the root 'a'\n",
    "- 6 has three relationships, with 0, 4 and 5. So 6 can be either the node 'b' or 'c'\n",
    "- 4 has three relationships, with 1, 3, and 0. So 4 can be either the node 'b' or 'c'\n",
    "\n",
    "Then so far the tree is:"
   ]
  },
  {
   "cell_type": "raw",
   "metadata": {},
   "source": [
    "         0\n",
    "      /     \\ \n",
    "     6       4 \n",
    "    /\\       / \\\n",
    "   /  \\     /   \\\n",
    "  d   e    f    g "
   ]
  },
  {
   "cell_type": "markdown",
   "metadata": {},
   "source": [
    "Then from the array of relationship we have and from the tree, we can deduce that:\n",
    "- d and e can be either 5 or 2\n",
    "- f and g can be be either 1 or 3\n",
    "\n",
    "(Because these numbers are related to 6 and 4)\n",
    "\n",
    "Then we end up that the most probable tree is the following one:"
   ]
  },
  {
   "cell_type": "raw",
   "metadata": {},
   "source": [
    "         0\n",
    "      /     \\ \n",
    "     6       4 \n",
    "    /\\       / \\\n",
    "   /  \\     /   \\\n",
    "  5   2    1    3 "
   ]
  },
  {
   "cell_type": "markdown",
   "metadata": {},
   "source": [
    "Please note that there might be more possible arrangments of trees but the obtained one is most probable depending on having the maximum value of LCSs"
   ]
  },
  {
   "cell_type": "markdown",
   "metadata": {},
   "source": [
    "## Can you devise an algorithm in the general case which might be able to infer such a tree of relationships? Give any strengths or weaknesses of your suggested algorithm."
   ]
  },
  {
   "cell_type": "raw",
   "metadata": {},
   "source": [
    "From the above method, I can devise an algorithm to find a tree of relationships of seven strings as the following:\n",
    "\n",
    "\"The algorithm takes a matrix which is the table of LCS that I used manually above and it takes the number of strings n\"\n",
    "\n",
    "Find_Tree(matrix, n):\n",
    "\n",
    "Let table be an empty array [] \n",
    "\n",
    "for row in matrix :       \n",
    "    for column in matrix:\n",
    "        if column.value is maximum and [column, row] not in table: # to prevent duplicates like the [5,6] and [6,5] above  \n",
    "            store [row, column] in table\n",
    "            \n",
    "let tree_structure be = [2, 3, 3, 1, 1, 1, 1]  #2 is the number of relationships the root has and the two 3s are the number of relationships its children have and the 1s for grandchildren at the end of the tree\n",
    "\n",
    "for value in table:\n",
    "    if value.count = 2:\n",
    "        let tree_structure be [value, 3, 3, 1, 1, 1, 1]\n",
    "    elif value.count = 3:\n",
    "        let tree_structure be [2, value, 3, 1, 1, 1, 1] or [2, 3, value, 1, 1, 1, 1]\n",
    "        \n",
    "\n",
    "for subtable in table:\n",
    "    for value in subtable:\n",
    "        if value not in tree_structure and value is in subtable with tree_structure[1]:\n",
    "            tree_structure[3] or tree_structure[4] = value\n",
    "        elif value not in tree_structure and value is in subtable with tree_structure[2]:\n",
    "            tree_structure[5] or tree_structure[6] = value\n",
    "            \n",
    "\n",
    "\n",
    "This algorithm when called with the matrix that I generated for the seven strings will return the following tree structure:\n",
    "\n",
    "[0, 6, 4, 2, 5, 3, 1]\n",
    "\n",
    "The following code implements this algorithm:"
   ]
  },
  {
   "cell_type": "code",
   "execution_count": 44,
   "metadata": {},
   "outputs": [
    {
     "name": "stdout",
     "output_type": "stream",
     "text": [
      "The most probable tree is the following one:\n",
      "[0, 6, 4, 2, 5, 3, 1]\n",
      "      0\n",
      "     / \\\n",
      "    /   \\\n",
      "   /     \\\n",
      "  6       4\n",
      " / \\     / \\\n",
      "2   5   3   1\n"
     ]
    }
   ],
   "source": [
    "def tree(matrix): #algorithm that finds the tree of relationships in the case of seven strings\n",
    "    tree_relation = [2,3,3,1,1,1,1] #That represents the number of relations each node should have. The root should have 2\n",
    "    #relationships, then the children of the nodes each should have 3, and finall each grandchild should have 1 \n",
    "    vertices= [] #Array to contain the arrays of all possible relationships in the form of [[a,b],[c,d]]\n",
    "    for i in range(len(matrix)): #finding the array of relationships\n",
    "        x = 0   #using x to find the maximum\n",
    "        for j in range(len(matrix)):\n",
    "            \n",
    "            if matrix[i][j] >x and i!=j:\n",
    "                x = matrix[i][j] #updating the x value with the higher value\n",
    "                ind = j\n",
    "        if [ind, i] not in vertices: #to make sure not to include duplicates\n",
    "            vertices.append([i,ind])\n",
    "  \n",
    "                \n",
    "    \n",
    "    extended_list = [] #Here because the vertices are included in the form [[a,b],[c,d]] I will extend that list to the form\n",
    "    #of [a,b,c,d] to make it easier to count the values inside\n",
    "    [ extended_list.extend(el) for el in vertices] \n",
    "    for i in range(len(extended_list)):\n",
    "        m = extended_list.count(extended_list[i]) #counting each string to match with the number of relationships in the tree\n",
    "        if m in tree_relation and m!=1 : #avoiding 1 because its the grandchild, will make a separate step for it\n",
    "            tree_relation[tree_relation.index(m)] = extended_list[i] #Now matching the count of a string with number of\n",
    "            #relations in the tree and replacing the string with that number in the tree_relation table\n",
    "      \n",
    "    #the above code should add the root and its two children to the tree\n",
    "    #the code below will add the grandchildren\n",
    "    for i in range(len(vertices)): \n",
    "        if tree_relation[1] in vertices[i]: #looking for the child of each parent\n",
    "            for j in vertices[i]:\n",
    "                if j != tree_relation[0] and j != tree_relation[1]: #making sure that the value is not the root or the parent\n",
    "                    #itself\n",
    "                    if tree_relation[3] ==1: #Replace only if the grandchild is still not updated in the tree_relation\n",
    "                        #which means it still has the value 1\n",
    "                    \n",
    "                        tree_relation[3] = j\n",
    "                    else: #Adding the second grandchild\n",
    "                        tree_relation[4] = j\n",
    "                        \n",
    "        elif tree_relation[2] in vertices[i]: #this will do just the same but for the second parent\n",
    "            for j in vertices[i]:\n",
    "                if j!= tree_relation[0] and j != tree_relation[2]:\n",
    "                    if tree_relation[5] ==1: \n",
    "                        tree_relation[5] = j  #Adding the other two grandchildren to the tree_relation\n",
    "                    else:\n",
    "                        tree_relation[6] = j\n",
    "                    \n",
    "            \n",
    "    return tree_relation #Returning the final tree structure\n",
    "                   \n",
    "    \n",
    "s = tree(table) \n",
    "print(\"The most probable tree is the following one:\")\n",
    "print(s)\n",
    "draw_level_order(str(s)) #drawing the tree \n",
    "\n",
    "\n"
   ]
  },
  {
   "cell_type": "raw",
   "metadata": {},
   "source": [
    "The above algorithm will work just fine to identifiy the relationships tree of seven strings (\"genes\") however if we need to work on more than seven strings, the algorithm needs to be edited as the following:\n",
    "\n",
    "The algorithm is very similar to the above algorithm however, it will be using a dynamic programming approach to find the tree of relationships of strings in the general case. The algorithm will take as input a table of the LCSs of every pair of strings and then similar to what we did above it will look for the maxumum values in each row and generate a table of the most likely relationship for each string(based on LCS). Then the algorithm will examine that table and put the string that has two relationships (found on the table twice) as the root because the root is the only string in the tree that has two relationships (two children and no parent). Then, we will be left with subproblems of finding the children that have three relationships until we reach the last level of the tree where grandchildren have only one relationship. So to do that, we will eaxmine the table and find the strings with three relationships and one of these relationships is with the parent (which is the root in the first iteration and then it will keep getting updated in each iteration). And then we keep doing that until we end up with strings that have only one relationship with their parent, so we insert them to their parent in the tree.\n",
    "\n",
    "\n",
    "\n",
    "The algorithm should work as the following:\n",
    "\n",
    "Tree_Dyn_Prog(matrix):\n",
    "    Let table be an empty array []\n",
    "    Let tree be an empty array []\n",
    "    for row in matrix :\n",
    "        for column in matrix:\n",
    "            if column.value is maximum and [column, row] not in table:  #to prevent duplicates like the [5,6] and [6,5]  \n",
    "                store [row, column] in table\n",
    "                \n",
    "    for subtable in table: #the two for loops will be used to find the root\n",
    "        for string in subtable:\n",
    "            if string.count = 2\n",
    "            put root = string\n",
    "            add root to tree\n",
    "        \n",
    "    #The folloging two for loops will find the children with 3 relationships until we reach the grandchildren\n",
    "    #with 1 relationship. it works in a dynamic programming bottom by solving subprobs based on previous subprobs.\n",
    "    \n",
    "    let Parent = root  \n",
    "    for subtable in table:\n",
    "        for string in subtable:\n",
    "            if string.count = 3: # meaning that the string has three relationships\n",
    "                if string in same subtable as Parent:\n",
    "                    add string to tree\n",
    "                    Parent = string\n",
    "                    repeat until all strings with count 3 are added to tree\n",
    "                \n",
    "    add all strings with count 1 and in same subtable as parent to tree\n",
    "    \n",
    "    \n",
    "\n",
    "\n",
    "The above tree uses the dynamic programming algorimth for two reasons:\n",
    "\n",
    "1- It has an optimal substructure:\n",
    "\n",
    "The overall optimal solution is obtained from the optimal solution of the subproblems. The overall optimal solution here is obtaining a tree with maximum sum of LCSs and the algorimth does that by first finding the maximum combinations of LCS for all the strings and then solving subproblems of finding the chidlren of the parents and inserting them to the tree until we end up with the full tree of relationships with maximum LCSs. \n",
    "        \n",
    "2- Overlapping solutions:\n",
    "The problem has overlapping solutions because some of the subproblems will occure twice and for that reason the algorimth has a table tree that stores the parents of each subtree and use it to solve the other subproblems. \n",
    "\n",
    "\n",
    "The two properties mentioned above qualify the algorithm to be a dynamic programming solution to find the tree realtionships of any number of strings. Without using that solution, we would end up with a solution that take exponential run time.\n",
    "        \n",
    "        \n"
   ]
  },
  {
   "cell_type": "code",
   "execution_count": 45,
   "metadata": {},
   "outputs": [
    {
     "name": "stdout",
     "output_type": "stream",
     "text": [
      "The most probable tree is the following one:\n",
      "[0, 6, 4, 2, 5, 1, 3]\n",
      "      0\n",
      "     / \\\n",
      "    /   \\\n",
      "   /     \\\n",
      "  6       4\n",
      " / \\     / \\\n",
      "2   5   1   3\n"
     ]
    }
   ],
   "source": [
    "def tree_general(matrix):\n",
    "    dictt = {} #I will use this dictionary to store the number of relationships for each string and its children/parent\n",
    "    tree_structure = [] #tree structure will be filled here\n",
    "    vertices= [] #this array will have the relationships between the strings\n",
    "    \n",
    "    \n",
    "    for i in range(len(matrix)): #Filling vertices with the relationships with the following codes\n",
    "        x = 0   \n",
    "        for j in range(len(matrix)):\n",
    "            \n",
    "            if matrix[i][j] >x and i!=j: \n",
    "                x = matrix[i][j]\n",
    "                ind = j\n",
    "        if [ind,i] not in vertices:\n",
    "            \n",
    "            vertices.append([i,ind]) \n",
    "\n",
    "\n",
    "    extended_list = [] #extending the list to count the number of relationships and store it in the dictionary\n",
    "    [ extended_list.extend(el) for el in vertices]\n",
    "    for i in extended_list:\n",
    "        if i not in dictt:\n",
    "            dictt[i] = [extended_list.count(i)] #storing strings along with the number of relationships for each one\n",
    "        \n",
    "\n",
    "    for i in range(len(vertices)): #This for loop will store the children/parent of each string in the dictionary\n",
    "        if vertices[i][1] not in dictt[vertices[i][0]][1:]: \n",
    "            dictt[vertices[i][0]].append(vertices[i][1])\n",
    "\n",
    "        if vertices[i][0] not in dictt[vertices[i][1]][1:]: #I added the [1:] at the end to avoid confusion with the number of\n",
    "            #relationships that is already there. \n",
    "            dictt[vertices[i][1]].append(vertices[i][0])\n",
    "    \n",
    "    for key in dictt:  #Finding the root and adding it to the tree\n",
    "        if dictt[key][0] == 2:\n",
    "            tree_structure.append(key)\n",
    "            \n",
    "    #after finding the root, the following code will solve the subproblems by appending the children of each parent to the tree\n",
    "    \n",
    "    k = 0 #I start with one parent and then append it children to the tree which get appened just after its sibling and that \n",
    "    #ensure the structure of the binary tree\n",
    "    \n",
    "    while len(tree_structure) < len(matrix): \n",
    "        parent = tree_structure[k] #updating the parent ever iteration\n",
    "        for i in dictt[parent][1:]: #adding the children of the parent to the tree, again [1:] to avoid the number of \n",
    "            #relationships that is placed in the beggining of every array for the dictionary's keys\n",
    "            if i != parent and i not in tree_structure :\n",
    "                tree_structure.append(i)\n",
    "        k+=1\n",
    "\n",
    "    return tree_structure\n",
    "\n",
    "          \n",
    "    \n",
    "s = tree_general(table) \n",
    "print(\"The most probable tree is the following one:\")\n",
    "print(s)\n",
    "draw_level_order(str(s)) #drawing the tree \n",
    "\n",
    "    \n",
    "\n",
    "    \n",
    "#I made this algorithm based on the assumption that I will always find the root in the matrix by looking for the value that is\n",
    "#found twice. I'm not sure if that will always be the case but the algorithm will always work as long as the vertices out of the\n",
    "#matrix will have a string that has maximum LCS with two other strings only.\n",
    "\n",
    "#Also, after I wrote that code, I discovered that I will need the number of relationships only once to find the root and then\n",
    "#I will just add the children to their parents without worrying about how many relationships they have. So I don't really need\n",
    "#to use the number of relationships everytime and I can not store all of it from the begining to save space, also I mentioned\n",
    "#in the psuedocode that I will need a separate step for the strings with one relationship but now I realized that I don't \n",
    "#actually need that as all the children can be added to their parents.\n",
    "\n",
    "#the complexity of this dynamic programming code is O(N^2) considering that the matrix is given as an input."
   ]
  },
  {
   "cell_type": "markdown",
   "metadata": {},
   "source": [
    "## How would you estimate the probabilities of mutation, insertions and deletions? (There might not be enough data to give meaningful estimates, but at least have a clear idea of the approach.)"
   ]
  },
  {
   "cell_type": "markdown",
   "metadata": {},
   "source": [
    "In order to estimate these probabilities, I need to know two things:\n",
    "- Numbers of insertions, deletions, replacements in each string\n",
    "- Number of probabilities that were generated for each string\n",
    "\n",
    "If I know these two, then the probability of each operation will be the number of operations/total number of probabilities.\n",
    "\n",
    "I will assume that the way that DNA works is that it takes a string and for each character, it generates a probability to either replace or delete that character or add another next to it. So the algorithm I'm assuming works as follows:\n",
    "\n",
    "For each character in string1:\n",
    "-    Generate probability\n",
    "-    if probability = Insertion_probability, then add a new char\n",
    "-    if probability = Deletion_probability, then delete that character\n",
    "-    if probability = Replacement_probability, then replace that character with a new character\n",
    "    \n",
    "So from my asumption, the number of probabilities that will be generated for one string is the length of the string. \n",
    "\n",
    "Then if I can count the number of insertions, deletions, and remplacements in each string, I will divide these numbers by the length of the string to get the probability. Then to get more accurate result, I would do the same to every parent and its child then take the average of the probabilities.\n",
    "\n",
    "Now the only thing missing is the number of operations implemented on each string. The operations can either be insertions, deletions, replacements or no change at all. Due to the big length of the strings, it might be a little bit difficult to find out the exact number of each operations. A good approach I can think of is using the edit distance function to align two strings and count the number of operations done to each one. A similar and simpler approach that I will use is using the biopython library that takes two DNA genes and then adds spaces to make the two genes length the same and then creates a score depending on how many characters in the strings match or dismatch. I will use an algorithm that will provide an approximate number of operations as the following:\n",
    "\n",
    "- Use Biopython pairwise function to generate alignment between a parent and its child\n",
    "- Go through the two strings and do the following assumptions:\n",
    "    - if you find a space in the parent string then that means a character was inserted: insertions+=1\n",
    "    - if you find a space in the child then it means that a character was deleted: Deletions +=1\n",
    "    - If you find two characters in the same position that don't match, then that means character was replaced: replacements+=1\n",
    "    \n",
    "The reasoning behind the above assumption is that if I find a space in the parent string, then the child has a character that parent doesn't have and that means insertions happend. Similarly for deletion, if there is a space in the child then a character must have been deleted. Replacement will happen if two characters don't match. This is not always accurate and that's why this algorithm will provide an approximate number for each operation and not an exact one because for example sometimes a dismatch between two characters doesn't mean a replacement but a deletion and then insertion. Also, finding a space in either the parent of the child doesn't always mean an insertion or deletion because there might be many different alignments between the two strings. However, in the following code, I used biopython pairwise to find the alignment with the most similarity to get a rough estimation."
   ]
  },
  {
   "cell_type": "code",
   "execution_count": 46,
   "metadata": {},
   "outputs": [
    {
     "name": "stdout",
     "output_type": "stream",
     "text": [
      "Probability of Insertions is approximately: 7%\n",
      "Probability of Deletions is approximately: 8%\n",
      "Probability of Replacements is approximately: 6%\n"
     ]
    }
   ],
   "source": [
    "def probability(S1, S2):\n",
    "    alignments = pairwise2.align.globalms(S1, S2,1,-1,-1,-1) #The numbers I added are used by biopython to generate a score of\n",
    "    #similarity (e.g. 1 for match, -1 for dismatch, -1 for space, -1 for more spaces) but because I used the LCS as the measure\n",
    "    #of similarity, I will not need the score of biopython but I just added it to get the alignment and estimate the number of\n",
    "    #operations\n",
    "\n",
    "    n_insertions = 0\n",
    "    n_deletions = 0\n",
    "    n_replacements = 0\n",
    "    for i in range(len(alignments[0][0])):\n",
    "        if alignments[0][0][i] == \"-\": #if there is a space in the parent, then insertion happened\n",
    "            n_insertions+=1\n",
    "        elif alignments[0][1][i] == \"-\": #if there is a space in the child, then deletion happened\n",
    "            n_deletions+=1\n",
    "\n",
    "        elif alignments[0][0][i] !=  alignments[0][1][i]: #if there is a dismatch, then replacement happened\n",
    "            n_replacements +=1\n",
    "\n",
    "\n",
    "        \n",
    "    return n_insertions/len(S1),  n_deletions/len(S1), n_replacements/len(S1)  #returning the probability of each operation   \n",
    "\n",
    "\n",
    "#the following will generate the probaility for each pair. Note that I didn't choose random pairs but those with parent-child \n",
    "#relationship\n",
    "\n",
    "prob1 = probability(S0, S6)\n",
    "prob2 = probability(S0, S4)\n",
    "prob3 = probability(S6, S5)\n",
    "prob4 = probability(S6, S2)\n",
    "prob5 = probability(S4, S1)\n",
    "prob6 = probability(S4, S3)\n",
    "\n",
    "Prob_table = [prob1,prob2,prob3,prob4,prob5,prob6]\n",
    "\n",
    "#will use the following to get the average probability\n",
    "Insertions_prob=0\n",
    "Deletions_prob = 0\n",
    "Replacements_prob = 0\n",
    "\n",
    "for i in Prob_table:\n",
    "    Insertions_prob+= i[0]\n",
    "    Deletions_prob+= i[1]\n",
    "    Replacements_prob+= i [2]\n",
    "    \n",
    "print(\"Probability of Insertions is approximately:\", str(int((Insertions_prob/6)*100))+\"%\")\n",
    "print(\"Probability of Deletions is approximately:\", str(int((Deletions_prob/6)*100))+\"%\")\n",
    "print(\"Probability of Replacements is approximately:\", str(int((Replacements_prob/6)*100))+\"%\")"
   ]
  },
  {
   "cell_type": "markdown",
   "metadata": {},
   "source": [
    "## Describe the complexity of your solution to identify related “genes” for this assignment. (Let M be the length of a gene, and N be the number of genes.)"
   ]
  },
  {
   "cell_type": "markdown",
   "metadata": {},
   "source": [
    "For my solution, I first used an algorithm to generate the LCS of any two strings, the algorithm run time complexity is O(M1*M2) where M1 is the length of the first string and the M2 is the length of the second string, Because we have different strings that have very similar length then we can take the length M which is the maximum length of the strings and take it as an upper bound. \n",
    "Then the runtime and space complexity of my LCS algorithm is O($M^{2}$)\n",
    "\n",
    "I then used the algorithm to generate a table of the LCSs, I generated the table by calculating the LCS of every pair of genes which took a run time complexity of O($N^{2}*M^{2}$) (Two for loops of length N that used LCS $N^{2}$ times) and a space complexity of O($N^{2}$) (that's the memory for the N*N matrix)\n",
    "\n",
    "where N is the number of strings and M is the length of the genes (maximum length as I assumed).\n",
    "\n",
    "\n",
    "Finally, I used the table of LCS to find the tree which took a run time complexity of O( $C*N^{2}$) where C is a constant and that is because the algorithm required using two for loops several times(C times). The space complexity is O(Constant* N) (to store the tree structure and the relationship values)\n",
    "\n",
    "So the complexity of my solution to identify the related genes is then O($N^{2}*M^{2}$ + $C*N^{2}$) = O($N^{2}*M^{2}$) and the space complexity is O($N^{2}$ +C*N) = O($N^{2}$)"
   ]
  },
  {
   "cell_type": "markdown",
   "metadata": {},
   "source": [
    "## References\n",
    "\n",
    "- Geegsforgeeks Website retrieved from https://www.geeksforgeeks.org\n"
   ]
  },
  {
   "cell_type": "markdown",
   "metadata": {},
   "source": [
    "## Appendix\n",
    "- #deduction: I used deduction to deduce the relationships between the strings from the information given\n",
    "- #composition: I used a clear and precise style to make my assignment clear and easy to understand\n",
    "- #algorithms: I devised efficient algorithms and wrote codes with detailed comments"
   ]
  }
 ],
 "metadata": {
  "kernelspec": {
   "display_name": "Python 3",
   "language": "python",
   "name": "python3"
  },
  "language_info": {
   "codemirror_mode": {
    "name": "ipython",
    "version": 3
   },
   "file_extension": ".py",
   "mimetype": "text/x-python",
   "name": "python",
   "nbconvert_exporter": "python",
   "pygments_lexer": "ipython3",
   "version": "3.6.4"
  }
 },
 "nbformat": 4,
 "nbformat_minor": 1
}
