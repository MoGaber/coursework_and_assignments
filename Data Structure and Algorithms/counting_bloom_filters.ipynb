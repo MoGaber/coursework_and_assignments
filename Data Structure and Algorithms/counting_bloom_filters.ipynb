{
 "cells": [
  {
   "cell_type": "markdown",
   "metadata": {
    "collapsed": false
   },
   "source": [
    "## Introduction\n",
    "\n",
    "Think of anytime you decided to create a new account on a specific website. When you choose your username, sometimes the website says that the username is already taken and asks you to find another username. We can easily guess that the website searched for the username that you entered in the username database of the website. This is actually true and that can be done by any search algorithm like linear search or binary search, but using these algorithms would actually take big space and long time especially if the website has a large database. Then how does the website do it that fast?\n",
    "\n",
    "The answer to that question is Bloom Filters. Bloom filters is a probabilistic data structure that allows you to check whether a specific element exists in a set. Bloom Filters are known to be a space-efficient data structure and at the same time a very fast one in terms of lookups and inserts. To explain why Bloom filters is that good, I will explain how it works:\n",
    "\n",
    "When we try to insert an element x in a set using bloom filter, bloom filter generates a bit array of n bits where each bit equals zero and then uses k hash functions in order to generate indices for the element x and then sets the value of these indices to 1. So when we want to search for that element in the list, bloom filter uses the same hash functions again to generate the indices for x and then checks the values of these indices, if all of them equal 1 then the element is in the list, if any value is equal to zero then the element is not in the list.\n",
    "\n",
    "We can notice that because Bloom Filters use hash functions, then collision is possible which means that sometimes the hash functions will generate indices for one element and these indices might also belong to other elements which will lead to a false positive if the element we are searching for is not actually in the list. \n",
    "For example, if we have a bloom filter that uses two hash functions and has two elements stored in it. The two elements are occupying the indices 3, 7, 9, 10 which means that the values of these indices in the array are 1 as shown:\n",
    "\n",
    "\n",
    "Index Value: \n",
    "0\n",
    "0\n",
    "1\n",
    "0\n",
    "0\n",
    "0\n",
    "1\n",
    "0\n",
    "1\n",
    "1\n",
    "\n",
    "\n",
    "\n",
    " Then if we search for any element x that is not stored in the array and has indices 3, 10 then the bloom filter will find that the values of these indices are 1 and then will return a false positive.\n",
    "\n",
    "\n",
    "One important property of bloom filters is that it doesn’t allow deletion which means that once an element is inserted, it’s indices values will always remain 1 and that means that bloom filters will never return false negative.\n",
    "From what we said so far, we can now tell that bloom filters is very space efficient because no matter how large a set of elements we want to store, bloom filter will always save them as bits of arrays where each element in the set is represented by bits only and so the space complexity of the bloom filters is a function of the number of bits in the bits array which then should be O(n) where n = number of bits in the bits array.\n",
    "\n",
    "Also, the run time of bloom filters when it searches for elements in a set is relatively fast, the bloom filter will go through all the indices of one element to check their values, and because the number of indices generated for one element depend on the number of hash functions used (each one hash function generates one index) then the run time complexity of the search operation in the bloom filter is O(k) where k is the number of hash functions used.\n",
    "\n",
    "The two advantages mentioned, allow bloom filters to be used in many applications where the space efficiency is very important and a false positive results might be tolerated.\n",
    "\n",
    "Example Applications:\n",
    "1- the website scenario that I mentioned above, because the website might have large number of usernames, space efficiency and run time is very important, and having a rare false positive is not a big deal because it will just cost the user few seconds to find a new username.\n",
    "\n",
    "2 - Another similar application is detecting forbidden passwords. Some websites have a list of forbidden passwords that user can’t use. So whenever a password is entered, the website would use bloom filter to check if it’s not included in the forbidden passwords list\n",
    "\n",
    "3- spell Checkers. English dictionary has a large number of words. Storing all of them in a list and searching for a specific word would be very costly in terms of space, that’s why bloom filters are used to detect whether a word is spelled correctly or not.\n",
    "\n",
    "\n",
    "\n",
    "As we said, the biggest disadvantage of bloom filters is the false positive probability, that probability can be controlled and decreased, in order to understand how, let’s calculate that probability:\n",
    "\n",
    "When we start inserting elements in the bloom filters, the probability for any bit in the array to be set to 1 is 1/n when the hash functions are independent and uniformly distributed. Then the probability for any bit to remain zero is 1- 1/n. And as we keep inserting, the probability of any bit to remain zero is then $(1-1/n)^{ks}$ where k is the number of hash functions and s is the total number of elements to be stored and ks is the number of indices that will be generated by hash functions.\n",
    "\n",
    "Then the probability of a bit in the array to equal one is $1-(1-1/n)^{ks}$\n",
    "\n",
    "n= number of bits in the bloom filter\n",
    "k = number of hash functions\n",
    "s = number of objects that we want to insert.\n",
    "\n",
    "Now to simplify the equation, we can consider the fact that e^x is an upper bound for the function 1+x,  then if we take the value (1-1/n) to be 1+x by considering x = -1/n then we can say that 1+x = (1-1/n) has upper bound $e^x$ = $e^{-1/n}$,  that concludes to:\n",
    "\n",
    "$1-e^{-ks/n}$ as an upper bound for $1-(1-1/n)^{ks}$ \n",
    "\n",
    "\n",
    "We can simplify that upper bound by taking n/s = b where b is the number of bits per objects\n",
    "\n",
    "So the upper bound of getting a positive number is $1-e^{-k/b}$\n",
    "\n",
    "Which means the probability of getting a positive number is less or equal to $1-e^{-k/b}$\n",
    "\n",
    "\n",
    "Now the most important part that we are interested in is the probability of getting a false positive. In order to get a false positive from searching for an element x, all the indices values of that element must be one, and because that element has k indices (where k is the number of hash functions) then the probability to get a false positive is $(1-e^{-k/b})^k$\n",
    "\n",
    "From that equation, we can notice that the error rate can be decreased by increasing the number of bits n in the bits array. Also, as we mentioned that more than one hash function should be used, we can optimize the equation to find the optimal number of hash functions using calculus which will lead to k = ln(2) * (n/s)  where k is the optimal number of hash functions, n is the number of bits in the bits array and s is the total number of elements stored. Then adding these values to the rate equation we get that the false positive rate= .5^(ln(2)*b)  "
   ]
  },
  {
   "cell_type": "markdown",
   "metadata": {
    "collapsed": false
   },
   "source": [
    "## Implementation\n",
    "In order to explain how bloom filter works, please find the application attached with this assignment. I built this application so that students can visualize how bloom filter works and interact more actively with it. Try to enter different words that seem similar and see how the color changes, look up different words and see how the false probability change as you insert more words"
   ]
  },
  {
   "cell_type": "markdown",
   "metadata": {
    "collapsed": false
   },
   "source": [
    "Using the same algorithm in the application, I will do this implementation for the sake of the assignment.\n",
    "In the following implementation, bloom filters checks whether a user generated ID is within the stored IDs or not.\n",
    "The bloom filter takes as input the bit array size n and the number of hash functions. In this implementation, n value will be assumed and k will be calculated from the equation k = Ln(2) * n/s where s is the number of elements stored in the bloom filter."
   ]
  },
  {
   "cell_type": "code",
   "execution_count": 1,
   "metadata": {
    "collapsed": false
   },
   "outputs": [
    {
     "name": "stdout",
     "output_type": "stream",
     "text": [
      "('\"4O2U7JHHMZ\"', 'is in the bloom filter')\n",
      "('\"ZIN9TVQ0SI\"', 'is in the bloom filter')\n",
      "('\"SR151PJ7JL\"', 'is in the bloom filter')\n",
      "('\"6RXJ0NWMOD\"', 'is in the bloom filter')\n",
      "('\"NT5H4Q9JRE\"', 'is not in the bloom filter')\n",
      "('\"RLENML2ENL\"', 'Returned a false positive')\n",
      "('\"QBWVDASMUB\"', 'is not in the bloom filter')\n",
      "('\"4KE85X2VNP\"', 'is not in the bloom filter')\n",
      "('\"BJAC3Q5RMF\"', 'is in the bloom filter')\n",
      "('\"LAU5A0TU2Y\"', 'is in the bloom filter')\n",
      "('\"MQT8DJ06A9\"', 'is not in the bloom filter')\n",
      "('\"MVVC3EDHHT\"', 'is in the bloom filter')\n",
      "('\"WRF9HNWD0N\"', 'is not in the bloom filter')\n",
      "('\"CRQID4F4FP\"', 'is in the bloom filter')\n",
      "('\"7DJ5WK27B2\"', 'is in the bloom filter')\n",
      "('\"PQMMS9GWOV\"', 'is in the bloom filter')\n",
      "('\"MV31GUDU33\"', 'is in the bloom filter')\n",
      "('\"1VIQ2SCPUB\"', 'is not in the bloom filter')\n",
      "('\"KZZFL1LUEX\"', 'is in the bloom filter')\n",
      "('\"EXMM4RCUS3\"', 'is in the bloom filter')\n",
      "('\"G65MXPFELJ\"', 'is not in the bloom filter')\n",
      "('\"4018CFDP1G\"', 'is in the bloom filter')\n",
      "('\"F63X4X3Y39\"', 'is not in the bloom filter')\n",
      "('\"YSJLWDV3CL\"', 'is in the bloom filter')\n",
      "('\"DDCFBXT63S\"', 'is in the bloom filter')\n",
      "('\"7O1FRBT4ZW\"', 'Returned a false positive')\n",
      "('\"WVKY3PT32P\"', 'is not in the bloom filter')\n",
      "('\"24QRJLBD68\"', 'is in the bloom filter')\n",
      "('\"1ALSYY55DG\"', 'is in the bloom filter')\n",
      "('\"HH2QZKU30Z\"', 'is not in the bloom filter')\n",
      "('\"PRHK13XY48\"', 'is not in the bloom filter')\n",
      "('\"31FTTW9VFH\"', 'is in the bloom filter')\n",
      "('\"9L8UKB7ZIQ\"', 'is not in the bloom filter')\n",
      "('\"LCVZS8YFOU\"', 'is in the bloom filter')\n",
      "('\"RP121GVFQF\"', 'is not in the bloom filter')\n",
      "('\"EIM0A253KX\"', 'Returned a false positive')\n",
      "('\"FAMCZSWP8G\"', 'is in the bloom filter')\n",
      "('\"M6IE9ZA7E0\"', 'is not in the bloom filter')\n",
      "('\"1M0P7N1H10\"', 'is in the bloom filter')\n",
      "('\"4ZXDIICT5G\"', 'is not in the bloom filter')\n",
      "('\"M32Q4K0RIZ\"', 'is in the bloom filter')\n",
      "('\"EZN07BXAZQ\"', 'Returned a false positive')\n",
      "('\"SND2X2K2KM\"', 'is not in the bloom filter')\n",
      "('\"EA0MJ9OI55\"', 'is in the bloom filter')\n",
      "('\"A1ROGTDGY6\"', 'is not in the bloom filter')\n",
      "('\"7K84KKBMRQ\"', 'is in the bloom filter')\n",
      "('\"6NUG1AP2XP\"', 'is in the bloom filter')\n",
      "('\"5NJ7U8O1AT\"', 'is not in the bloom filter')\n",
      "('\"ZRUDCNVE7M\"', 'is not in the bloom filter')\n",
      "('\"XFPGWE6C0I\"', 'is in the bloom filter')\n",
      "('\"QLBUNF2FYN\"', 'is in the bloom filter')\n",
      "('\"JVAMTDQBV5\"', 'is not in the bloom filter')\n",
      "('\"11V8X5ZMQV\"', 'is not in the bloom filter')\n",
      "('\"5SRU1IP7J5\"', 'is not in the bloom filter')\n",
      "('\"I45V9PB6QB\"', 'is not in the bloom filter')\n",
      "('\"0FOKSWYD08\"', 'is not in the bloom filter')\n",
      "('\"R5LLWL47ED\"', 'is not in the bloom filter')\n",
      "('\"XUVZQZ2DYV\"', 'is in the bloom filter')\n",
      "('\"LDDZIQV0KP\"', 'is in the bloom filter')\n",
      "('\"8TUF7IOC4L\"', 'is not in the bloom filter')\n",
      "('\"Q145B9ABK5\"', 'is in the bloom filter')\n",
      "('\"UQ45NMQ4ZJ\"', 'is not in the bloom filter')\n",
      "('\"YEC7P9EORG\"', 'is in the bloom filter')\n",
      "('\"3WWEN5IVBW\"', 'is in the bloom filter')\n",
      "('\"A0H0KHV21T\"', 'is in the bloom filter')\n",
      "('\"ESB5Q1RDCI\"', 'Returned a false positive')\n",
      "('\"YI9BHJYKF5\"', 'is in the bloom filter')\n",
      "('\"YEPQHYSM5F\"', 'is not in the bloom filter')\n",
      "('\"CK9NG3SJG5\"', 'is in the bloom filter')\n",
      "('\"WMQHYGYOY8\"', 'is in the bloom filter')\n",
      "('\"GLVQ57PXIM\"', 'is in the bloom filter')\n",
      "('\"QG7STCJUX4\"', 'is not in the bloom filter')\n",
      "('\"P55VL0N1LO\"', 'is not in the bloom filter')\n",
      "('\"OOX6E0HZTW\"', 'is not in the bloom filter')\n",
      "('\"MH8J3C70LU\"', 'is not in the bloom filter')\n",
      "('\"O6SQC40UOV\"', 'is not in the bloom filter')\n",
      "('\"94VAIA4L3K\"', 'is not in the bloom filter')\n",
      "('\"A0OS71KMG7\"', 'is in the bloom filter')\n",
      "('\"LCKFDPLOJY\"', 'is not in the bloom filter')\n",
      "('\"TWPFJR3IHH\"', 'is in the bloom filter')\n",
      "('\"X3D5X3Z013\"', 'is not in the bloom filter')\n",
      "('\"OR8OUO4WFF\"', 'is not in the bloom filter')\n",
      "('\"WQLPLXI70X\"', 'is in the bloom filter')\n",
      "('\"SL2E8E4XMA\"', 'Returned a false positive')\n",
      "('\"21DVFDME5M\"', 'is in the bloom filter')\n",
      "('\"J9DEP3RJAH\"', 'is in the bloom filter')\n",
      "('\"H7C02L6EEC\"', 'is in the bloom filter')\n",
      "('\"DC8KT7YWZE\"', 'is in the bloom filter')\n",
      "('\"JZL31RQJG2\"', 'is in the bloom filter')\n",
      "('\"UYKRS3QRMX\"', 'is in the bloom filter')\n",
      "('\"ECGAP9F94B\"', 'is in the bloom filter')\n",
      "('\"W6KA7LX0DX\"', 'is in the bloom filter')\n",
      "('\"0UMQUKUI43\"', 'is in the bloom filter')\n",
      "('\"81VA9J155N\"', 'is in the bloom filter')\n",
      "('\"9SWCOZLAWL\"', 'is in the bloom filter')\n",
      "('\"ZBJTGZ9ZUH\"', 'is not in the bloom filter')\n",
      "('\"QF8GBLXQJI\"', 'is in the bloom filter')\n",
      "('\"6Z6SQMYY9H\"', 'is not in the bloom filter')\n",
      "('\"I4BL0OLIDW\"', 'is in the bloom filter')\n",
      "('\"2OWWDCXODB\"', 'is in the bloom filter')\n",
      "('\"B1FVC3WTGY\"', 'is not in the bloom filter')\n",
      "('\"BSB758ZA23\"', 'is in the bloom filter')\n",
      "('\"7LGL1BG21Y\"', 'is not in the bloom filter')\n",
      "('\"5C2N1Z92KT\"', 'is in the bloom filter')\n",
      "('\"SBYKACVTK6\"', 'is not in the bloom filter')\n",
      "('\"K4NMW0FCOQ\"', 'Returned a false positive')\n",
      "('\"0AMBU8E9EB\"', 'is not in the bloom filter')\n",
      "('\"GTSYA8E3H8\"', 'is in the bloom filter')\n",
      "('\"C70XVUYSHT\"', 'is not in the bloom filter')\n",
      "('\"5Z2BIOBSZC\"', 'is in the bloom filter')\n",
      "('\"QNBWA1XM5L\"', 'is in the bloom filter')\n",
      "('\"YR0RGTODAR\"', 'is in the bloom filter')\n",
      "('\"8KNP9K53U4\"', 'Returned a false positive')\n",
      "('\"8DBW8X9B64\"', 'is not in the bloom filter')\n",
      "('\"YFOOC8FG1R\"', 'is in the bloom filter')\n",
      "('\"T6WVF0R6QK\"', 'Returned a false positive')\n",
      "('\"63THNY29F7\"', 'is not in the bloom filter')\n",
      "('\"N35QSYOMZA\"', 'is in the bloom filter')\n",
      "('\"CLRDRO3X24\"', 'is in the bloom filter')\n",
      "('\"8KF9P1G9G1\"', 'is in the bloom filter')\n",
      "('\"VOZPXZT6HV\"', 'is in the bloom filter')\n",
      "('\"P8WWD5WJTM\"', 'is not in the bloom filter')\n",
      "('\"D06X8IZ78F\"', 'is in the bloom filter')\n",
      "('\"DZU8R7AOCU\"', 'is not in the bloom filter')\n",
      "('\"HMWW9ROWET\"', 'is not in the bloom filter')\n",
      "('\"2PEXO4T43T\"', 'is in the bloom filter')\n",
      "('\"TRG40307SC\"', 'is in the bloom filter')\n",
      "('\"KSGB05XJRH\"', 'is not in the bloom filter')\n",
      "('\"66GQBA6AOK\"', 'is not in the bloom filter')\n",
      "('\"RK8AN4R5SA\"', 'is not in the bloom filter')\n",
      "('\"NGXZTWC4SK\"', 'is not in the bloom filter')\n",
      "('\"2X5HF505I4\"', 'is not in the bloom filter')\n",
      "('\"YRDL0MBBXH\"', 'Returned a false positive')\n",
      "('\"0KHE8HO3BC\"', 'is in the bloom filter')\n",
      "('\"47I2GFYDF5\"', 'is not in the bloom filter')\n",
      "('\"5KCHD6R4RZ\"', 'is not in the bloom filter')\n",
      "('\"TZFH8DDW87\"', 'is not in the bloom filter')\n",
      "('\"NTXZQFBY0I\"', 'Returned a false positive')\n",
      "('\"4HX434JTGK\"', 'is not in the bloom filter')\n",
      "('\"LN41FBOMCU\"', 'is not in the bloom filter')\n",
      "('\"M4V7816MD3\"', 'is in the bloom filter')\n",
      "('\"I186EMKZ7V\"', 'is not in the bloom filter')\n",
      "('\"EDAJE57SH6\"', 'Returned a false positive')\n",
      "('\"ZSB8F7YFXR\"', 'is not in the bloom filter')\n",
      "('\"0U71OVMCS5\"', 'is not in the bloom filter')\n",
      "('\"NXFAHVS610\"', 'is in the bloom filter')\n",
      "('\"UHN5GX69QE\"', 'is not in the bloom filter')\n",
      "('\"OW0R152GNK\"', 'is in the bloom filter')\n",
      "('\"1IM0NU5APO\"', 'Returned a false positive')\n",
      "('\"PR2VYWXLH7\"', 'is in the bloom filter')\n",
      "('\"OUYBM5CI0W\"', 'is not in the bloom filter')\n",
      "('\"V3FV83CNXO\"', 'is not in the bloom filter')\n",
      "('\"O22KV9E1HT\"', 'is not in the bloom filter')\n",
      "('\"14PELDFM2W\"', 'is in the bloom filter')\n",
      "('\"6OHFC7BWLK\"', 'is not in the bloom filter')\n",
      "('\"9ZQG1YCHEX\"', 'is not in the bloom filter')\n",
      "('\"0IQ8073CLR\"', 'is not in the bloom filter')\n",
      "('\"7ZWZCP7OTJ\"', 'is in the bloom filter')\n",
      "('\"WW9B15CC0U\"', 'is not in the bloom filter')\n",
      "('\"PNAG7PM9OK\"', 'is in the bloom filter')\n",
      "('\"5HZ328BP1P\"', 'is in the bloom filter')\n",
      "('\"LTE4DZOABL\"', 'is not in the bloom filter')\n",
      "('\"VMJLYGO1RA\"', 'is in the bloom filter')\n",
      "('\"PJ9CHLQJL2\"', 'is in the bloom filter')\n",
      "('\"ELORWNI0EO\"', 'is in the bloom filter')\n",
      "('\"MRRARHOEE1\"', 'is not in the bloom filter')\n",
      "('\"LP2AH2NAQT\"', 'is in the bloom filter')\n",
      "('\"VYJDBBT8PG\"', 'is in the bloom filter')\n",
      "('\"C8TTS569HH\"', 'is in the bloom filter')\n",
      "('\"2VCF4FP62W\"', 'is not in the bloom filter')\n",
      "('\"KG4OST5A7S\"', 'is in the bloom filter')\n",
      "('\"J84O6G19UN\"', 'is not in the bloom filter')\n",
      "('\"UY3X4SGI9U\"', 'is in the bloom filter')\n",
      "('\"A5581EM46K\"', 'is in the bloom filter')\n",
      "('\"MQN6FEE5XV\"', 'Returned a false positive')\n",
      "('\"M1G09VHZRQ\"', 'is in the bloom filter')\n",
      "('\"CVVA8FCRWB\"', 'is not in the bloom filter')\n",
      "('\"RDQTSJ8GWE\"', 'Returned a false positive')\n",
      "('\"IB0WX447PL\"', 'is in the bloom filter')\n",
      "('\"NAH0L8PAEB\"', 'is in the bloom filter')\n",
      "('\"9FIU9YM3CH\"', 'is not in the bloom filter')\n",
      "('\"BBO2W5MN6J\"', 'Returned a false positive')\n",
      "('\"WJVZMZW8QA\"', 'is not in the bloom filter')\n",
      "('\"MQH6LHVR5L\"', 'is not in the bloom filter')\n",
      "('\"KQLR61MILS\"', 'Returned a false positive')\n",
      "('\"JXVH49MDZI\"', 'is in the bloom filter')\n",
      "('\"GJZU79XX4P\"', 'is in the bloom filter')\n",
      "('\"Q9QGC14U91\"', 'is in the bloom filter')\n",
      "('\"9AKV8YEOA8\"', 'Returned a false positive')\n",
      "('\"F2FGYSRWZW\"', 'is in the bloom filter')\n",
      "('\"LKD7YXRLMU\"', 'is in the bloom filter')\n",
      "('\"77JWJZU8ZG\"', 'is not in the bloom filter')\n",
      "('\"ELZZU0HUZX\"', 'is in the bloom filter')\n",
      "('\"BJM47BBFNX\"', 'is in the bloom filter')\n",
      "('\"ACPLPKNWGH\"', 'is in the bloom filter')\n",
      "('\"PLZQWYHR9J\"', 'is in the bloom filter')\n",
      "('\"9SQVTDOFIA\"', 'is not in the bloom filter')\n",
      "('\"5ZSWNQMI80\"', 'is not in the bloom filter')\n",
      "('\"T9F1YDXOPW\"', 'Returned a false positive')\n",
      "('\"U5Z9IP1Q08\"', 'is in the bloom filter')\n",
      "\n",
      " \n",
      "\n",
      "('Empirical False Positive Rate:', 15)\n",
      "('Theoretical False Positive Rate', 14.6341542702965)\n"
     ]
    }
   ],
   "source": [
    "import mmh3  #importing the murmurhash3 libarary neccessary for hash functions \n",
    "import math #importing the math library that will be used for some caclulations\n",
    "import random\n",
    "import string #import this library to generate random strings\n",
    "import matplotlib.pyplot as plt #for plotting\n",
    "\n",
    "class bloomfilters:  #identifying the main class\n",
    "    def __init__(self, n, k): #initializing the main class\n",
    "        self.bits_count = n  #That's the number of bits\n",
    "        self.hash_count = k #that's the number of hash functions\n",
    "        self.bit_array = [0]*self.bits_count  #Making an array with n number of bits \n",
    "        self.item_count = 0 #setting a count here for the number of items stored\n",
    "        \n",
    "    def insert(self, item): #the insertion ccommand with run time O(k)\n",
    "        for i in range(self.hash_count): #running inserted item through all the hash functions\n",
    "            ind = mmh3.hash(item, i) % self.bits_count  #setting the indices for the items\n",
    "            self.bit_array[ind] = 1  #setting these indices to 1 to store them in the bloom filter\n",
    "        self.item_count+=1   #counting the number of items stored to use that count in the theoretical calculation of th rate\n",
    "        return self.bit_array \n",
    "    \n",
    "    def search(self, item): #the searching command with run time O(K)\n",
    "        for i in range(self.hash_count):  #finding the indicies for the item to be searched\n",
    "            ind = mmh3.hash(item, i) % self.bits_count  \n",
    "            if self.bit_array[ind] == 0:  #checking whether that item exists or not in the filter\n",
    "                return False\n",
    "        return True\n",
    "    \n",
    "    def prob(self):   #This command is to calculate the accurate theoretical probability\n",
    "        b =  self.bits_count / self.item_count  #number of bits per item\n",
    "        probability =  (.5)**(math.log(2)*b) # Calculating the theoretical false positive probability \n",
    "        return probability\n",
    "    \n",
    "\n",
    "\n",
    "added_words= []  #generating a list of random words to store in the filter\n",
    "Not_added_words = [] #generating a list of words to test with\n",
    "for _ in range(100):  #Using that loop to generate 100 words\n",
    "    x = ''.join(random.choice(string.ascii_uppercase + string.digits) for _ in range(10)) #this command is from the string library to generate random words\n",
    "    y = ''.join(random.choice(string.ascii_uppercase + string.digits) for _ in range(10))\n",
    "    added_words.append(x) \n",
    "    Not_added_words.append(y)\n",
    "\n",
    "\n",
    "test_words = added_words+ Not_added_words  #adding the above lists to make a new list to test with\n",
    "random.shuffle(test_words)\n",
    "def test():  #this function is used to test the bloom filter\n",
    "    test_list = []  #I will use this list to know when the bloom filter returns a false positive.\n",
    "    s = len(added_words) #number of items stored\n",
    "    b = 4 # Here I'm adding a value for the bits per array to use it to get an appropriate number of bits\n",
    "    n = b*s #number of bits\n",
    "    k = int(math.log(2) * b)  #optimal number for hash functions\n",
    "    \n",
    "    bf =   bloomfilters(n, k) #starting the bloom filter \n",
    "\n",
    "    for i in added_words: \n",
    "        bf.insert(i)  #adding the words to the bloom filter \n",
    "        test_list.append(i) #adding the same words to the test list to catch the false positive\n",
    "        \n",
    "    \n",
    "    error = 0  # this will be used to count the number of false positive\n",
    "    total = 0 #this will be used to count the total number of positives returned by the bloom\n",
    "    \n",
    "    for i in test_words:\n",
    "        if bf.search(i): \n",
    "            total+=1 #if the bloom returns positive about that item, will increase the numer of total by 1\n",
    "            if i in test_list: \n",
    "                print ('\"' +str(i)+'\"', \"is in the bloom filter\") #then if that number is in the test list then the bloom didn't lie\n",
    "            else:\n",
    "                print('\"' +str(i)+'\"', \"Returned a false positive\") #but if it's not then the bloom is returning a false positive\n",
    "                error+=1\n",
    "                \n",
    "                \n",
    "        else:\n",
    "            print('\"' +str(i)+'\"', \"is not in the bloom filter\")\n",
    "    print(\"\\n \\n\")\n",
    "    print(\"Empirical False Positive Rate:\",int((error/total)*100))      \n",
    "    print(\"Theoretical False Positive Rate\",bf.prob()*100)\n",
    "test()"
   ]
  },
  {
   "cell_type": "markdown",
   "metadata": {
    "collapsed": false
   },
   "source": [
    "As I mentioned before while I was calculating the probability of false positive, we must have independent and uniformly distributed hash functions, and they should be as fast as possible. That's why I chose the murmurhash3 functions which are a set of fast hash functions that are independent and uniformly distributed, they use 3 basic operations as a whole: Multiply, Rotate and XOR so using them maximize the quality of the distribution, and minimize the number of collisions. Saying that, I can tell that the error rate in my implementation is given by the equation:  $.5^{ln(2)*b}$ as proved in the introduction above"
   ]
  },
  {
   "cell_type": "markdown",
   "metadata": {
    "collapsed": false
   },
   "source": [
    "## Memory size as a function of the false positive rate\n",
    "As I mentioned before, the memory size of bloom filters is a function of the number of bits in the filter which means that the space complexity is O(n) where n is the number of bits in the bits array. From the error rate equation $r = .5^{ln(2)* n/s}$ we find that n = $ \\frac{-s*ln(r)}{ln(2)*ln(.5)} $\n",
    "\n",
    "The s is the number of words that I need to store which is constant in my implementation because I run it for the same number of words everytime so the number of bits is independent on the number of items stored so the memory size complexity = -C* ln(r) which is O(ln(1/r)). \n",
    "\n",
    "The following graph ilusstrates this relationship:"
   ]
  },
  {
   "cell_type": "code",
   "execution_count": 2,
   "metadata": {
    "collapsed": false
   },
   "outputs": [
    {
     "data": {
      "image/png": "[encoded data removed]"
     },
     "execution_count": 2,
     "metadata": {
     },
     "output_type": "execute_result"
    }
   ],
   "source": [
    "def r_n(): #defining a function to plot the relationship between the false positive rate and the number of bits which represents the memory\n",
    "    test_list = [] #Again as above, bringing a test list here to catch the bloom filter when it lies \n",
    "    s = len(added_words)\n",
    "    array_size = [] #Number of bits in the array\n",
    "    error_rate = [] #this list will contain the different values for the false positive rate\n",
    "    theo_error_rate = [] #this list will contain different values for the theoretical false positive rate\n",
    "    for n in range(100, 1000): #adding different numbers for the bits\n",
    "        array_size.append(n) \n",
    "        k = int(math.log(2) * (n/s)) #Using the optimal number of hash functions\n",
    "        bf = bloomfilters(n, k) #starting a new bloom filter with the above values\n",
    "        for i in added_words: \n",
    "                bf.insert(i)  #inserting the values into the bloom filter\n",
    "                test_list.append(i) #inserting the same values in the test list (to catch the liar bloom filter :D )\n",
    "        total = 0  #again as previously, using these to calculate the empirical false positive\n",
    "        error = 0\n",
    "        for i in test_words:  \n",
    "            if bf.search(i):  #if the bloom returns a positive about the item,then I increment total by 2\n",
    "                total+=1\n",
    "                if i not in test_list: #if the item is not in the list then it's a false positive\n",
    "                    error+=1\n",
    "                    \n",
    "        errorRate = error/total  #calculating the false positive rate \n",
    "        \n",
    "        error_rate.append(errorRate)  #Appending the emprirical false positive rate \n",
    "        theo_error_rate.append(bf.prob()) #Appending the theoreitical false positive rate \n",
    "            \n",
    "    #Here, I'm making the best out of the #dataviz HC :D\n",
    "    \n",
    "    plt.plot(theo_error_rate,array_size, label = \"Theoretical\") \n",
    "    plt.xlabel(\"False Positive rate\")\n",
    "    plt.ylabel(\"Number of Bits (n)\")\n",
    "    plt.plot(error_rate,array_size ,label = \"empirical\")\n",
    "    plt.legend()\n",
    "    plt.title(\" False Positive Rate VS Number of bits(representing the memory size)\")\n",
    "    plt.show()\n",
    "\n",
    "\n",
    "r_n()\n",
    "\n",
    "\n",
    "#Please note that the following plot has some noise that can be eliminated by running several times for each n and then plotting the averages but If I do that, it \n",
    "#will take a long running time so I skipped that step."
   ]
  },
  {
   "cell_type": "markdown",
   "metadata": {
    "collapsed": false
   },
   "source": [
    "## Memory size as a function of the number of items stored\n",
    "\n",
    "The number of items that are stored is constant because I run my implementation with the same number of words every time. Also, the number of bits is independent on the number of item stored because for any number of items I can assign the bloom filter any number of bits. So the memory size as a function in the items stored is O(constant). \n",
    "\n",
    "As illustrated by the following:"
   ]
  },
  {
   "cell_type": "code",
   "execution_count": 3,
   "metadata": {
    "collapsed": false
   },
   "outputs": [
    {
     "data": {
      "image/png": "[encoded data removed]"
     },
     "execution_count": 3,
     "metadata": {
     },
     "output_type": "execute_result"
    }
   ],
   "source": [
    "def s_n(): #this is a function to show the relationship between the nuber of items stored and the number of bits which reoresents the memory size\n",
    "\n",
    "    items_number = [] #list to store the different number of items to plot\n",
    "    bits_number = []  #list to store the differnt number of bits\n",
    "    added_words= []   \n",
    "    Not_added_words = []\n",
    "    for s in range(100):  #different values for the items to be stored\n",
    "        items_number.append(s)  \n",
    "        for _ in range(s):\n",
    "            x = ''.join(random.choice(string.ascii_uppercase + string.digits) for _ in range(10))  #generating random strings\n",
    "            y = ''.join(random.choice(string.ascii_uppercase + string.digits) for _ in range(10))\n",
    "            added_words.append(x)\n",
    "            Not_added_words.append(y)\n",
    "        test_words = added_words+ Not_added_words  #generating test words\n",
    "        random.shuffle(test_words)\n",
    "        bf =bloomfilters(10, 10) #starting the bloom filter with values for the hash functions and the number of bits independent of the number of items stored\n",
    "        for i in added_words:\n",
    "            bf.insert(i)\n",
    "        bits_number.append(bf.bits_count)   #adding the number of bits\n",
    "            \n",
    "            \n",
    "        \n",
    "    #Plotting: \n",
    "    \n",
    "    plt.xlabel(\"Number of items stored\")\n",
    "    plt.ylabel(\"Number of bits (Memory)\")\n",
    "    plt.plot(items_number, bits_number )\n",
    "    plt.legend()\n",
    "    plt.title(\"Number of bits VS Number of items stored\")\n",
    "    plt.show()\n",
    "    \n",
    "\n",
    "s_n()\n",
    "\n",
    "#The following graph shows that as the number of items stored increases, the number of bits (memory) doesn't change:  n = O(constant)"
   ]
  },
  {
   "cell_type": "markdown",
   "metadata": {
    "collapsed": false
   },
   "source": [
    "## Access time as a function of the false positive rate\n",
    "The run time for search and insert operations of my implementaion is O(k) where k is the number of hash functions. That's because the search and insert go through all the hash functions with a for loop to generate indices which takes K time and then updates or checks the values of these indices in a constant time. So the access time in a function of K is O(k).  k = $\\frac{n}{s} * ln(2) $ then replacing $\\frac{n}{s}$ with its optimal value which is $ \\frac{ln(r)}{ln(2)*ln(.5)} $ then we get that k = $\\frac{ln(r)}{ln(.5)}$  then the access time as a function of the false positive probability is O(ln(1/r)). \n",
    "\n",
    "This relationship is illustrated by the following graph:"
   ]
  },
  {
   "cell_type": "code",
   "execution_count": 4,
   "metadata": {
    "collapsed": false
   },
   "outputs": [
    {
     "data": {
      "image/png": "[encoded data removed]"
     },
     "execution_count": 4,
     "metadata": {
     },
     "output_type": "execute_result"
    }
   ],
   "source": [
    "def r_k(): #this function shows the relationship between the false positive rate and the number of hash functions which represents the run time\n",
    "    test_list = []\n",
    "    s = len(added_words) \n",
    "    array_size = []  #List to store different values for hash functions\n",
    "    error_rate = [] #List to store different values for the empirical false positive rate\n",
    "    theo_error_rate = [] #list to store different values for the empirical false positive rate\n",
    "\n",
    "    for k in range(0, 50):  #using different values for the hash functions\n",
    "        array_size.append(k)\n",
    "       \n",
    "        n= int(s*k/math.log(2)) #optimal value for the number of bits\n",
    "        bf = bloomfilters(n, k) #starting the bloom filter with these values\n",
    "        \n",
    "        for i in added_words:   #adding items in the bloom filter and the test list\n",
    "                bf.insert(i)  \n",
    "                test_list.append(i)\n",
    "        total = 0  #setting these values to calculate the false positive probability\n",
    "        error = 0\n",
    "        for i in test_words: \n",
    "            if bf.search(i):  #searching for the item and incrementing total by 1 if bf returns True\n",
    "                total+=1\n",
    "                if i not in test_list: #Incrementing error if the item is not in the test list\n",
    "                    error+=1\n",
    "                    \n",
    "        errorRate = error/total\n",
    "        \n",
    "        error_rate.append(errorRate)  #Adding the value of the empirical false probability to the list\n",
    "        theo_error_rate.append(bf.prob())  #Adding the value of the theoretical false probability to the list\n",
    "            \n",
    "    #plotting:   \n",
    "\n",
    "    plt.plot(theo_error_rate,array_size, label = \"Theoretical\")\n",
    "    plt.xlabel(\"False Positive Rate\")\n",
    "    plt.ylabel(\"Number of hash functions (represent Access Time)\")\n",
    "    plt.plot(error_rate,array_size, label = \"empirical\")\n",
    "    plt.legend()\n",
    "    plt.title(\"False Positive Rate VS Access Time\")\n",
    "    plt.show()\n",
    "r_k()\n",
    "\n",
    "\n",
    "#The following graph shows the relationship between the false positive probability and the number of hash functions which undergoes: k= O(ln(1/r))"
   ]
  },
  {
   "cell_type": "markdown",
   "metadata": {
    "collapsed": false
   },
   "source": [
    "## Access time as a function of the number of items stored\n",
    "Again, the number of items in my implementation is constant and so it doesn't affect the run time because the run time depends on the number of hash functions because in any case we just need to run the inputs through all the hash functions. Then changing the number of items stored will not affect the run time and so the access time in terms of items stored is O(Constant)"
   ]
  },
  {
   "cell_type": "code",
   "execution_count": 5,
   "metadata": {
    "collapsed": false
   },
   "outputs": [
    {
     "data": {
      "image/png": "[encoded data removed]"
     },
     "execution_count": 5,
     "metadata": {
     },
     "output_type": "execute_result"
    }
   ],
   "source": [
    "def s_n():  #This function is used to show the relationship between the number of items stored and the number of hash functions\n",
    "\n",
    "    items_number = []  #list to store the number of items stored\n",
    "    hash_number = []  #list to store the number of hash functions\n",
    "    added_words= []\n",
    "    Not_added_words = []\n",
    "    for s in range(100):  #generating different values for the number of items to be stored:\n",
    "        items_number.append(s)\n",
    "        for _ in range(s):\n",
    "            x = ''.join(random.choice(string.ascii_uppercase + string.digits) for _ in range(10))\n",
    "            y = ''.join(random.choice(string.ascii_uppercase + string.digits) for _ in range(10))\n",
    "            added_words.append(x)\n",
    "            Not_added_words.append(y)\n",
    "        test_words = added_words+ Not_added_words #generating a list of words to test with\n",
    "        random.shuffle(test_words)\n",
    "        bf =bloomfilters(10, 10)  #starting the bloom filter with values for n and k independent of the number of items stored\n",
    "        for i in added_words:\n",
    "            bf.insert(i)\n",
    "        hash_number.append(bf.hash_count)   #adding the number of bits\n",
    "            \n",
    "            \n",
    "        \n",
    "    #Plotting:\n",
    "    \n",
    "    plt.xlabel(\"Number of items added\")\n",
    "    plt.ylabel(\"Number of hash functions (represent access time)\")\n",
    "    plt.plot(items_number, hash_number )\n",
    "    plt.legend()\n",
    "    plt.title(\"Number of items added VS Access time\")\n",
    "    plt.show()\n",
    "    \n",
    "\n",
    "s_n()\n",
    "\n",
    "\n",
    "#The following grapg shows that as the number of items stored increases, the number of hash functions stays the same: k = O(constant)"
   ]
  },
  {
   "cell_type": "markdown",
   "metadata": {
    "collapsed": false
   },
   "source": [
    "## Implementation’s false positive rate VS theoretically expected rate.\n",
    "\n",
    "In the introduction section, I proved that the false positive rate of the optimal bloom filter should equal to $$.5^{ln(2)*b}$$. The bloom filter in my implementation takes as input the number of array bits and the number of hash function. So in order to prove that my implementation matches the theoretically expected rate mentioned, I will generate two plots, one that shows the effect on the false positive rate when the number of array bits increase and the other shows the effect on the false positive rate when the number of hash functions increase and I will compare the empirical and the theoretical implementation in each graph as the follwoing:"
   ]
  },
  {
   "cell_type": "code",
   "execution_count": 6,
   "metadata": {
    "collapsed": false
   },
   "outputs": [
    {
     "data": {
      "image/png": "[encoded data removed]"
     },
     "execution_count": 6,
     "metadata": {
     },
     "output_type": "execute_result"
    }
   ],
   "source": [
    "def prob_test():  #this function shows the effect on the false positive rate when the number of bits increase\n",
    "    test_list = []\n",
    "    s = len(added_words)  #number of items stored\n",
    "    array_size = []  #List to store the number of bits \n",
    "    error_rate = [] #list to store the empirical error rates\n",
    "    theo_error_rate = []  #list to store the theoretical error rates\n",
    "    for n in range(150, 2000, 5):  #Because I have 100 items stored, I will start the number of bits as 150 and then will keep increasing it by 5 to have a variety of bits number\n",
    "        array_size.append(n)\n",
    "        k = int(math.log(2) * (n/s)) #using the optimal number of hash functions\n",
    "        bf = bloomfilters(n, k) #starting the bloom filter with these values\n",
    "        \n",
    "        for i in added_words: \n",
    "                bf.insert(i)  #inserting the items in both the bloof filter and the list\n",
    "                test_list.append(i)\n",
    "        total = 0\n",
    "        error = 0\n",
    "        for i in test_words:   #searching for the itema nd incrementing the total by 1 when bf returns True\n",
    "            if bf.search(i):\n",
    "                total+=1\n",
    "                if i not in test_list:  #incrementing the error by 1 when the item is not in the list\n",
    "                    error+=1\n",
    "                    \n",
    "        errorRate = error/total #calculating the false positive rate \n",
    "        \n",
    "        error_rate.append(errorRate)  #Appending the empirical value for the error rate\n",
    "        theo_error_rate.append(bf.prob())  #appending the theoretical value for the error rate\n",
    "            \n",
    "    #plotting:\n",
    "\n",
    "    plt.plot(array_size,theo_error_rate, label = \"Theoretical\")\n",
    "    plt.xlabel(\"Number of Bits in the Array\")\n",
    "    plt.ylabel(\"False Positive Rate\")\n",
    "    plt.plot(array_size,error_rate, label = \"empirical\")\n",
    "    plt.legend()\n",
    "    plt.title(\"Number of Bits VS False Positive Rate\")\n",
    "    plt.show()\n",
    "prob_test()\n",
    "                    \n",
    "\n",
    "    \n"
   ]
  },
  {
   "cell_type": "markdown",
   "metadata": {
    "collapsed": false
   },
   "source": [
    "The graph above shows that when the number of bits increases while the number of hash functions remains optimal according to the equation k = $\\frac{n}{s}*ln(2)$, \n",
    "both the empirical and theoretical false positive rate match according to the equation $.5^{ln(2)*b}$ where b is $\\frac{n}{s}$ (the number of bits over the number of items stored)"
   ]
  },
  {
   "cell_type": "code",
   "execution_count": 7,
   "metadata": {
    "collapsed": false
   },
   "outputs": [
    {
     "data": {
      "image/png": "[encoded data removed]"
     },
     "execution_count": 7,
     "metadata": {
     },
     "output_type": "execute_result"
    }
   ],
   "source": [
    "def k_f(): # This function shows the effect of increasing the number of hash functions on the false positive probability\n",
    "    test_list = []  \n",
    "    s = len(added_words)  #number of items stored\n",
    "    array_size = []  #number of hash functions\n",
    "    error_rate = []  # emprical error rates\n",
    "    theo_error_rate = []  #theoretical error rates\n",
    "    b = 8  # Here, I'm using an optimal value for the number of bits per array to calculate an appropriate number of bits\n",
    "    for k in range(1, 50):  #generating different values for the hash functions\n",
    "        array_size.append(k)\n",
    "        n = b *len(added_words)  #number of bits\n",
    "        bf = bloomfilters(n, k)  #starting the bloom filter with these values\n",
    "        for i in added_words:  \n",
    "                bf.insert(i)  #inserting the items in both the bloom filter and the test list\n",
    "                test_list.append(i)\n",
    "        total = 0\n",
    "        error = 0\n",
    "        for i in test_words:  #searching for the word and incrementing total if the bf returns True\n",
    "            if bf.search(i):\n",
    "                total+=1\n",
    "                if i not in test_list: #incrementing error if the word is not in the list\n",
    "                    error+=1\n",
    "                    \n",
    "        errorRate = error/total  \n",
    "        \n",
    "        error_rate.append(errorRate)  #adding the false positive rate\n",
    "        probability =  (1-math.exp((-k/b)))**k  #calculating the theoretical probability using the number of hash functions and bits per item\n",
    "        theo_error_rate.append(probability)  \n",
    "      \n",
    "        \n",
    "    #Plotting:\n",
    "    plt.plot(array_size,theo_error_rate, label = \"Theoretical\")\n",
    "    plt.xlabel(\"Number of Hash Functions\")\n",
    "    plt.ylabel(\"False Positive Rate\")\n",
    "    plt.plot(array_size,error_rate, label = \"empirical\")\n",
    "    plt.legend()\n",
    "    plt.title(\"Number of Hash Functions VS False Positive Rate\")\n",
    "    plt.show()\n",
    "k_f()\n",
    "                    \n"
   ]
  },
  {
   "cell_type": "markdown",
   "metadata": {
    "collapsed": false
   },
   "source": [
    "The graph above shows that when the number of hash functions increases, while the number of bits remains constant, both the empirical and theoretical false positive rate match and decrease then suddenly increase. Please note that the global minimum of that plot is actually the optimal number of hash functions that must be used to reduce the false positive rate which is given by the equation: k = $\\frac{n}{s}*ln(2)$ before this value the false positive rate is decreasing and after it it's increasing. \n",
    "\n",
    "This is more clear in the interactive application attached below."
   ]
  },
  {
   "cell_type": "markdown",
   "metadata": {
    "collapsed": false
   },
   "source": [
    "##"
   ]
  },
  {
   "cell_type": "markdown",
   "metadata": {
    "collapsed": false
   },
   "source": [
    "As the purpose of this assignment is to explain bloom filter to one of my peers, I decided to build an interactive application to let my peers explore how the different parameters of bloom filters interact. \n",
    "\n",
    "The application has two interactive plots, the first one is a plot of the number of bits per item VS the false positive rate, it allows the user to add the values for K and see how that changes the graph. The goal of that model is to make students understand the concept of the optimal value for the number of hash functions as before that value the graph will show a decrease in the false positive rate and after it the graph will show an increase.\n",
    "\n",
    "\n",
    "The second one is a plot of the number of hash functions VS the false positive rate. Similar to the first one, students can enter different values for the number of bits and the number of items stored and see how that affect the graph. This plot can help students understand and visualize many things about bloom filters like seeing how the value of the optimal number of hash functions change (the minima of the function) and also exploring the optimal number of bits per array (the one that can decrease the false positve rate the most)"
   ]
  },
  {
   "cell_type": "markdown",
   "metadata": {
    "collapsed": false
   },
   "source": [
    "## Appendix\n",
    "\n",
    "##professionalism: I followed the established guidlines to present my work professionally.\n",
    "\n",
    "##audience: I made sure to make my assignment clear to my audience who are students who might have no prior knowledge about bloom filters. So I explained it clearly from scratch and mathematically proved every equation I used. To make things even more clear, I designed an interactive application for them to understand and visualize bloom filters more deeply.\n",
    "\n",
    "##composition: I used a clear and precise style to make my assignment understandable and easy to comprehend \n",
    "\n",
    "##modeling: I modeled two interactive plots to explain the parameters of bloom filters\n",
    "\n",
    "##correlation: In the last two plots, I used the correlation between the theoretical and empirical run time to prove that they match\n",
    "\n",
    "##Algorithms: I used algorithmic thinking to implement the bloom filters and empirically find the false positive rate and prove that it matches the theoretical one.\n",
    "\n",
    "##dataviz: I clearly created data visualizations with legends, titles and labels to make it clear and easy to understand and read.\n",
    "\n"
   ]
  },
  {
   "cell_type": "code",
   "execution_count": 0,
   "metadata": {
    "collapsed": false
   },
   "outputs": [
   ],
   "source": [
   ]
  }
 ],
 "metadata": {
  "kernelspec": {
   "display_name": "SageMath (stable)",
   "language": "sagemath",
   "name": "sagemath"
  },
  "language_info": {
   "codemirror_mode": {
    "name": "ipython",
    "version": 2
   },
   "file_extension": ".py",
   "mimetype": "text/x-python",
   "name": "python",
   "nbconvert_exporter": "python",
   "pygments_lexer": "ipython2",
   "version": "2.7.15"
  }
 },
 "nbformat": 4,
 "nbformat_minor": 0
}